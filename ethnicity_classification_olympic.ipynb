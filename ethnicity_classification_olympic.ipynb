{
  "nbformat": 4,
  "nbformat_minor": 0,
  "metadata": {
    "accelerator": "GPU",
    "colab": {
      "name": "ethnicity-classification-olympic.ipynb",
      "provenance": [],
      "collapsed_sections": [],
      "toc_visible": true,
      "include_colab_link": true
    },
    "kernelspec": {
      "display_name": "Python 3",
      "name": "python3"
    }
  },
  "cells": [
    {
      "cell_type": "markdown",
      "metadata": {
        "id": "view-in-github",
        "colab_type": "text"
      },
      "source": [
        "<a href=\"https://colab.research.google.com/github/PJL-Emily/ethnicity-classification-by-name/blob/main/ethnicity_classification_olympic.ipynb\" target=\"_parent\"><img src=\"https://colab.research.google.com/assets/colab-badge.svg\" alt=\"Open In Colab\"/></a>"
      ]
    },
    {
      "cell_type": "code",
      "metadata": {
        "colab": {
          "base_uri": "https://localhost:8080/"
        },
        "id": "ghGi2nA3p5RD",
        "outputId": "6b87db93-6307-496a-df91-3d74d82bda3b"
      },
      "source": [
        "from google.colab import drive\n",
        "drive.mount(\"/content/drive\", force_remount=True)"
      ],
      "execution_count": null,
      "outputs": [
        {
          "output_type": "stream",
          "text": [
            "Mounted at /content/drive\n"
          ],
          "name": "stdout"
        }
      ]
    },
    {
      "cell_type": "code",
      "metadata": {
        "id": "0HUEb1OAXFQv",
        "colab": {
          "base_uri": "https://localhost:8080/"
        },
        "outputId": "215172f9-5fc7-4547-b3d5-b1939631d3a1"
      },
      "source": [
        "import io\n",
        "import os\n",
        "import pandas as pd\n",
        "import numpy as np\n",
        "import tensorflow as tf\n",
        "import unicodedata as ud\n",
        "import copy\n",
        "import random\n",
        "import matplotlib.pyplot as plt\n",
        "import tqdm\n",
        "import torch\n",
        "\n",
        "\n",
        "from tensorflow.keras import Model, Sequential\n",
        "from tensorflow.keras.layers import Activation, Dense, Dot, Embedding, Flatten, GlobalAveragePooling1D, Reshape, Input, Conv1D, MaxPooling1D, concatenate, Dropout\n",
        "from tensorflow.keras.layers.experimental.preprocessing import TextVectorization\n",
        "from keras.optimizers import Adam\n",
        "from sklearn.utils import class_weight\n",
        "from sklearn.metrics import classification_report\n",
        "from imblearn.over_sampling import RandomOverSampler\n",
        "from imblearn.over_sampling import SMOTE, ADASYN"
      ],
      "execution_count": null,
      "outputs": [
        {
          "output_type": "stream",
          "text": [
            "/usr/local/lib/python3.7/dist-packages/sklearn/externals/six.py:31: FutureWarning: The module is deprecated in version 0.21 and will be removed in version 0.23 since we've dropped support for Python 2.7. Please rely on the official version of six (https://pypi.org/project/six/).\n",
            "  \"(https://pypi.org/project/six/).\", FutureWarning)\n",
            "/usr/local/lib/python3.7/dist-packages/sklearn/utils/deprecation.py:144: FutureWarning: The sklearn.neighbors.base module is  deprecated in version 0.22 and will be removed in version 0.24. The corresponding classes / functions should instead be imported from sklearn.neighbors. Anything that cannot be imported from sklearn.neighbors is now part of the private API.\n",
            "  warnings.warn(message, FutureWarning)\n"
          ],
          "name": "stderr"
        }
      ]
    },
    {
      "cell_type": "code",
      "metadata": {
        "colab": {
          "base_uri": "https://localhost:8080/"
        },
        "id": "b8B6g4pJoMV3",
        "outputId": "f4249da7-312e-4f73-e42b-ff76d3853574"
      },
      "source": [
        "%cd /content/drive/Shareddrives/weilao_research/olympic"
      ],
      "execution_count": null,
      "outputs": [
        {
          "output_type": "stream",
          "text": [
            "/content/drive/Shareddrives/weilao_research/olympic\n"
          ],
          "name": "stdout"
        }
      ]
    },
    {
      "cell_type": "markdown",
      "metadata": {
        "id": "sy4lwysmgr6u"
      },
      "source": [
        "# **Read Data**"
      ]
    },
    {
      "cell_type": "code",
      "metadata": {
        "id": "lKZdErPDr7Ld"
      },
      "source": [
        "athlete = pd.read_csv('./data/athlete_events.csv')\n",
        "# display(athlete)"
      ],
      "execution_count": null,
      "outputs": []
    },
    {
      "cell_type": "markdown",
      "metadata": {
        "id": "Wr7l0U77SRne"
      },
      "source": [
        "# **Preprocessing**"
      ]
    },
    {
      "cell_type": "markdown",
      "metadata": {
        "id": "ch3war42p5k7"
      },
      "source": [
        "## **Getting Unique Values**"
      ]
    },
    {
      "cell_type": "code",
      "metadata": {
        "id": "GoRWcBTbpldg"
      },
      "source": [
        "def uniqueIndices(df):\n",
        "    seen = set()\n",
        "    res = []\n",
        "    for i, n in enumerate(df['Name']):\n",
        "        if n not in seen:\n",
        "            res.append(i)\n",
        "            seen.add(n)\n",
        "    return res"
      ],
      "execution_count": null,
      "outputs": []
    },
    {
      "cell_type": "code",
      "metadata": {
        "id": "hwy_yb80ArzC"
      },
      "source": [
        "indices = uniqueIndices(athlete)\n",
        "athlete = athlete.iloc[indices, :].reset_index(drop = True)"
      ],
      "execution_count": null,
      "outputs": []
    },
    {
      "cell_type": "markdown",
      "metadata": {
        "id": "a_zW-yTGgvlO"
      },
      "source": [
        "## **Map Ethnicity**"
      ]
    },
    {
      "cell_type": "code",
      "metadata": {
        "id": "Y9OXftQWzbL-"
      },
      "source": [
        "muslim_countries = ['KAZ', 'AZE', 'UZB', 'TUR', 'TUN', 'MAR', 'ALG', 'LBA', 'EGY', 'SOM', 'SUD', 'SSD', \\\n",
        "            'UAE', 'IRQ', 'YEM', 'BRN', 'SYR', 'JOR', 'OMA', 'LBN', 'QAT', 'KUW', 'KSA', \\\n",
        "            'BAN', 'PAK', 'IRI', 'AFG']\n",
        "european_countries = ['CZE', 'SVK', 'HUN', 'POL', 'BIH', 'SRB', 'SLO', 'MNE', 'BUL', 'CRO', 'MKD', \\\n",
        "            'GER', 'AUT', 'NED', 'SUI', 'BEL', 'FRA', \\\n",
        "            'LAT', 'EST', 'LTU', 'RUS', 'BLR', 'UKR', 'ROU', 'ITA', 'URS']\n",
        "african_countries = ['CGO', 'COD', 'LBR', 'SEN', 'SLE', 'GBS', 'GEQ', 'GUI', 'PNG', \\\n",
        "            'ZAM', 'RWA', 'TAN', 'KEN', 'SSD', 'ETH', 'UGA', \\\n",
        "            'BOT', 'NAM', 'ZIM', 'RSA']\n",
        "eastasian_countries = ['CAM', 'THA', 'MYA', 'VIE', 'INA', 'MAS', \\\n",
        "             'SGP', 'HKG', 'CHN', 'TPE', 'KOR', 'JPN']\n",
        "southasian_countries = ['NEP', 'IND', 'SRI']\n",
        "hispanic_countries = ['DOM', 'DMA', 'URU', 'GUA', 'COL', 'VEN', 'CHI', 'PAN', \\\n",
        "            'BOL', 'ESA', 'ECU', 'ARG', 'HON', 'HBR', 'BIZ', 'PER', 'CRC', \\\n",
        "            'PAR', 'MEX', 'ESP', 'NCA', 'POR', 'BRA', 'ANG', 'MOZ', 'PHI']\n",
        "nordic_countries = ['DEN', 'SWE', 'NOR', 'FIN']"
      ],
      "execution_count": null,
      "outputs": []
    },
    {
      "cell_type": "code",
      "metadata": {
        "id": "EiM2TrGOyHgn"
      },
      "source": [
        "def NOC_to_ethnicity(noc):\n",
        "  if (noc in muslim_countries):\n",
        "    return 'muslim'\n",
        "  if (noc in european_countries):\n",
        "    return 'european'\n",
        "  if (noc in african_countries):\n",
        "    return 'african'\n",
        "  if (noc in eastasian_countries):\n",
        "    return 'eastasian'\n",
        "  if (noc in southasian_countries):\n",
        "    return 'southasian'\n",
        "  if (noc in hispanic_countries):\n",
        "    return 'hispanic'\n",
        "  if (noc in nordic_countries):\n",
        "    return 'nordic'\n",
        "  if (noc == 'GBR' or noc == 'IRL'):\n",
        "    return 'celticenglish'\n",
        "  if (noc == 'ISR'):\n",
        "    return 'jewish'\n",
        "  if (noc == 'GRE'):\n",
        "    return 'greece'\n",
        "  return 'other'"
      ],
      "execution_count": null,
      "outputs": []
    },
    {
      "cell_type": "code",
      "metadata": {
        "colab": {
          "base_uri": "https://localhost:8080/",
          "height": 306
        },
        "id": "Emnu427dXi2z",
        "outputId": "b77fe8e9-b5ff-4404-b8c9-326e579c962c"
      },
      "source": [
        "athlete['ethnicity'] = athlete['NOC'].apply(lambda m: NOC_to_ethnicity(m))\n",
        "display(athlete.head())"
      ],
      "execution_count": null,
      "outputs": [
        {
          "output_type": "display_data",
          "data": {
            "text/html": [
              "<div>\n",
              "<style scoped>\n",
              "    .dataframe tbody tr th:only-of-type {\n",
              "        vertical-align: middle;\n",
              "    }\n",
              "\n",
              "    .dataframe tbody tr th {\n",
              "        vertical-align: top;\n",
              "    }\n",
              "\n",
              "    .dataframe thead th {\n",
              "        text-align: right;\n",
              "    }\n",
              "</style>\n",
              "<table border=\"1\" class=\"dataframe\">\n",
              "  <thead>\n",
              "    <tr style=\"text-align: right;\">\n",
              "      <th></th>\n",
              "      <th>ID</th>\n",
              "      <th>Name</th>\n",
              "      <th>Sex</th>\n",
              "      <th>Age</th>\n",
              "      <th>Height</th>\n",
              "      <th>Weight</th>\n",
              "      <th>Team</th>\n",
              "      <th>NOC</th>\n",
              "      <th>Games</th>\n",
              "      <th>Year</th>\n",
              "      <th>Season</th>\n",
              "      <th>City</th>\n",
              "      <th>Sport</th>\n",
              "      <th>Event</th>\n",
              "      <th>Medal</th>\n",
              "      <th>ethnicity</th>\n",
              "    </tr>\n",
              "  </thead>\n",
              "  <tbody>\n",
              "    <tr>\n",
              "      <th>0</th>\n",
              "      <td>1</td>\n",
              "      <td>A Dijiang</td>\n",
              "      <td>M</td>\n",
              "      <td>24.0</td>\n",
              "      <td>180.0</td>\n",
              "      <td>80.0</td>\n",
              "      <td>China</td>\n",
              "      <td>CHN</td>\n",
              "      <td>1992 Summer</td>\n",
              "      <td>1992</td>\n",
              "      <td>Summer</td>\n",
              "      <td>Barcelona</td>\n",
              "      <td>Basketball</td>\n",
              "      <td>Basketball Men's Basketball</td>\n",
              "      <td>NaN</td>\n",
              "      <td>eastasian</td>\n",
              "    </tr>\n",
              "    <tr>\n",
              "      <th>1</th>\n",
              "      <td>2</td>\n",
              "      <td>A Lamusi</td>\n",
              "      <td>M</td>\n",
              "      <td>23.0</td>\n",
              "      <td>170.0</td>\n",
              "      <td>60.0</td>\n",
              "      <td>China</td>\n",
              "      <td>CHN</td>\n",
              "      <td>2012 Summer</td>\n",
              "      <td>2012</td>\n",
              "      <td>Summer</td>\n",
              "      <td>London</td>\n",
              "      <td>Judo</td>\n",
              "      <td>Judo Men's Extra-Lightweight</td>\n",
              "      <td>NaN</td>\n",
              "      <td>eastasian</td>\n",
              "    </tr>\n",
              "    <tr>\n",
              "      <th>2</th>\n",
              "      <td>3</td>\n",
              "      <td>Gunnar Nielsen Aaby</td>\n",
              "      <td>M</td>\n",
              "      <td>24.0</td>\n",
              "      <td>NaN</td>\n",
              "      <td>NaN</td>\n",
              "      <td>Denmark</td>\n",
              "      <td>DEN</td>\n",
              "      <td>1920 Summer</td>\n",
              "      <td>1920</td>\n",
              "      <td>Summer</td>\n",
              "      <td>Antwerpen</td>\n",
              "      <td>Football</td>\n",
              "      <td>Football Men's Football</td>\n",
              "      <td>NaN</td>\n",
              "      <td>nordic</td>\n",
              "    </tr>\n",
              "    <tr>\n",
              "      <th>3</th>\n",
              "      <td>4</td>\n",
              "      <td>Edgar Lindenau Aabye</td>\n",
              "      <td>M</td>\n",
              "      <td>34.0</td>\n",
              "      <td>NaN</td>\n",
              "      <td>NaN</td>\n",
              "      <td>Denmark/Sweden</td>\n",
              "      <td>DEN</td>\n",
              "      <td>1900 Summer</td>\n",
              "      <td>1900</td>\n",
              "      <td>Summer</td>\n",
              "      <td>Paris</td>\n",
              "      <td>Tug-Of-War</td>\n",
              "      <td>Tug-Of-War Men's Tug-Of-War</td>\n",
              "      <td>Gold</td>\n",
              "      <td>nordic</td>\n",
              "    </tr>\n",
              "    <tr>\n",
              "      <th>4</th>\n",
              "      <td>5</td>\n",
              "      <td>Christine Jacoba Aaftink</td>\n",
              "      <td>F</td>\n",
              "      <td>21.0</td>\n",
              "      <td>185.0</td>\n",
              "      <td>82.0</td>\n",
              "      <td>Netherlands</td>\n",
              "      <td>NED</td>\n",
              "      <td>1988 Winter</td>\n",
              "      <td>1988</td>\n",
              "      <td>Winter</td>\n",
              "      <td>Calgary</td>\n",
              "      <td>Speed Skating</td>\n",
              "      <td>Speed Skating Women's 500 metres</td>\n",
              "      <td>NaN</td>\n",
              "      <td>european</td>\n",
              "    </tr>\n",
              "  </tbody>\n",
              "</table>\n",
              "</div>"
            ],
            "text/plain": [
              "   ID                      Name  ... Medal  ethnicity\n",
              "0   1                 A Dijiang  ...   NaN  eastasian\n",
              "1   2                  A Lamusi  ...   NaN  eastasian\n",
              "2   3       Gunnar Nielsen Aaby  ...   NaN     nordic\n",
              "3   4      Edgar Lindenau Aabye  ...  Gold     nordic\n",
              "4   5  Christine Jacoba Aaftink  ...   NaN   european\n",
              "\n",
              "[5 rows x 16 columns]"
            ]
          },
          "metadata": {
            "tags": []
          }
        }
      ]
    },
    {
      "cell_type": "markdown",
      "metadata": {
        "id": "XPQFTEn4RpoQ"
      },
      "source": [
        "## *Distribution Bar Chart*"
      ]
    },
    {
      "cell_type": "code",
      "metadata": {
        "colab": {
          "base_uri": "https://localhost:8080/",
          "height": 365
        },
        "id": "8lG47Yk1YGtx",
        "outputId": "7a9078af-d949-4511-b6a9-b9d6015bf9bb"
      },
      "source": [
        "X = [0,1,2,3,4,5,6,7,8,9,10]\n",
        "ethnicity_counts = athlete['ethnicity'].value_counts()\n",
        "mapping_bar_chart = ethnicity_counts.plot.bar()\n",
        "\n",
        "#使用text顯示數值  \n",
        "for a,b in zip(X,ethnicity_counts):  \n",
        "  plt.text(a, b+0.05, '%.0f' % b, ha='center', va= 'bottom',fontsize=11) \n",
        "\n",
        "plt.xlabel('Ethnicity')\n",
        "plt.ylabel('Counts')\n",
        "plt.title('Bar chart')"
      ],
      "execution_count": null,
      "outputs": [
        {
          "output_type": "execute_result",
          "data": {
            "text/plain": [
              "Text(0.5, 1.0, 'Bar chart')"
            ]
          },
          "metadata": {
            "tags": []
          },
          "execution_count": 10
        },
        {
          "output_type": "display_data",
          "data": {
            "image/png": "[encoded data removed]",
            "text/plain": [
              "<Figure size 432x288 with 1 Axes>"
            ]
          },
          "metadata": {
            "tags": [],
            "needs_background": "light"
          }
        }
      ]
    },
    {
      "cell_type": "code",
      "metadata": {
        "colab": {
          "base_uri": "https://localhost:8080/"
        },
        "id": "snhK_QANvcGl",
        "outputId": "d3d680f4-adc7-4bb7-9afa-b4e9b68daaf4"
      },
      "source": [
        "athlete[\"Sex\"].value_counts()"
      ],
      "execution_count": null,
      "outputs": [
        {
          "output_type": "execute_result",
          "data": {
            "text/plain": [
              "M    100953\n",
              "F     33779\n",
              "Name: Sex, dtype: int64"
            ]
          },
          "metadata": {
            "tags": []
          },
          "execution_count": 11
        }
      ]
    },
    {
      "cell_type": "markdown",
      "metadata": {
        "id": "vj_o0gC6dp9Q"
      },
      "source": [
        "## **Drop Low Frequency Ethnicities**"
      ]
    },
    {
      "cell_type": "markdown",
      "metadata": {
        "id": "2ADGOwMGdMJa"
      },
      "source": [
        "Here we will temporarily drop \n",
        "* `other` (unable to predict)\n",
        "* (sample size too small)"
      ]
    },
    {
      "cell_type": "code",
      "metadata": {
        "id": "QNhVsqPHdoF4"
      },
      "source": [
        "for ethnicity in ['other', 'african', 'greece', 'southasian', 'jewish']:\n",
        "  indices = athlete[(athlete['ethnicity'] == ethnicity)].index\n",
        "  athlete.drop(indices, inplace=True)\n",
        "athlete = athlete.reset_index(drop=True)\n",
        "# display(athlete)"
      ],
      "execution_count": null,
      "outputs": []
    },
    {
      "cell_type": "code",
      "metadata": {
        "colab": {
          "base_uri": "https://localhost:8080/",
          "height": 139
        },
        "id": "J40RkXENOQPk",
        "outputId": "ee2769f3-2ce6-4033-bf43-80acb74294a0"
      },
      "source": [
        "ethnicity_percent = athlete['ethnicity'].value_counts(normalize=True)*100\n",
        "display(ethnicity_percent)"
      ],
      "execution_count": null,
      "outputs": [
        {
          "output_type": "display_data",
          "data": {
            "text/plain": [
              "european         48.306425\n",
              "hispanic         14.239155\n",
              "eastasian        11.972808\n",
              "nordic           11.027332\n",
              "celticenglish     7.572417\n",
              "muslim            6.881864\n",
              "Name: ethnicity, dtype: float64"
            ]
          },
          "metadata": {
            "tags": []
          }
        }
      ]
    },
    {
      "cell_type": "markdown",
      "metadata": {
        "id": "tXg3G6oNSgw4"
      },
      "source": [
        "### *Post Distribution Bar Chart*"
      ]
    },
    {
      "cell_type": "code",
      "metadata": {
        "colab": {
          "base_uri": "https://localhost:8080/",
          "height": 365
        },
        "id": "ozkzbhQeOg_i",
        "outputId": "fe2bba1e-d202-43b4-a629-2a6482024f08"
      },
      "source": [
        "# mapping_bar_chart = ethnicity_percent.plot.bar()\n",
        "\n",
        "X = [0,1,2,3,4,5,6,7,8,9]\n",
        "mapping_bar_chart = ethnicity_percent.plot.bar()\n",
        "\n",
        "#使用text顯示數值  \n",
        "for a,b in zip(X,ethnicity_percent):  \n",
        "  plt.text(a, b+0.05, '%.0f' % b, ha='center', va= 'bottom',fontsize=11) \n",
        "\n",
        "plt.xlabel('Ethnicity')\n",
        "plt.ylabel('Percentage')\n",
        "plt.title('Bar chart')"
      ],
      "execution_count": null,
      "outputs": [
        {
          "output_type": "execute_result",
          "data": {
            "text/plain": [
              "Text(0.5, 1.0, 'Bar chart')"
            ]
          },
          "metadata": {
            "tags": []
          },
          "execution_count": 14
        },
        {
          "output_type": "display_data",
          "data": {
            "image/png": "[encoded data removed]",
            "text/plain": [
              "<Figure size 432x288 with 1 Axes>"
            ]
          },
          "metadata": {
            "tags": [],
            "needs_background": "light"
          }
        }
      ]
    },
    {
      "cell_type": "markdown",
      "metadata": {
        "id": "XLxPNOJ2Dqtx"
      },
      "source": [
        "## **Map EASCII to ASCII**"
      ]
    },
    {
      "cell_type": "code",
      "metadata": {
        "id": "A0Oc5EVWDp7s"
      },
      "source": [
        "def replace_symbols(value):\n",
        "    # 處理()內綽號的刪除\n",
        "    # print(value)\n",
        "    new_name = value\n",
        "    while new_name.find('(') != -1: # 可能有複數個()組合\n",
        "        first = new_name.find('(')\n",
        "        front = new_name[:new_name.find('(')]\n",
        "        back = new_name[new_name.find(')') + 1:]\n",
        "        new_name = front + back\n",
        "    # print(new_name)\n",
        "\n",
        "    # 處理\"\"內綽號的刪除\n",
        "    new_name2 = new_name\n",
        "    while new_name2.find('\"') != -1: # 可能有複數個\"\"組合\n",
        "        first = new_name2.find('\"')\n",
        "        if new_name2.find('\"', first + 1) != -1:\n",
        "            front = new_name2[:first - 1]\n",
        "            back = new_name2[new_name2.find('\"', first + 1) + 1:]\n",
        "            new_name2 = front + back\n",
        "        else: # 有些名字會單獨存在\" e.g. Lala \"nana\n",
        "            new_name2 = new_name2.replace('\"', '')\n",
        "    # print(new_name2)\n",
        "\n",
        "    # 將- /換成space，`&,刪掉\n",
        "    name_s = new_name2.replace(\"-\", \" \")\n",
        "    name_s = name_s.replace(\"`\", \"\")\n",
        "    name_s = name_s.replace(\"/\", \" \")\n",
        "    name_s = name_s.replace(\"&\", \"\")\n",
        "    name_s = name_s.replace(\",\", \"\")\n",
        "    name_s = name_s.replace(\")\", \"\")\n",
        "\n",
        "    name_list = name_s.split(\" \")\n",
        "    if \"\" in name_list:\n",
        "        name_list.remove(\"\")\n",
        "    # print(name_list)\n",
        "\n",
        "    # 目前先選擇最後一個詞用+包\n",
        "    n = len(name_list)\n",
        "    temp = [\"\" for i in range(n)]\n",
        "    result = \"\"\n",
        "    for i in range(n):\n",
        "        temp[i] = \"$\" + name_list[i] + \"$\"\n",
        "        result = result + temp[i]\n",
        "\n",
        "    return result\n",
        "\n",
        "def get_ascii_char(c):\n",
        "    s = ud.decomposition(c)\n",
        "    if s == '': # for an indecomposable character, it returns ''\n",
        "        return c\n",
        "    code = int('0x' + s.split()[0], 0)\n",
        "    return chr(code)\n",
        "\n",
        "def translater(name):\n",
        "    name_clean = replace_symbols(name)\n",
        "    name_EG = \"\"\n",
        "    for letter in name_clean:\n",
        "        name_EG += get_ascii_char(letter).lower()\n",
        "    return name_EG\n"
      ],
      "execution_count": null,
      "outputs": []
    },
    {
      "cell_type": "code",
      "metadata": {
        "colab": {
          "base_uri": "https://localhost:8080/"
        },
        "id": "KJ4LdniFDp-m",
        "outputId": "d90d2b63-8c50-4387-b3c0-aea9cd0c01eb"
      },
      "source": [
        "athlete_name = list(copy.deepcopy(athlete['Name']))\n",
        "print(\"Number of names: \", len(athlete_name))"
      ],
      "execution_count": null,
      "outputs": [
        {
          "output_type": "stream",
          "text": [
            "Number of names:  92969\n"
          ],
          "name": "stdout"
        }
      ]
    },
    {
      "cell_type": "code",
      "metadata": {
        "colab": {
          "base_uri": "https://localhost:8080/"
        },
        "id": "gFPRC4tZEORV",
        "outputId": "965fb998-2aca-4daf-8f3a-a8528b196d4b"
      },
      "source": [
        "n = len(athlete_name)\n",
        "english_name = [\"\" for i in range(n)]\n",
        "for i in range(len(athlete_name)): # len(athlete_name)\n",
        "    english_name[i] = translater(athlete_name[i])\n",
        "print(len(english_name))\n",
        "print(english_name[0:5])"
      ],
      "execution_count": null,
      "outputs": [
        {
          "output_type": "stream",
          "text": [
            "92969\n",
            "['$a$$dijiang$', '$a$$lamusi$', '$gunnar$$nielsen$$aaby$', '$edgar$$lindenau$$aabye$', '$christine$$jacoba$$aaftink$']\n"
          ],
          "name": "stdout"
        }
      ]
    },
    {
      "cell_type": "code",
      "metadata": {
        "id": "98rhJFtwhgWJ"
      },
      "source": [
        "# # 用來檢查是否還有符號存在(漏刪除) 但應該沒有啦：)\n",
        "# # 白名單 ['a', 'b', 'c', 'd', 'e', 'f', 'g', 'h', 'i', 'j', 'k', 'l', 'm', 'n', 'o', 'p', 'q', 'r', 's', 't', 'u', 'v', 'w', 'x', 'y', 'z', '+', '$', '.', '\\'']\n",
        "# # 如果要用的話\n",
        "# test = list(copy.deepcopy(english_name))\n",
        "# for name in test:\n",
        "#   for cha in name:\n",
        "#     if cha not in ['a', 'b', 'c', 'd', 'e', 'f', 'g', 'h', 'i', 'j', 'k', 'l', 'm', 'n', 'o', 'p', 'q', 'r', 's', 't', 'u', 'v', 'w', 'x', 'y', 'z', '+', '$', '.', \"'\"]:\n",
        "#       print(name)"
      ],
      "execution_count": null,
      "outputs": []
    },
    {
      "cell_type": "markdown",
      "metadata": {
        "id": "gxsHDM4qfGRp"
      },
      "source": [
        "## **Bi-gram preprocessing**"
      ]
    },
    {
      "cell_type": "code",
      "metadata": {
        "id": "ADjXbuKZhvlj"
      },
      "source": [
        "def bigram(aName):\n",
        "  n = len(aName)\n",
        "  grams = ['' for i in range(n-1)]\n",
        "  for i in range(n-1):\n",
        "    grams[i] = aName[i:(i+2)]\n",
        "  # print(grams)\n",
        "  return grams\n",
        "\n",
        "def bigramProcessor(names):\n",
        "  n = len(names)\n",
        "  data = [[] for i in range(n)]\n",
        "  for i in range(n):\n",
        "    data[i] = bigram(names[i])\n",
        "  return data"
      ],
      "execution_count": null,
      "outputs": []
    },
    {
      "cell_type": "code",
      "metadata": {
        "id": "M2v6L357DRFU"
      },
      "source": [
        "bi_name = bigramProcessor(english_name)"
      ],
      "execution_count": null,
      "outputs": []
    },
    {
      "cell_type": "code",
      "metadata": {
        "colab": {
          "base_uri": "https://localhost:8080/"
        },
        "id": "_LLLhJ6SHEgj",
        "outputId": "6a43194a-a556-45fa-87e1-f61fe2c50e22"
      },
      "source": [
        "print(bi_name[0])"
      ],
      "execution_count": null,
      "outputs": [
        {
          "output_type": "stream",
          "text": [
            "['$a', 'a$', '$$', '$d', 'di', 'ij', 'ji', 'ia', 'an', 'ng', 'g$']\n"
          ],
          "name": "stdout"
        }
      ]
    },
    {
      "cell_type": "markdown",
      "metadata": {
        "id": "inMDO1NPSw-q"
      },
      "source": [
        "### *Bi-gram Length Histogram*"
      ]
    },
    {
      "cell_type": "code",
      "metadata": {
        "id": "yZpTFcFopbZI"
      },
      "source": [
        "total = len(bi_name)\n",
        "l = [len(bi_name[i]) for i in range(len(bi_name))]\n",
        "l.sort()\n",
        "MAX_SEQUENCE_LENGTH = 30"
      ],
      "execution_count": null,
      "outputs": []
    },
    {
      "cell_type": "code",
      "metadata": {
        "colab": {
          "base_uri": "https://localhost:8080/",
          "height": 352
        },
        "id": "KNcRhmfOEF74",
        "outputId": "1fd0ee61-8533-4df4-ebdd-68ac65fb2cdc"
      },
      "source": [
        "plt.hist(l)"
      ],
      "execution_count": null,
      "outputs": [
        {
          "output_type": "execute_result",
          "data": {
            "text/plain": [
              "(array([1.1872e+04, 5.6349e+04, 2.1004e+04, 3.3460e+03, 3.0700e+02,\n",
              "        5.9000e+01, 2.2000e+01, 5.0000e+00, 3.0000e+00, 2.0000e+00]),\n",
              " array([  3. ,  13.6,  24.2,  34.8,  45.4,  56. ,  66.6,  77.2,  87.8,\n",
              "         98.4, 109. ]),\n",
              " <a list of 10 Patch objects>)"
            ]
          },
          "metadata": {
            "tags": []
          },
          "execution_count": 23
        },
        {
          "output_type": "display_data",
          "data": {
            "image/png": "[encoded data removed]",
            "text/plain": [
              "<Figure size 432x288 with 1 Axes>"
            ]
          },
          "metadata": {
            "tags": [],
            "needs_background": "light"
          }
        }
      ]
    },
    {
      "cell_type": "markdown",
      "metadata": {
        "id": "pXs6fwgg84cQ"
      },
      "source": [
        "# **Character Representation (Skip Gram)**"
      ]
    },
    {
      "cell_type": "code",
      "metadata": {
        "id": "chvbd530ks2j"
      },
      "source": [
        "def Biname2sequence(bi_name):\n",
        "  vocab, index = {}, 1 # start indexing from 1\n",
        "  vocab['<pad>'] = 0 # add a padding token \n",
        "  for name in bi_name:\n",
        "    for bigram in name:\n",
        "      if bigram not in vocab: \n",
        "        vocab[bigram] = index # word to id\n",
        "        index += 1\n",
        "  vocabulary = list(vocab.keys())\n",
        "  inverse_vocab = {index: token for token, index in vocab.items()} # id to word\n",
        "  print(\"vocabulary size =\",len(vocabulary))\n",
        "  sequence = [] # bi-gram name list to id list\n",
        "  for name in bi_name:\n",
        "    temp = []\n",
        "    for bigram in name:\n",
        "      temp.append(vocab[bigram])\n",
        "    if len(temp) < MAX_SEQUENCE_LENGTH:\n",
        "      while len(temp) < MAX_SEQUENCE_LENGTH:\n",
        "        temp.append(0)\n",
        "    elif len(temp) > MAX_SEQUENCE_LENGTH:\n",
        "        temp = temp[:30]\n",
        "    sequence.append(temp)\n",
        "  for i in range(1):\n",
        "    print(''.join('{} len = {}'.format(sequence[i], len(sequence[i]))))\n",
        "  return vocab, vocabulary, inverse_vocab, sequence\n",
        "\n",
        "# construct skip-gram embedding model\n",
        "class Word2Vec(Model):\n",
        "  def __init__(self, vocab_size, embedding_dim, num_ns):\n",
        "    super(Word2Vec, self).__init__()\n",
        "    self.target_embedding = Embedding(vocab_size, \n",
        "                      embedding_dim,\n",
        "                      input_length=1,\n",
        "                      name=\"w2v_embedding\", )\n",
        "    self.context_embedding = Embedding(vocab_size, \n",
        "                      embedding_dim, \n",
        "                      input_length=num_ns+1)\n",
        "    self.dots = Dot(axes=(3,2))\n",
        "    self.flatten = Flatten()\n",
        "\n",
        "  def call(self, pair):\n",
        "    target, context = pair\n",
        "    we = self.target_embedding(target)\n",
        "    ce = self.context_embedding(context)\n",
        "    dots = self.dots([ce, we])\n",
        "    return self.flatten(dots)\n",
        "\n",
        "# Generates skip-gram pairs with negative sampling for a list of sequences\n",
        "# (int-encoded sentences) based on window size, number of negative samples\n",
        "# and vocabulary size.\n",
        "def generate_training_data(sequences, window_size, num_ns, vocab_size, seed):\n",
        "  tf.random.set_seed(seed)\n",
        "  # Elements of each training example are appended to these lists.\n",
        "  targets, contexts, labels = [], [], []\n",
        "\n",
        "  # Build the sampling table for vocab_size tokens.\n",
        "  sampling_table = tf.keras.preprocessing.sequence.make_sampling_table(vocab_size)\n",
        "\n",
        "  # Iterate over all sequences (sentences) in dataset.\n",
        "  for sequence in tqdm.tqdm(sequences):\n",
        "\n",
        "    # Generate positive skip-gram pairs for a sequence (sentence).\n",
        "    positive_skip_grams, _ = tf.keras.preprocessing.sequence.skipgrams(\n",
        "          sequence, \n",
        "          vocabulary_size=vocab_size,\n",
        "          sampling_table=sampling_table,\n",
        "          window_size=window_size,\n",
        "          negative_samples=0,\n",
        "          seed=seed)\n",
        "    \n",
        "    # Iterate over each positive skip-gram pair to produce training examples \n",
        "    # with positive context word and negative samples.\n",
        "    for target_word, context_word in positive_skip_grams:\n",
        "      context_class = tf.expand_dims(\n",
        "          tf.constant([context_word], dtype=\"int64\"), 1)\n",
        "      negative_sampling_candidates, _, _ = tf.random.log_uniform_candidate_sampler(\n",
        "          true_classes=context_class,\n",
        "          num_true=1, \n",
        "          num_sampled=num_ns, \n",
        "          unique=True, \n",
        "          range_max=vocab_size, \n",
        "          seed=seed, \n",
        "          name=\"negative_sampling\")\n",
        "      # Build context and label vectors (for one target word)\n",
        "      negative_sampling_candidates = tf.expand_dims(\n",
        "          negative_sampling_candidates, 1)\n",
        "\n",
        "      context = tf.concat([context_class, negative_sampling_candidates], 0)\n",
        "      label = tf.constant([1] + [0]*num_ns, dtype=\"int64\")\n",
        "\n",
        "      # Append each element from the training example to global lists.\n",
        "      targets.append(target_word)\n",
        "      contexts.append(context)\n",
        "      labels.append(label)\n",
        "\n",
        "  return targets, contexts, labels\n",
        "\n",
        "def SkipGram(targets, contexts, labels, vocab_size, num_ns, embedding_dim, seed):  \n",
        "  # construct dataset of bi-gram\n",
        "  dataset = tf.data.Dataset.from_tensor_slices(((targets, contexts), labels))\n",
        "  dataset = dataset.shuffle(BUFFER_SIZE).batch(BATCH_SIZE, drop_remainder=False)\n",
        "  dataset = dataset.cache().prefetch(buffer_size=AUTOTUNE)\n",
        "\n",
        "  word2vec = Word2Vec(vocab_size=vocab_size, embedding_dim=embedding_dim, num_ns=num_ns)\n",
        "  word2vec.compile(optimizer='adam',\n",
        "                loss=tf.keras.losses.CategoricalCrossentropy(from_logits=True),\n",
        "                metrics=['accuracy'])\n",
        "  tensorboard_callback = tf.keras.callbacks.TensorBoard(log_dir=\"logs\")\n",
        "  word2vec.fit(dataset, epochs=10, callbacks=[tensorboard_callback])\n",
        "\n",
        "  weights = word2vec.get_layer('w2v_embedding').get_weights()[0]\n",
        "\n",
        "  out_v = io.open('vectors.tsv', 'w', encoding='utf-8')\n",
        "  for index, word in enumerate(vocabulary):\n",
        "    vec = weights[index] \n",
        "    out_v.write('\\t'.join([str(x) for x in vec]) + \"\\n\")\n",
        "  out_v.close()\n",
        "  return weights"
      ],
      "execution_count": null,
      "outputs": []
    },
    {
      "cell_type": "code",
      "metadata": {
        "colab": {
          "base_uri": "https://localhost:8080/"
        },
        "id": "DtK25FcynlP3",
        "outputId": "417b4a33-4cb6-4c65-d4dd-dcffb244f4e3"
      },
      "source": [
        "vocab, vocabulary, inverse_vocab, sequence = Biname2sequence(bi_name)"
      ],
      "execution_count": null,
      "outputs": [
        {
          "output_type": "stream",
          "text": [
            "vocabulary size = 767\n",
            "[1, 2, 3, 4, 5, 6, 7, 8, 9, 10, 11, 0, 0, 0, 0, 0, 0, 0, 0, 0, 0, 0, 0, 0, 0, 0, 0, 0, 0, 0] len = 30\n"
          ],
          "name": "stdout"
        }
      ]
    },
    {
      "cell_type": "code",
      "metadata": {
        "id": "evHH2vKesee0"
      },
      "source": [
        "isSave = True\n",
        "MYSEED = 1126\n",
        "embedding_dim = 256\n",
        "BATCH_SIZE = 64\n",
        "\n",
        "if not isSave:\n",
        "  window_size = 5\n",
        "  num_ns = 5\n",
        "  targets, contexts, labels = generate_training_data(\n",
        "                        sequences=sequence,\n",
        "                        window_size=window_size,\n",
        "                        num_ns=num_ns,\n",
        "                        vocab_size=len(vocab),\n",
        "                        seed=MYSEED)\n",
        "  \n",
        "  tf.random.set_seed(MYSEED)\n",
        "  AUTOTUNE = tf.data.AUTOTUNE\n",
        "  BUFFER_SIZE = 10000\n",
        "\n",
        "  weights = SkipGram(targets, contexts, labels, len(vocab), num_ns, embedding_dim, MYSEED)\n",
        "else:\n",
        "  weights = []\n",
        "  file = open('vectors.tsv', 'r', encoding='utf-8')\n",
        "  for line in file:\n",
        "    temp_values = line.split()\n",
        "    values = [float(temp_values[i]) for i in range(len(temp_values))]\n",
        "    coefs = np.asarray(values, dtype='float32')\n",
        "    weights.append(coefs)\n",
        "  file.close()\n",
        "  "
      ],
      "execution_count": null,
      "outputs": []
    },
    {
      "cell_type": "code",
      "metadata": {
        "colab": {
          "base_uri": "https://localhost:8080/"
        },
        "id": "gqWSf7BZrjh8",
        "outputId": "daab5b8f-cba9-4407-c015-8968408e715a"
      },
      "source": [
        "from sklearn.metrics.pairwise import euclidean_distances\n",
        "from sklearn.manifold import TSNE\n",
        "\n",
        "distance_matrix = euclidean_distances(weights)\n",
        "similar_words = {search_term: [inverse_vocab[idx] for idx in distance_matrix[vocab[search_term]].argsort()[1:6]] \n",
        "                   for search_term in vocabulary[0:5]}\n",
        "similar_words"
      ],
      "execution_count": null,
      "outputs": [
        {
          "output_type": "execute_result",
          "data": {
            "text/plain": [
              "{'$$': [\"'z\", 'wv', 'qs', \"h'\", 'cf'],\n",
              " '$a': ['xc', 'vj', \"q'\", \"'p\", 'yx'],\n",
              " '$d': ['.f', 'vv', 'x.', 'xk', \"'l\"],\n",
              " '<pad>': ['yj', \"h'\", 'jp', 'vv', 'fw'],\n",
              " 'a$': ['vv', \"'z\", '.f', 'wv', 'xm']}"
            ]
          },
          "metadata": {
            "tags": []
          },
          "execution_count": 27
        }
      ]
    },
    {
      "cell_type": "markdown",
      "metadata": {
        "id": "JxN8xSbOTRnb"
      },
      "source": [
        "## *Plot Embedded Bi-grams*"
      ]
    },
    {
      "cell_type": "code",
      "metadata": {
        "colab": {
          "base_uri": "https://localhost:8080/",
          "height": 538
        },
        "id": "Y9Ipgl79cUtf",
        "outputId": "d4e7bca6-68bf-4c83-b902-71c8d7939f30"
      },
      "source": [
        "words = sum([[k] + v for k, v in similar_words.items()], [])\n",
        "words_ids = [vocab[w] for w in words]\n",
        "word_vectors = np.array([weights[idx] for idx in words_ids])\n",
        "print('Total words:', len(words), '\\tWord Embedding shapes:', word_vectors.shape)\n",
        "\n",
        "tsne = TSNE(n_components=2, random_state=0, n_iter=10000, perplexity=0)\n",
        "np.set_printoptions(suppress=True)\n",
        "T = tsne.fit_transform(word_vectors)\n",
        "print(words)\n",
        "plt.figure(figsize=(14, 8))\n",
        "plt.scatter(T[:, 0], T[:, 1], c='steelblue', edgecolors='k')\n",
        "for label, x, y in zip(words, T[:, 0], T[:, 1]):\n",
        "    if label == \"$$\":\n",
        "        label = \"$.$\"\n",
        "    plt.annotate(label, xy=(x+1, y+1), xytext=(0, 0), textcoords='offset points')"
      ],
      "execution_count": null,
      "outputs": [
        {
          "output_type": "stream",
          "text": [
            "Total words: 30 \tWord Embedding shapes: (30, 256)\n",
            "['<pad>', 'yj', \"h'\", 'jp', 'vv', 'fw', '$a', 'xc', 'vj', \"q'\", \"'p\", 'yx', 'a$', 'vv', \"'z\", '.f', 'wv', 'xm', '$$', \"'z\", 'wv', 'qs', \"h'\", 'cf', '$d', '.f', 'vv', 'x.', 'xk', \"'l\"]\n"
          ],
          "name": "stdout"
        },
        {
          "output_type": "display_data",
          "data": {
            "image/png": "[encoded data removed]",
            "text/plain": [
              "<Figure size 1008x576 with 1 Axes>"
            ]
          },
          "metadata": {
            "tags": [],
            "needs_background": "light"
          }
        }
      ]
    },
    {
      "cell_type": "markdown",
      "metadata": {
        "id": "lFA46XfabXhF"
      },
      "source": [
        "\"weights\" is the embedding vectors of vocabular, and the length of weights is 128"
      ]
    },
    {
      "cell_type": "code",
      "metadata": {
        "colab": {
          "base_uri": "https://localhost:8080/"
        },
        "id": "jSPNxj8bbj5n",
        "outputId": "85de3941-9778-4efa-e013-319a2fa48727"
      },
      "source": [
        "for i in range(5):\n",
        "  print(inverse_vocab[i], \":\", weights[i][0:5], \"...len =\", len(weights[i]))"
      ],
      "execution_count": null,
      "outputs": [
        {
          "output_type": "stream",
          "text": [
            "<pad> : [ 0.02777114 -0.00449574 -0.00299283  0.03505361  0.04536534] ...len = 256\n",
            "$a : [-0.10540111 -0.52597004 -0.20182194  1.0633814   0.0380737 ] ...len = 256\n",
            "a$ : [ 0.16194229  0.01532509  0.01757043 -0.53152525 -0.4017225 ] ...len = 256\n",
            "$$ : [-0.05850466 -0.08836067 -0.12490984 -0.18418758 -0.05278592] ...len = 256\n",
            "$d : [ 0.04981498  0.6485097   0.0373771  -0.0943016   0.39533758] ...len = 256\n"
          ],
          "name": "stdout"
        }
      ]
    },
    {
      "cell_type": "markdown",
      "metadata": {
        "id": "mEPylNQRup0G"
      },
      "source": [
        "# **Construct Training Dataset**"
      ]
    },
    {
      "cell_type": "code",
      "metadata": {
        "id": "1Sc2KKMF8vHM"
      },
      "source": [
        "random.seed(MYSEED)\n",
        "tf.random.set_seed(MYSEED)\n",
        "tf.compat.v1.set_random_seed(MYSEED)\n",
        "np.random.seed(MYSEED)\n",
        "AUTOTUNE=tf.data.AUTOTUNE\n",
        "\n",
        "train_num = int(len(bi_name)*0.8)\n",
        "index_train = []\n",
        "while len(index_train) != train_num:\n",
        "  id = random.randint(1, len(bi_name))\n",
        "  if id not in index_train:\n",
        "    index_train.append(id)\n",
        "\n",
        "bi_name_train = []\n",
        "bi_name_test = []\n",
        "ethnicity_train = []\n",
        "ethnicity_test = []\n",
        "ethnicity = athlete['ethnicity'].tolist()\n",
        "\n",
        "for i in range(len(ethnicity)):\n",
        "  if i in index_train:\n",
        "    bi_name_train.append(bi_name[i])\n",
        "    ethnicity_train.append(ethnicity[i])\n",
        "  else:\n",
        "    bi_name_test.append(bi_name[i])\n",
        "    ethnicity_test.append(ethnicity[i])"
      ],
      "execution_count": null,
      "outputs": []
    },
    {
      "cell_type": "code",
      "metadata": {
        "colab": {
          "base_uri": "https://localhost:8080/"
        },
        "id": "lvVyEXUXA3tE",
        "outputId": "82fa3ac3-def7-4465-9b54-cc0876737456"
      },
      "source": [
        "print(len(bi_name_train))\n",
        "print(len(ethnicity_train))"
      ],
      "execution_count": null,
      "outputs": [
        {
          "output_type": "stream",
          "text": [
            "74375\n",
            "74375\n"
          ],
          "name": "stdout"
        }
      ]
    },
    {
      "cell_type": "code",
      "metadata": {
        "id": "yuTGARQTupJY"
      },
      "source": [
        "ETH_DIM = 6\n",
        "def constructDataset(raw_biGrams, raw_ethnicity): # input: 2 lists\n",
        "  # X\n",
        "  print(\"bigram num: \", len(raw_biGrams))\n",
        "  print(\"max sequence length: \", MAX_SEQUENCE_LENGTH)\n",
        "  X = np.zeros((len(raw_biGrams), MAX_SEQUENCE_LENGTH))\n",
        "  for i in range(len(raw_biGrams)):\n",
        "    pad = False\n",
        "    for j in range(MAX_SEQUENCE_LENGTH):\n",
        "      X[i][j] = vocab[raw_biGrams[i][j]]\n",
        "      if j == len(raw_biGrams[i]) - 1 and j < MAX_SEQUENCE_LENGTH:\n",
        "        pad = True\n",
        "        break\n",
        "    if pad == True:\n",
        "      j = len(raw_biGrams[i])\n",
        "      while j < MAX_SEQUENCE_LENGTH:\n",
        "          X[i][j] = vocab['<pad>']\n",
        "          j += 1\n",
        "    \n",
        "  # y\n",
        "  y = np.zeros((len(raw_biGrams), ETH_DIM))\n",
        "  for i in range(len(raw_ethnicity)):\n",
        "    if raw_ethnicity[i] == 'european':\n",
        "      y[i][0] = 1\n",
        "    elif raw_ethnicity[i] == 'hispanic':\n",
        "      y[i][1] = 1\n",
        "    elif raw_ethnicity[i] == 'eastasian':\n",
        "      y[i][2] = 1\n",
        "    elif raw_ethnicity[i] == 'nordic':\n",
        "      y[i][3] = 1\n",
        "    elif raw_ethnicity[i] == 'celticenglish':\n",
        "      y[i][4] = 1\n",
        "    elif raw_ethnicity[i] == 'muslim':\n",
        "      y[i][5] = 1\n",
        "  \n",
        "  # convert to tensor\n",
        "  X_tensor = tf.convert_to_tensor(X, dtype=tf.int64)\n",
        "  y_tensor = tf.convert_to_tensor(y, dtype=tf.int64)\n",
        "  return X_tensor, y_tensor"
      ],
      "execution_count": null,
      "outputs": []
    },
    {
      "cell_type": "code",
      "metadata": {
        "colab": {
          "base_uri": "https://localhost:8080/"
        },
        "id": "rtrSibwq0kya",
        "outputId": "79d24c11-6f8c-4952-be33-6de55c69b30e"
      },
      "source": [
        "X_train, y_train = constructDataset(bi_name_train, ethnicity_train)\n",
        "X_test, y_test = constructDataset(bi_name_test, ethnicity_test)"
      ],
      "execution_count": null,
      "outputs": [
        {
          "output_type": "stream",
          "text": [
            "bigram num:  74375\n",
            "max sequence length:  30\n",
            "bigram num:  18594\n",
            "max sequence length:  30\n"
          ],
          "name": "stdout"
        }
      ]
    },
    {
      "cell_type": "markdown",
      "metadata": {
        "id": "ZMdh9qCTqJJQ"
      },
      "source": [
        "# **Building Model**"
      ]
    },
    {
      "cell_type": "markdown",
      "metadata": {
        "id": "Z7L6aBl9wKzz"
      },
      "source": [
        "## **Embedding Layer**"
      ]
    },
    {
      "cell_type": "code",
      "metadata": {
        "id": "hC-vz3iGLjPh"
      },
      "source": [
        "def embedding_layer(weights, embedding_dim):\n",
        "  embedding_index = weights\n",
        "  embedding_matrix = np.zeros((len(embedding_index)+1, embedding_dim))\n",
        "  for i in range(len(embedding_index)):\n",
        "      embedding_matrix[i] = embedding_index[i]\n",
        "  embeddingLayer = Embedding(len(embedding_index)+1,\n",
        "                            embedding_dim,\n",
        "                            weights=[embedding_matrix],\n",
        "                            input_length=MAX_SEQUENCE_LENGTH,\n",
        "                            trainable=False)\n",
        "  return embeddingLayer"
      ],
      "execution_count": null,
      "outputs": []
    },
    {
      "cell_type": "markdown",
      "metadata": {
        "id": "Hu9LyWAmU7ZS"
      },
      "source": [
        "## **LSTM Model**"
      ]
    },
    {
      "cell_type": "code",
      "metadata": {
        "id": "Ks5wc5zTJudJ"
      },
      "source": [
        "def LSTM_model(weights, embedding_dim, activate_lstm, activate_out, dropout, ETH_DIM, learning_rate):\n",
        "  model = tf.keras.Sequential()\n",
        "  model.add(embedding_layer(weights, embedding_dim))\n",
        "  model.add(tf.keras.layers.LSTM(activation=activate_lstm, units=embedding_dim, dropout=dropout))\n",
        "  model.add(Dense(units=ETH_DIM, activation=activate_out))\n",
        "  model.compile(optimizer=Adam(lr=learning_rate), loss=\"categorical_crossentropy\", metrics=[\"categorical_accuracy\"])\n",
        "  return(model)\n",
        "  "
      ],
      "execution_count": null,
      "outputs": []
    },
    {
      "cell_type": "markdown",
      "metadata": {
        "id": "hr-OIFEeszb1"
      },
      "source": [
        "# **Training** "
      ]
    },
    {
      "cell_type": "markdown",
      "metadata": {
        "id": "f-L7FZr_XJmL"
      },
      "source": [
        "## **Parameter Notes**\n",
        "- `MAX_SEQUENCE_LENGTH = 30, BATCH_SIZE = 1024, EMBEDDING_DIM = 128` <br>\n",
        "loss: 0.6692 - categorical_accuracy: 0.7691 - val_loss: 0.7017 - val_categorical_accuracy: 0.7595 <br>\n",
        "- `MAX_SEQUENCE_LENGTH = 40, BATCH_SIZE = 1024, EMBEDDING_DIM = 128` <br>\n",
        "loss: 0.8941 - categorical_accuracy: 0.6835 - val_loss: 0.8348 - val_categorical_accuracy: 0.7055 <br>\n",
        "- `MAX_SEQUENCE_LENGTH = 30, BATCH_SIZE = 512, EMBEDDING_DIM = 128` <br>\n",
        "loss: 0.5875 - categorical_accuracy: 0.8060 - val_loss: 0.5899 - val_categorical_accuracy: 0.7965 <br>\n",
        "- `MAX_SEQUENCE_LENGTH = 30, BATCH_SIZE = 256, EMBEDDING_DIM = 128` <br>\n",
        "categorical_accuracy: 0.8281 - val_loss: 0.5581 - val_categorical_accuracy: 0.8178 <br>\n",
        "- `MAX_SEQUENCE_LENGTH = 30, BATCH_SIZE = 128, EMBEDDING_DIM = 128` <br>\n",
        "loss: 0.4988 - categorical_accuracy: 0.8323 - val_loss: 0.5016 - val_categorical_accuracy: 0.8280 <br>\n",
        "- `MAX_SEQUENCE_LENGTH = 30, BATCH_SIZE = 64, EMBEDDING_DIM = 128` <br>\n",
        "loss: 0.4995 - categorical_accuracy: 0.8338 - val_loss: 0.5009 - val_categorical_accuracy: 0.8325 <br>\n",
        "- `MAX_SEQUENCE_LENGTH = 30, BATCH_SIZE = 64, EMBEDDING_DIM = 64` <br>\n",
        "loss: 0.6307 - categorical_accuracy: 0.7864 - val_loss: 0.5500 - val_categorical_accuracy: 0.8173\n",
        "- `MAX_SEQUENCE_LENGTH = 30, BATCH_SIZE = 64, EMBEDDING_DIM = 256` <br>\n",
        "categorical_accuracy: 0.8495 - val_loss: 0.5077 - val_categorical_accuracy: 0.8331 <br>\n",
        "- `MAX_SEQUENCE_LENGTH = 30, BATCH_SIZE = 64, EMBEDDING_DIM = 512` <br>\n",
        "loss: 0.4774 - categorical_accuracy: 0.8421 - val_loss: 0.5209 - val_categorical_accuracy: 0.8258 <br>\n",
        "> Best Combination: `MAX_SEQUENCE_LENGTH = 30, BATCH_SIZE = 64, EMBEDDING_DIM = 256`"
      ]
    },
    {
      "cell_type": "code",
      "metadata": {
        "colab": {
          "base_uri": "https://localhost:8080/"
        },
        "id": "2l0ErRR7mF2v",
        "outputId": "ab14e85b-9f43-4f48-9b25-ca059e6647fc"
      },
      "source": [
        "EPOCH_NUM = 4\n",
        "# BATCH_SIZE = 1024 use skip-gram parameter\n",
        "activate_lstm = 'relu'\n",
        "activate_out = 'softmax'\n",
        "dropout = 0.5\n",
        "learning_rate = 0.0035\n",
        "lstm_model = LSTM_model(weights, embedding_dim, activate_lstm, activate_out, dropout, ETH_DIM, learning_rate)\n",
        "lstm_model.fit(X_train, y_train, batch_size=BATCH_SIZE, epochs=EPOCH_NUM, validation_split=0.2)"
      ],
      "execution_count": null,
      "outputs": [
        {
          "output_type": "stream",
          "text": [
            "WARNING:tensorflow:Layer lstm will not use cuDNN kernel since it doesn't meet the cuDNN kernel criteria. It will use generic GPU kernel as fallback when running on GPU\n",
            "Epoch 1/4\n",
            "930/930 [==============================] - 53s 56ms/step - loss: 9.0572 - categorical_accuracy: 0.5116 - val_loss: 0.8769 - val_categorical_accuracy: 0.6963\n",
            "Epoch 2/4\n",
            "930/930 [==============================] - 51s 55ms/step - loss: 0.8178 - categorical_accuracy: 0.7125 - val_loss: 0.6728 - val_categorical_accuracy: 0.7726\n",
            "Epoch 3/4\n",
            "930/930 [==============================] - 51s 54ms/step - loss: 0.6362 - categorical_accuracy: 0.7836 - val_loss: 0.5592 - val_categorical_accuracy: 0.8115\n",
            "Epoch 4/4\n",
            "930/930 [==============================] - 52s 56ms/step - loss: 0.5590 - categorical_accuracy: 0.8130 - val_loss: 0.5164 - val_categorical_accuracy: 0.8249\n"
          ],
          "name": "stdout"
        },
        {
          "output_type": "execute_result",
          "data": {
            "text/plain": [
              "<tensorflow.python.keras.callbacks.History at 0x7fc35e385a90>"
            ]
          },
          "metadata": {
            "tags": []
          },
          "execution_count": 53
        }
      ]
    },
    {
      "cell_type": "markdown",
      "metadata": {
        "id": "lWUTIHzFmstV"
      },
      "source": [
        "# **Testing**"
      ]
    },
    {
      "cell_type": "code",
      "metadata": {
        "id": "dOAVVC3GQJPB"
      },
      "source": [
        "def lstm_testing(X_test, y_test):\n",
        "  score = lstm_model.evaluate(X_test, y_test)\n",
        "  print(\"Test result:\", score)\n",
        "\n",
        "  y_test_oneHot = np.argmax(y_test, axis=1) # Convert one-hot to index\n",
        "  y_pred = lstm_model.predict_classes(X_test)\n",
        "  print(classification_report(y_test_oneHot, y_pred))"
      ],
      "execution_count": null,
      "outputs": []
    },
    {
      "cell_type": "code",
      "metadata": {
        "colab": {
          "base_uri": "https://localhost:8080/"
        },
        "id": "QaWmGzwSn9k4",
        "outputId": "25843291-178e-47c4-bf13-2fb85e408219"
      },
      "source": [
        "lstm_testing(X_test, y_test)"
      ],
      "execution_count": null,
      "outputs": [
        {
          "output_type": "stream",
          "text": [
            "582/582 [==============================] - 4s 6ms/step - loss: 0.4863 - categorical_accuracy: 0.8355\n",
            "Test result: [0.4863310158252716, 0.8355383276939392]\n"
          ],
          "name": "stdout"
        },
        {
          "output_type": "stream",
          "text": [
            "/usr/local/lib/python3.7/dist-packages/tensorflow/python/keras/engine/sequential.py:450: UserWarning: `model.predict_classes()` is deprecated and will be removed after 2021-01-01. Please use instead:* `np.argmax(model.predict(x), axis=-1)`,   if your model does multi-class classification   (e.g. if it uses a `softmax` last-layer activation).* `(model.predict(x) > 0.5).astype(\"int32\")`,   if your model does binary classification   (e.g. if it uses a `sigmoid` last-layer activation).\n",
            "  warnings.warn('`model.predict_classes()` is deprecated and '\n"
          ],
          "name": "stderr"
        },
        {
          "output_type": "stream",
          "text": [
            "              precision    recall  f1-score   support\n",
            "\n",
            "           0       0.79      0.95      0.86      8984\n",
            "           1       0.93      0.74      0.82      2702\n",
            "           2       0.89      0.92      0.91      2191\n",
            "           3       0.94      0.69      0.80      1983\n",
            "           4       0.81      0.54      0.65      1442\n",
            "           5       0.88      0.65      0.75      1292\n",
            "\n",
            "    accuracy                           0.84     18594\n",
            "   macro avg       0.87      0.75      0.80     18594\n",
            "weighted avg       0.85      0.84      0.83     18594\n",
            "\n"
          ],
          "name": "stdout"
        }
      ]
    },
    {
      "cell_type": "markdown",
      "metadata": {
        "id": "YPfl7VMMB0PM"
      },
      "source": [
        "## *Plot Prediction Pie Chart*"
      ]
    },
    {
      "cell_type": "code",
      "metadata": {
        "id": "WqqlFOwaCA9b",
        "colab": {
          "base_uri": "https://localhost:8080/",
          "height": 248
        },
        "outputId": "07738bb0-bad0-480b-bf78-945eab7dd385"
      },
      "source": [
        "pred = lstm_model.predict(X_train)\n",
        "labels = 'european','hispanic','eastasian', 'nordic', 'celticenglish','muslim'\n",
        "sizes = pred[3564]\n",
        "plt.pie(sizes, labels=labels, autopct='%1.1f%%')\n",
        "plt.axis('equal')\n",
        "plt.show()"
      ],
      "execution_count": null,
      "outputs": [
        {
          "output_type": "display_data",
          "data": {
            "image/png": "[encoded data removed]",
            "text/plain": [
              "<Figure size 432x288 with 1 Axes>"
            ]
          },
          "metadata": {
            "tags": []
          }
        }
      ]
    },
    {
      "cell_type": "markdown",
      "metadata": {
        "id": "ZocKBCNuC8GR"
      },
      "source": [
        "## *Plot Prediction Confusion Matrix*"
      ]
    },
    {
      "cell_type": "code",
      "metadata": {
        "id": "42RP3vRHBmc6"
      },
      "source": [
        "pred = model.predict(X_train)"
      ],
      "execution_count": null,
      "outputs": []
    },
    {
      "cell_type": "code",
      "metadata": {
        "id": "kdzhjFJDM2tq"
      },
      "source": [
        "def plot_confusionHeatmap(pred, y_real): # one-hot encoded\n",
        "  pred_arr = [0 for i in range(len(pred))]\n",
        "  y_real_arr = [0 for i in range(len(y_real))]\n",
        "  for i in range(len(pred)): # to numPy\n",
        "    pred_arr[i] = np.argmax(pred[i])\n",
        "    # y_real_np = y_real.numpy()\n",
        "    y_real_np = y_real\n",
        "    y_real_arr[i] = np.argmax(y_real_np[i])\n",
        "  \n",
        "  confusion_mat = tf.math.confusion_matrix(pred_arr, y_real_arr) # row: real, col: pred\n",
        "  confusion_mat = confusion_mat.numpy()\n",
        "  labels = [\"European\", \"Hispanic\", \"East-Asian\", \"Nordic\", \"Celtic-English\", \"Muslim\"]\n",
        "\n",
        "  fig, ax = plt.subplots()\n",
        "  im = ax.imshow(confusion_mat)\n",
        "\n",
        "  # show all ticks\n",
        "  ax.set_xticks(np.arange(len(labels)))\n",
        "  ax.set_yticks(np.arange(len(labels)))\n",
        "  # ... and label them with the respective list entries\n",
        "  ax.set_xticklabels(labels)\n",
        "  ax.set_yticklabels(labels)\n",
        "\n",
        "  # Rotate the tick labels and set their alignment.\n",
        "  plt.setp(ax.get_xticklabels(), rotation=45, ha=\"right\",\n",
        "          rotation_mode=\"anchor\")\n",
        "\n",
        "  # Loop over data dimensions and create text annotations.\n",
        "  for i in range(len(labels)):\n",
        "      for j in range(len(labels)):\n",
        "          text = ax.text(j, i, confusion_mat[i, j],\n",
        "                        ha=\"center\", va=\"center\", color=\"w\")\n",
        "\n",
        "  ax.set_title(\"Confusion Matrix For Model\")\n",
        "  ax.set_xlabel('Predicted Label')\n",
        "  ax.set_ylabel('Real Label')\n",
        "  fig.tight_layout()\n",
        "  plt.show()"
      ],
      "execution_count": null,
      "outputs": []
    },
    {
      "cell_type": "markdown",
      "metadata": {
        "id": "FdfMilVmoCcw"
      },
      "source": [
        "# **Train with Oversampling**\n",
        "\n",
        "\n"
      ]
    },
    {
      "cell_type": "markdown",
      "metadata": {
        "id": "UmG5ASsVCk3c"
      },
      "source": [
        "## **From Scratch**"
      ]
    },
    {
      "cell_type": "code",
      "metadata": {
        "id": "-XJ105bPEoMW",
        "colab": {
          "base_uri": "https://localhost:8080/"
        },
        "outputId": "b52d5984-9ffb-4ccc-ce03-06cf50bd7e6d"
      },
      "source": [
        "NUM_OF_EACH_CLASS = 35926 #np.average(counts)\n",
        "print(NUM_OF_EACH_CLASS)\n",
        "NUM_OF_TRAIN = y_train.get_shape().as_list()[0]\n",
        "print(NUM_OF_TRAIN)"
      ],
      "execution_count": null,
      "outputs": [
        {
          "output_type": "stream",
          "text": [
            "35926\n",
            "74375\n"
          ],
          "name": "stdout"
        }
      ]
    },
    {
      "cell_type": "code",
      "metadata": {
        "id": "hiQ7FuZsEIgj"
      },
      "source": [
        "def ovrsampling(X_train, y_train, ETH_DIM, NUM_OF_EACH_CLASS) :\n",
        "  a = np.argmax(y_train, axis=1)\n",
        "  # unique, counts = np.unique(a, return_counts=True)\n",
        "  # dict(zip(unique, counts))\n",
        "\n",
        "  indices = [] # inidices of each ethnicity in training data\n",
        "  for i in range(ETH_DIM):\n",
        "    indices.append([])\n",
        "    for j in range(len(a)):\n",
        "      if a[j] == i:\n",
        "        indices[i].append(j)\n",
        "  \n",
        "  new_index = []\n",
        "  for i in range(ETH_DIM) :\n",
        "    diff = int(abs(len(indices[i]) - NUM_OF_EACH_CLASS))\n",
        "    temp = indices[i]\n",
        "    # print(temp)\n",
        "    if len(indices[i]) > NUM_OF_EACH_CLASS :\n",
        "      for j in range(diff):\n",
        "        id = random.choice(temp)\n",
        "        temp.remove(id)\n",
        "    else :\n",
        "      for j in range(diff) :\n",
        "        id = random.choice(indices[i])\n",
        "        temp.insert(0, id)\n",
        "    new_index.append(temp)\n",
        "\n",
        "  X_train_sampled = []\n",
        "  y_train_sampled = []\n",
        "\n",
        "  for i in range(ETH_DIM):\n",
        "    X_train_sampled.extend(X_train.numpy()[new_index[i]])\n",
        "    y_train_sampled.extend(np.array(y_train)[new_index[i]])\n",
        "\n",
        "\n",
        "  X_train_sampled = tf.convert_to_tensor(X_train_sampled, dtype=tf.int64)\n",
        "  y_train_sampled = tf.convert_to_tensor(y_train_sampled, dtype=tf.int64)\n",
        "\n",
        "  return X_train_sampled, y_train_sampled"
      ],
      "execution_count": null,
      "outputs": []
    },
    {
      "cell_type": "code",
      "metadata": {
        "id": "z0b1cgsQFPs3",
        "colab": {
          "base_uri": "https://localhost:8080/"
        },
        "outputId": "ccbd5cd2-c6f6-47b3-cd5b-8c174e82db72"
      },
      "source": [
        "X_train_sampled, y_train_sampled = ovrsampling(X_train, y_train, ETH_DIM, NUM_OF_EACH_CLASS)\n",
        "EPOCH_NUM = 4\n",
        "# BATCH_SIZE = 1024 use skip-gram parameter\n",
        "activate_lstm = 'relu'\n",
        "activate_out = 'softmax'\n",
        "dropout = 0.5\n",
        "learning_rate = 0.003\n",
        "model = LSTM_model(embedding_layer, embedding_dim, activate_lstm, activate_out, dropout, ETH_DIM, learning_rate)\n",
        "model.fit(X_train_sampled, y_train_sampled, batch_size=BATCH_SIZE, epochs=EPOCH_NUM, validation_split=0.2)"
      ],
      "execution_count": null,
      "outputs": [
        {
          "output_type": "stream",
          "text": [
            "WARNING:tensorflow:Layer lstm_1 will not use cuDNN kernel since it doesn't meet the cuDNN kernel criteria. It will use generic GPU kernel as fallback when running on GPU\n",
            "Epoch 1/4\n",
            "2695/2695 [==============================] - 146s 54ms/step - loss: 0.8543 - categorical_accuracy: 0.7101 - val_loss: 10.3512 - val_categorical_accuracy: 0.1414\n",
            "Epoch 2/4\n",
            "2695/2695 [==============================] - 145s 54ms/step - loss: 176094.2263 - categorical_accuracy: 0.6891 - val_loss: 195479.1875 - val_categorical_accuracy: 0.1279\n",
            "Epoch 3/4\n",
            "2695/2695 [==============================] - 146s 54ms/step - loss: 15041.5216 - categorical_accuracy: 0.2021 - val_loss: 20935.5332 - val_categorical_accuracy: 0.0170\n",
            "Epoch 4/4\n",
            "2695/2695 [==============================] - 147s 55ms/step - loss: 800.5142 - categorical_accuracy: 0.2154 - val_loss: 11337.3164 - val_categorical_accuracy: 0.0604\n"
          ],
          "name": "stdout"
        },
        {
          "output_type": "execute_result",
          "data": {
            "text/plain": [
              "<tensorflow.python.keras.callbacks.History at 0x7f158a068f10>"
            ]
          },
          "metadata": {
            "tags": []
          },
          "execution_count": 47
        }
      ]
    },
    {
      "cell_type": "code",
      "metadata": {
        "id": "GD1_mrPjFcjS",
        "colab": {
          "base_uri": "https://localhost:8080/"
        },
        "outputId": "e2b44b35-d4fc-497e-93cf-daf9173dfec8"
      },
      "source": [
        "model_testing(X_test, y_test)"
      ],
      "execution_count": null,
      "outputs": [
        {
          "output_type": "stream",
          "text": [
            "582/582 [==============================] - 4s 6ms/step - loss: 1086.8531 - categorical_accuracy: 0.2995\n",
            "Test result: [1086.8531494140625, 0.29950520396232605]\n"
          ],
          "name": "stdout"
        },
        {
          "output_type": "stream",
          "text": [
            "/usr/local/lib/python3.7/dist-packages/tensorflow/python/keras/engine/sequential.py:450: UserWarning: `model.predict_classes()` is deprecated and will be removed after 2021-01-01. Please use instead:* `np.argmax(model.predict(x), axis=-1)`,   if your model does multi-class classification   (e.g. if it uses a `softmax` last-layer activation).* `(model.predict(x) > 0.5).astype(\"int32\")`,   if your model does binary classification   (e.g. if it uses a `sigmoid` last-layer activation).\n",
            "  warnings.warn('`model.predict_classes()` is deprecated and '\n"
          ],
          "name": "stderr"
        },
        {
          "output_type": "stream",
          "text": [
            "              precision    recall  f1-score   support\n",
            "\n",
            "           0       0.52      0.45      0.48      8984\n",
            "           1       0.23      0.18      0.20      2702\n",
            "           2       0.28      0.20      0.23      2191\n",
            "           3       0.10      0.07      0.08      1983\n",
            "           4       0.09      0.35      0.14      1442\n",
            "           5       0.00      0.00      0.00      1292\n",
            "\n",
            "    accuracy                           0.30     18594\n",
            "   macro avg       0.20      0.21      0.19     18594\n",
            "weighted avg       0.33      0.30      0.31     18594\n",
            "\n"
          ],
          "name": "stdout"
        },
        {
          "output_type": "stream",
          "text": [
            "/usr/local/lib/python3.7/dist-packages/sklearn/metrics/_classification.py:1272: UndefinedMetricWarning: Precision and F-score are ill-defined and being set to 0.0 in labels with no predicted samples. Use `zero_division` parameter to control this behavior.\n",
            "  _warn_prf(average, modifier, msg_start, len(result))\n"
          ],
          "name": "stderr"
        }
      ]
    },
    {
      "cell_type": "markdown",
      "metadata": {
        "id": "mkJsgmPYoCc1"
      },
      "source": [
        "## **imblearn package**\n"
      ]
    },
    {
      "cell_type": "code",
      "metadata": {
        "id": "WIrQ5p26oCc2"
      },
      "source": [
        "x = X_train.numpy()\n",
        "y = y_train.numpy()"
      ],
      "execution_count": null,
      "outputs": []
    },
    {
      "cell_type": "code",
      "metadata": {
        "colab": {
          "base_uri": "https://localhost:8080/"
        },
        "id": "YEcDmJhpoCc2",
        "outputId": "926f2539-7d3a-4a09-eb1e-0d7537fecddf"
      },
      "source": [
        "# random sampling minority class (all equals to num of majority class)\n",
        "ros = RandomOverSampler(random_state=0)\n",
        "X_resampled, y_resampled = ros.fit_resample(x, y)"
      ],
      "execution_count": null,
      "outputs": [
        {
          "output_type": "stream",
          "text": [
            "/usr/local/lib/python3.7/dist-packages/sklearn/utils/deprecation.py:87: FutureWarning: Function safe_indexing is deprecated; safe_indexing is deprecated in version 0.22 and will be removed in version 0.24.\n",
            "  warnings.warn(msg, category=FutureWarning)\n"
          ],
          "name": "stderr"
        }
      ]
    },
    {
      "cell_type": "code",
      "metadata": {
        "colab": {
          "base_uri": "https://localhost:8080/"
        },
        "id": "MtPwjc_OoCc2",
        "outputId": "66473e69-9d77-4738-f1d7-c210b7407e23"
      },
      "source": [
        "a = np.argmax(y_resampled, axis=1) # Convert one-hot to index\n",
        "unique, counts = np.unique(a, return_counts=True)\n",
        "dict(zip(unique, counts))"
      ],
      "execution_count": null,
      "outputs": [
        {
          "output_type": "execute_result",
          "data": {
            "text/plain": [
              "{0: 35926, 1: 35926, 2: 35926, 3: 35926, 4: 35926, 5: 35926}"
            ]
          },
          "metadata": {
            "tags": []
          },
          "execution_count": 51
        }
      ]
    },
    {
      "cell_type": "code",
      "metadata": {
        "colab": {
          "base_uri": "https://localhost:8080/"
        },
        "id": "cYoDWIEHoCc2",
        "outputId": "408aea3d-71b7-422e-ffb6-105663535f88"
      },
      "source": [
        "EPOCH_NUM = 4\n",
        "# BATCH_SIZE = 1024 use skip-gram parameter\n",
        "activate_lstm = 'relu'\n",
        "activate_out = 'softmax'\n",
        "dropout = 0.5\n",
        "learning_rate = 0.003\n",
        "model = LSTM_model(embedding_layer, embedding_dim, activate_lstm, activate_out, dropout, ETH_DIM, learning_rate)\n",
        "model.fit(X_resampled, y_resampled, batch_size=BATCH_SIZE, epochs=EPOCH_NUM, validation_split=0.2)"
      ],
      "execution_count": null,
      "outputs": [
        {
          "output_type": "stream",
          "text": [
            "WARNING:tensorflow:Layer lstm_2 will not use cuDNN kernel since it doesn't meet the cuDNN kernel criteria. It will use generic GPU kernel as fallback when running on GPU\n",
            "Epoch 1/4\n",
            "2695/2695 [==============================] - 146s 54ms/step - loss: 0.8476 - categorical_accuracy: 0.7002 - val_loss: 0.8528 - val_categorical_accuracy: 0.6860\n",
            "Epoch 2/4\n",
            "2695/2695 [==============================] - 143s 53ms/step - loss: 3507223.0663 - categorical_accuracy: 0.6963 - val_loss: 214604.1094 - val_categorical_accuracy: 0.0107\n",
            "Epoch 3/4\n",
            "2695/2695 [==============================] - 144s 54ms/step - loss: 8997008.4839 - categorical_accuracy: 0.2043 - val_loss: 2098651.7500 - val_categorical_accuracy: 0.0422\n",
            "Epoch 4/4\n",
            "2695/2695 [==============================] - 143s 53ms/step - loss: 1998370.0789 - categorical_accuracy: 0.1960 - val_loss: 56595.6680 - val_categorical_accuracy: 0.0077\n"
          ],
          "name": "stdout"
        },
        {
          "output_type": "execute_result",
          "data": {
            "text/plain": [
              "<tensorflow.python.keras.callbacks.History at 0x7f15704b9c10>"
            ]
          },
          "metadata": {
            "tags": []
          },
          "execution_count": 52
        }
      ]
    },
    {
      "cell_type": "code",
      "metadata": {
        "colab": {
          "base_uri": "https://localhost:8080/"
        },
        "id": "Hq3CgANboCc3",
        "outputId": "067a144d-bd2a-473b-fa1b-7d342c6c214f"
      },
      "source": [
        "model_testing(X_test, y_test)"
      ],
      "execution_count": null,
      "outputs": [
        {
          "output_type": "stream",
          "text": [
            "582/582 [==============================] - 3s 6ms/step - loss: 44761.5039 - categorical_accuracy: 0.3005\n",
            "Test result: [44761.50390625, 0.30047327280044556]\n"
          ],
          "name": "stdout"
        },
        {
          "output_type": "stream",
          "text": [
            "/usr/local/lib/python3.7/dist-packages/tensorflow/python/keras/engine/sequential.py:450: UserWarning: `model.predict_classes()` is deprecated and will be removed after 2021-01-01. Please use instead:* `np.argmax(model.predict(x), axis=-1)`,   if your model does multi-class classification   (e.g. if it uses a `softmax` last-layer activation).* `(model.predict(x) > 0.5).astype(\"int32\")`,   if your model does binary classification   (e.g. if it uses a `sigmoid` last-layer activation).\n",
            "  warnings.warn('`model.predict_classes()` is deprecated and '\n"
          ],
          "name": "stderr"
        },
        {
          "output_type": "stream",
          "text": [
            "              precision    recall  f1-score   support\n",
            "\n",
            "           0       0.49      0.49      0.49      8984\n",
            "           1       0.14      0.31      0.19      2702\n",
            "           2       0.08      0.02      0.03      2191\n",
            "           3       0.10      0.14      0.12      1983\n",
            "           4       0.10      0.01      0.01      1442\n",
            "           5       0.03      0.00      0.00      1292\n",
            "\n",
            "    accuracy                           0.30     18594\n",
            "   macro avg       0.16      0.16      0.14     18594\n",
            "weighted avg       0.29      0.30      0.28     18594\n",
            "\n"
          ],
          "name": "stdout"
        }
      ]
    },
    {
      "cell_type": "markdown",
      "metadata": {
        "id": "uKWTttfZoCc3"
      },
      "source": [
        "### **SMOTE**"
      ]
    },
    {
      "cell_type": "code",
      "metadata": {
        "colab": {
          "base_uri": "https://localhost:8080/"
        },
        "id": "UWYFE6g6oCc3",
        "outputId": "44a976ff-90a6-4769-c1c1-f03857513813"
      },
      "source": [
        "X_resampled_smote, y_resampled_smote = SMOTE().fit_sample(x, y)"
      ],
      "execution_count": null,
      "outputs": [
        {
          "output_type": "stream",
          "text": [
            "/usr/local/lib/python3.7/dist-packages/sklearn/utils/deprecation.py:87: FutureWarning: Function safe_indexing is deprecated; safe_indexing is deprecated in version 0.22 and will be removed in version 0.24.\n",
            "  warnings.warn(msg, category=FutureWarning)\n",
            "/usr/local/lib/python3.7/dist-packages/sklearn/utils/deprecation.py:87: FutureWarning: Function safe_indexing is deprecated; safe_indexing is deprecated in version 0.22 and will be removed in version 0.24.\n",
            "  warnings.warn(msg, category=FutureWarning)\n",
            "/usr/local/lib/python3.7/dist-packages/sklearn/utils/deprecation.py:87: FutureWarning: Function safe_indexing is deprecated; safe_indexing is deprecated in version 0.22 and will be removed in version 0.24.\n",
            "  warnings.warn(msg, category=FutureWarning)\n",
            "/usr/local/lib/python3.7/dist-packages/sklearn/utils/deprecation.py:87: FutureWarning: Function safe_indexing is deprecated; safe_indexing is deprecated in version 0.22 and will be removed in version 0.24.\n",
            "  warnings.warn(msg, category=FutureWarning)\n",
            "/usr/local/lib/python3.7/dist-packages/sklearn/utils/deprecation.py:87: FutureWarning: Function safe_indexing is deprecated; safe_indexing is deprecated in version 0.22 and will be removed in version 0.24.\n",
            "  warnings.warn(msg, category=FutureWarning)\n"
          ],
          "name": "stderr"
        }
      ]
    },
    {
      "cell_type": "code",
      "metadata": {
        "id": "38H1jgeEoCc3",
        "colab": {
          "base_uri": "https://localhost:8080/"
        },
        "outputId": "d76bd5b2-8bab-4b10-ef00-b6f1f8dc1611"
      },
      "source": [
        "EPOCH_NUM = 2\n",
        "# BATCH_SIZE = 1024 use skip-gram parameter\n",
        "activate_lstm = 'relu'\n",
        "activate_out = 'softmax'\n",
        "dropout = 0.5\n",
        "learning_rate = 0.003\n",
        "model = LSTM_model(embedding_layer, embedding_dim, activate_lstm, activate_out, dropout, ETH_DIM, learning_rate)\n",
        "model.fit(X_resampled_smote, y_resampled_smote, batch_size=BATCH_SIZE, epochs=EPOCH_NUM, validation_split=0.2)"
      ],
      "execution_count": null,
      "outputs": [
        {
          "output_type": "stream",
          "text": [
            "WARNING:tensorflow:Layer lstm_3 will not use cuDNN kernel since it doesn't meet the cuDNN kernel criteria. It will use generic GPU kernel as fallback when running on GPU\n",
            "Epoch 1/2\n",
            "2695/2695 [==============================] - 144s 53ms/step - loss: 1.3607 - categorical_accuracy: 0.5155 - val_loss: 5.5875 - val_categorical_accuracy: 0.1337\n",
            "Epoch 2/2\n",
            "2695/2695 [==============================] - 150s 56ms/step - loss: 0.7130 - categorical_accuracy: 0.7223 - val_loss: 6.2231 - val_categorical_accuracy: 0.1768\n"
          ],
          "name": "stdout"
        },
        {
          "output_type": "execute_result",
          "data": {
            "text/plain": [
              "<tensorflow.python.keras.callbacks.History at 0x7f155f7cb690>"
            ]
          },
          "metadata": {
            "tags": []
          },
          "execution_count": 55
        }
      ]
    },
    {
      "cell_type": "code",
      "metadata": {
        "id": "9_GRNwOloCc3",
        "colab": {
          "base_uri": "https://localhost:8080/"
        },
        "outputId": "95b8cf66-4edb-4a72-9803-69901208b5ed"
      },
      "source": [
        "model_testing(X_test, y_test)"
      ],
      "execution_count": null,
      "outputs": [
        {
          "output_type": "stream",
          "text": [
            "582/582 [==============================] - 3s 6ms/step - loss: 0.4311 - categorical_accuracy: 0.8628\n",
            "Test result: [0.4310760200023651, 0.8627514243125916]\n"
          ],
          "name": "stdout"
        },
        {
          "output_type": "stream",
          "text": [
            "/usr/local/lib/python3.7/dist-packages/tensorflow/python/keras/engine/sequential.py:450: UserWarning: `model.predict_classes()` is deprecated and will be removed after 2021-01-01. Please use instead:* `np.argmax(model.predict(x), axis=-1)`,   if your model does multi-class classification   (e.g. if it uses a `softmax` last-layer activation).* `(model.predict(x) > 0.5).astype(\"int32\")`,   if your model does binary classification   (e.g. if it uses a `sigmoid` last-layer activation).\n",
            "  warnings.warn('`model.predict_classes()` is deprecated and '\n"
          ],
          "name": "stderr"
        },
        {
          "output_type": "stream",
          "text": [
            "              precision    recall  f1-score   support\n",
            "\n",
            "           0       0.85      0.92      0.89      8984\n",
            "           1       0.88      0.84      0.86      2702\n",
            "           2       0.96      0.91      0.93      2191\n",
            "           3       0.85      0.82      0.84      1983\n",
            "           4       0.78      0.66      0.71      1442\n",
            "           5       0.85      0.72      0.78      1292\n",
            "\n",
            "    accuracy                           0.86     18594\n",
            "   macro avg       0.86      0.81      0.83     18594\n",
            "weighted avg       0.86      0.86      0.86     18594\n",
            "\n"
          ],
          "name": "stdout"
        }
      ]
    },
    {
      "cell_type": "markdown",
      "metadata": {
        "id": "BttRBJEJoCc4"
      },
      "source": [
        "### **ADASYN**"
      ]
    },
    {
      "cell_type": "code",
      "metadata": {
        "id": "RVmST3i2oCc4",
        "colab": {
          "base_uri": "https://localhost:8080/"
        },
        "outputId": "cf683a8e-d114-4c25-d7c3-235ba359326f"
      },
      "source": [
        "X_resampled_adasyn, y_resampled_adasyn = ADASYN().fit_sample(x, y)"
      ],
      "execution_count": null,
      "outputs": [
        {
          "output_type": "stream",
          "text": [
            "/usr/local/lib/python3.7/dist-packages/sklearn/utils/deprecation.py:87: FutureWarning: Function safe_indexing is deprecated; safe_indexing is deprecated in version 0.22 and will be removed in version 0.24.\n",
            "  warnings.warn(msg, category=FutureWarning)\n",
            "/usr/local/lib/python3.7/dist-packages/sklearn/utils/deprecation.py:87: FutureWarning: Function safe_indexing is deprecated; safe_indexing is deprecated in version 0.22 and will be removed in version 0.24.\n",
            "  warnings.warn(msg, category=FutureWarning)\n",
            "/usr/local/lib/python3.7/dist-packages/sklearn/utils/deprecation.py:87: FutureWarning: Function safe_indexing is deprecated; safe_indexing is deprecated in version 0.22 and will be removed in version 0.24.\n",
            "  warnings.warn(msg, category=FutureWarning)\n",
            "/usr/local/lib/python3.7/dist-packages/sklearn/utils/deprecation.py:87: FutureWarning: Function safe_indexing is deprecated; safe_indexing is deprecated in version 0.22 and will be removed in version 0.24.\n",
            "  warnings.warn(msg, category=FutureWarning)\n",
            "/usr/local/lib/python3.7/dist-packages/sklearn/utils/deprecation.py:87: FutureWarning: Function safe_indexing is deprecated; safe_indexing is deprecated in version 0.22 and will be removed in version 0.24.\n",
            "  warnings.warn(msg, category=FutureWarning)\n"
          ],
          "name": "stderr"
        }
      ]
    },
    {
      "cell_type": "code",
      "metadata": {
        "id": "KmLU0ie4oCc4",
        "colab": {
          "base_uri": "https://localhost:8080/"
        },
        "outputId": "dcb711f9-1033-494e-90ef-c859224b4a24"
      },
      "source": [
        "EPOCH_NUM = 2\n",
        "# BATCH_SIZE = 1024 use skip-gram parameter\n",
        "activate_lstm = 'relu'\n",
        "activate_out = 'softmax'\n",
        "dropout = 0.5\n",
        "learning_rate = 0.003\n",
        "LSTM_model(embedding_layer, embedding_dim, activate_lstm, activate_out, dropout, ETH_DIM, learning_rate)\n",
        "model.fit(X_resampled_adasyn, y_resampled_adasyn, batch_size=BATCH_SIZE, epochs=EPOCH_NUM, validation_split=0.2)"
      ],
      "execution_count": null,
      "outputs": [
        {
          "output_type": "stream",
          "text": [
            "WARNING:tensorflow:Layer lstm_4 will not use cuDNN kernel since it doesn't meet the cuDNN kernel criteria. It will use generic GPU kernel as fallback when running on GPU\n",
            "Epoch 1/2\n",
            "2679/2679 [==============================] - 150s 56ms/step - loss: 0.7075 - categorical_accuracy: 0.7213 - val_loss: 8.1701 - val_categorical_accuracy: 0.1202\n",
            "Epoch 2/2\n",
            "2679/2679 [==============================] - 150s 56ms/step - loss: 0.6728 - categorical_accuracy: 0.7351 - val_loss: 7.2066 - val_categorical_accuracy: 0.1534\n"
          ],
          "name": "stdout"
        },
        {
          "output_type": "execute_result",
          "data": {
            "text/plain": [
              "<tensorflow.python.keras.callbacks.History at 0x7f155e1a6a50>"
            ]
          },
          "metadata": {
            "tags": []
          },
          "execution_count": 58
        }
      ]
    },
    {
      "cell_type": "code",
      "metadata": {
        "id": "62N0Tdm9oCc4",
        "colab": {
          "base_uri": "https://localhost:8080/"
        },
        "outputId": "b6191e91-4aa8-409e-8a90-f7fcaaca3e9f"
      },
      "source": [
        "model_testing(X_test, y_test)"
      ],
      "execution_count": null,
      "outputs": [
        {
          "output_type": "stream",
          "text": [
            "582/582 [==============================] - 4s 6ms/step - loss: 0.4060 - categorical_accuracy: 0.8677\n",
            "Test result: [0.4059793949127197, 0.8676992654800415]\n"
          ],
          "name": "stdout"
        },
        {
          "output_type": "stream",
          "text": [
            "/usr/local/lib/python3.7/dist-packages/tensorflow/python/keras/engine/sequential.py:450: UserWarning: `model.predict_classes()` is deprecated and will be removed after 2021-01-01. Please use instead:* `np.argmax(model.predict(x), axis=-1)`,   if your model does multi-class classification   (e.g. if it uses a `softmax` last-layer activation).* `(model.predict(x) > 0.5).astype(\"int32\")`,   if your model does binary classification   (e.g. if it uses a `sigmoid` last-layer activation).\n",
            "  warnings.warn('`model.predict_classes()` is deprecated and '\n"
          ],
          "name": "stderr"
        },
        {
          "output_type": "stream",
          "text": [
            "              precision    recall  f1-score   support\n",
            "\n",
            "           0       0.87      0.91      0.89      8984\n",
            "           1       0.83      0.88      0.86      2702\n",
            "           2       0.94      0.91      0.93      2191\n",
            "           3       0.92      0.77      0.84      1983\n",
            "           4       0.75      0.78      0.76      1442\n",
            "           5       0.84      0.74      0.79      1292\n",
            "\n",
            "    accuracy                           0.87     18594\n",
            "   macro avg       0.86      0.83      0.84     18594\n",
            "weighted avg       0.87      0.87      0.87     18594\n",
            "\n"
          ],
          "name": "stdout"
        }
      ]
    },
    {
      "cell_type": "markdown",
      "metadata": {
        "id": "WB8DSMCV2H4F"
      },
      "source": [
        "## **Train with Class Weights**\n"
      ]
    },
    {
      "cell_type": "code",
      "metadata": {
        "id": "4jS2rullA18F"
      },
      "source": [
        "def generate_class_weights(y_train) :\n",
        "  y_integers = np.argmax(y_train, axis=1)\n",
        "  class_weights = class_weight.compute_class_weight('balanced', np.unique(y_integers), y_integers)\n",
        "  d_class_weights = dict(enumerate(class_weights))\n",
        "  return d_class_weights"
      ],
      "execution_count": null,
      "outputs": []
    },
    {
      "cell_type": "code",
      "metadata": {
        "id": "YlXtG4jisyUf",
        "colab": {
          "base_uri": "https://localhost:8080/"
        },
        "outputId": "b64e2f1e-9c0d-4f83-e591-0f8e341ea1f3"
      },
      "source": [
        "class_weights = generate_class_weights(y_train)\n",
        "EPOCH_NUM = 4\n",
        "# BATCH_SIZE = 1024 use skip-gram parameter\n",
        "activate_lstm = 'relu'\n",
        "activate_out = 'softmax'\n",
        "dropout = 0.5\n",
        "learning_rate = 0.0035\n",
        "model = LSTM_model(embedding_layer, embedding_dim, activate_lstm, activate_out, dropout, ETH_DIM, learning_rate)\n",
        "model.fit(X_train, y_train, batch_size=BATCH_SIZE, epochs=EPOCH_NUM, validation_split=0.2, class_weight=class_weights)"
      ],
      "execution_count": null,
      "outputs": [
        {
          "output_type": "stream",
          "text": [
            "WARNING:tensorflow:Layer lstm_5 will not use cuDNN kernel since it doesn't meet the cuDNN kernel criteria. It will use generic GPU kernel as fallback when running on GPU\n",
            "Epoch 1/4\n",
            "930/930 [==============================] - 55s 57ms/step - loss: 1.4284 - categorical_accuracy: 0.4218 - val_loss: 0.8730 - val_categorical_accuracy: 0.6721\n",
            "Epoch 2/4\n",
            "930/930 [==============================] - 52s 55ms/step - loss: 0.5951 - categorical_accuracy: 0.7235 - val_loss: 0.7163 - val_categorical_accuracy: 0.7249\n",
            "Epoch 3/4\n",
            "930/930 [==============================] - 50s 54ms/step - loss: 0.4890 - categorical_accuracy: 0.7773 - val_loss: 0.7153 - val_categorical_accuracy: 0.7421\n",
            "Epoch 4/4\n",
            "930/930 [==============================] - 51s 54ms/step - loss: 0.4663 - categorical_accuracy: 0.7879 - val_loss: 0.6237 - val_categorical_accuracy: 0.7803\n"
          ],
          "name": "stdout"
        },
        {
          "output_type": "execute_result",
          "data": {
            "text/plain": [
              "<tensorflow.python.keras.callbacks.History at 0x7f155e106d90>"
            ]
          },
          "metadata": {
            "tags": []
          },
          "execution_count": 61
        }
      ]
    },
    {
      "cell_type": "code",
      "metadata": {
        "id": "nzno3q2ID6vJ",
        "colab": {
          "base_uri": "https://localhost:8080/"
        },
        "outputId": "90c98c52-b644-4c59-edf4-d5f4f2e76cd7"
      },
      "source": [
        "model_testing(X_test, y_test)"
      ],
      "execution_count": null,
      "outputs": [
        {
          "output_type": "stream",
          "text": [
            "582/582 [==============================] - 3s 6ms/step - loss: 0.5442 - categorical_accuracy: 0.8145\n",
            "Test result: [0.5441681146621704, 0.8145100474357605]\n"
          ],
          "name": "stdout"
        },
        {
          "output_type": "stream",
          "text": [
            "/usr/local/lib/python3.7/dist-packages/tensorflow/python/keras/engine/sequential.py:450: UserWarning: `model.predict_classes()` is deprecated and will be removed after 2021-01-01. Please use instead:* `np.argmax(model.predict(x), axis=-1)`,   if your model does multi-class classification   (e.g. if it uses a `softmax` last-layer activation).* `(model.predict(x) > 0.5).astype(\"int32\")`,   if your model does binary classification   (e.g. if it uses a `sigmoid` last-layer activation).\n",
            "  warnings.warn('`model.predict_classes()` is deprecated and '\n"
          ],
          "name": "stderr"
        },
        {
          "output_type": "stream",
          "text": [
            "              precision    recall  f1-score   support\n",
            "\n",
            "           0       0.92      0.74      0.82      8984\n",
            "           1       0.80      0.88      0.84      2702\n",
            "           2       0.90      0.93      0.91      2191\n",
            "           3       0.75      0.86      0.80      1983\n",
            "           4       0.58      0.88      0.70      1442\n",
            "           5       0.66      0.86      0.75      1292\n",
            "\n",
            "    accuracy                           0.81     18594\n",
            "   macro avg       0.77      0.86      0.80     18594\n",
            "weighted avg       0.84      0.81      0.82     18594\n",
            "\n"
          ],
          "name": "stdout"
        }
      ]
    },
    {
      "cell_type": "markdown",
      "metadata": {
        "id": "kB3zbA7Y9iAv"
      },
      "source": [
        "## **Tune Parameters**"
      ]
    },
    {
      "cell_type": "code",
      "metadata": {
        "id": "Svi_EJEwE9jR"
      },
      "source": [
        "# EPOCH_NUM_ARR = list(range(600, 801, 200))\n",
        "# BATCH_SIZE_ARR = [1024, 2048]"
      ],
      "execution_count": null,
      "outputs": []
    },
    {
      "cell_type": "code",
      "metadata": {
        "id": "2avQG7-V8mbC"
      },
      "source": [
        "# scores = []\n",
        "# for aEPOCH_NUM in EPOCH_NUM_ARR:\n",
        "#   for aBATCH_SIZE in BATCH_SIZE_ARR:\n",
        "#     model.fit(X_train, y_train, batch_size=aBATCH_SIZE, epochs=aEPOCH_NUM, verbose=0)\n",
        "#     temp_score = model.evaluate(X_train, y_train)\n",
        "#     scores.append(temp_score)"
      ],
      "execution_count": null,
      "outputs": []
    },
    {
      "cell_type": "markdown",
      "metadata": {
        "id": "mPh4pSf2tCIU"
      },
      "source": [
        "# **textCNN - static**"
      ]
    },
    {
      "cell_type": "code",
      "metadata": {
        "id": "mMmyIrvDNZ8T"
      },
      "source": [
        "def text_cnn (max_len, embed_weights, embed_dim, learning_rate, filter_sizes):\n",
        "  text_seq = Input(shape=[max_len], name='x_seq')\n",
        "  emb_text = embedding_layer(embed_weights, embed_dim)(text_seq)\n",
        "  # convolution layer\n",
        "  convs = []\n",
        "  for fsz in filter_sizes:\n",
        "    l_conv = Conv1D(filters=100, kernel_size=fsz, activation='tanh')(emb_text)\n",
        "    l_pool = MaxPooling1D(max_len - fsz + 1)(l_conv)\n",
        "    l_pool = Flatten()(l_pool)\n",
        "    convs.append(l_pool)\n",
        "  merge = concatenate(convs, axis=1)\n",
        "\n",
        "  out = Dropout(0.5)(merge)\n",
        "  output = Dense(units=32, activation='relu')(out)\n",
        "  output = Dense(units=6, activation='sigmoid')(output)\n",
        "\n",
        "  model = Model([text_seq], output)\n",
        "  model.compile(loss='categorical_crossentropy', optimizer='adam', metrics=['categorical_accuracy'])\n",
        "  return model"
      ],
      "execution_count": null,
      "outputs": []
    },
    {
      "cell_type": "code",
      "metadata": {
        "id": "EKbUYQcFXmHC"
      },
      "source": [
        "def cnn_testing(X_test, y_test):\n",
        "  score = cnn_model.evaluate(X_test, y_test)\n",
        "  print(\"Test result:\", score)\n",
        "  y_test_oneHot = np.argmax(y_test, axis=1) # Convert one-hot to index\n",
        "  y_pred = cnn_model.predict(X_test)\n",
        "  y_pred = np.argmax(y_pred,axis=1)\n",
        "  print(classification_report(y_test_oneHot, y_pred))\n",
        "  plot_confusionHeatmap(y_pred, y_test_oneHot)"
      ],
      "execution_count": null,
      "outputs": []
    },
    {
      "cell_type": "code",
      "metadata": {
        "colab": {
          "base_uri": "https://localhost:8080/"
        },
        "id": "FA1hv4BcH1-9",
        "outputId": "86d48391-b2c9-41f6-e0ce-b9b4de48555f"
      },
      "source": [
        "filter_sizes_sets = [[2, 3, 4], [3, 4, 5], [2, 4, 6], [3, 5, 7], [1, 2, 3, 4, 5]]\n",
        "for fszs in filter_sizes_sets:\n",
        "  print(\"filter_sizes =\", fszs)\n",
        "  cnn_model = text_cnn(MAX_SEQUENCE_LENGTH, weights, embedding_dim, learning_rate=0.003, filter_sizes=fszs)\n",
        "  cnn_model.fit(X_train, y_train, validation_split=0, batch_size=64, epochs=5, verbose=0)\n",
        "  cnn_testing(X_test, y_test)"
      ],
      "execution_count": null,
      "outputs": [
        {
          "output_type": "stream",
          "text": [
            "filter_sizes = [2, 3, 4]\n",
            "582/582 [==============================] - 2s 3ms/step - loss: 0.3111 - categorical_accuracy: 0.9021\n",
            "Test result: [0.3111214339733124, 0.9020651578903198]\n",
            "              precision    recall  f1-score   support\n",
            "\n",
            "           0       0.90      0.94      0.92      8984\n",
            "           1       0.91      0.87      0.89      2702\n",
            "           2       0.96      0.93      0.95      2191\n",
            "           3       0.91      0.88      0.89      1983\n",
            "           4       0.83      0.81      0.82      1442\n",
            "           5       0.88      0.79      0.84      1292\n",
            "\n",
            "    accuracy                           0.90     18594\n",
            "   macro avg       0.90      0.87      0.88     18594\n",
            "weighted avg       0.90      0.90      0.90     18594\n",
            "\n",
            "filter_sizes = [3, 4, 5]\n",
            "582/582 [==============================] - 2s 3ms/step - loss: 0.3052 - categorical_accuracy: 0.9055\n",
            "Test result: [0.30523818731307983, 0.9055071473121643]\n",
            "              precision    recall  f1-score   support\n",
            "\n",
            "           0       0.91      0.94      0.92      8984\n",
            "           1       0.90      0.89      0.90      2702\n",
            "           2       0.95      0.94      0.94      2191\n",
            "           3       0.91      0.88      0.90      1983\n",
            "           4       0.86      0.81      0.83      1442\n",
            "           5       0.88      0.80      0.84      1292\n",
            "\n",
            "    accuracy                           0.91     18594\n",
            "   macro avg       0.90      0.88      0.89     18594\n",
            "weighted avg       0.91      0.91      0.91     18594\n",
            "\n",
            "filter_sizes = [2, 4, 6]\n",
            "582/582 [==============================] - 2s 3ms/step - loss: 0.3029 - categorical_accuracy: 0.9066\n",
            "Test result: [0.3029475212097168, 0.906582772731781]\n",
            "              precision    recall  f1-score   support\n",
            "\n",
            "           0       0.91      0.94      0.92      8984\n",
            "           1       0.90      0.89      0.90      2702\n",
            "           2       0.96      0.94      0.95      2191\n",
            "           3       0.93      0.87      0.90      1983\n",
            "           4       0.84      0.84      0.84      1442\n",
            "           5       0.85      0.81      0.83      1292\n",
            "\n",
            "    accuracy                           0.91     18594\n",
            "   macro avg       0.90      0.88      0.89     18594\n",
            "weighted avg       0.91      0.91      0.91     18594\n",
            "\n",
            "filter_sizes = [3, 5, 7]\n",
            "582/582 [==============================] - 2s 3ms/step - loss: 0.3063 - categorical_accuracy: 0.9051\n",
            "Test result: [0.3063143193721771, 0.9051306843757629]\n",
            "              precision    recall  f1-score   support\n",
            "\n",
            "           0       0.91      0.93      0.92      8984\n",
            "           1       0.90      0.89      0.90      2702\n",
            "           2       0.96      0.94      0.95      2191\n",
            "           3       0.88      0.89      0.89      1983\n",
            "           4       0.84      0.84      0.84      1442\n",
            "           5       0.89      0.79      0.84      1292\n",
            "\n",
            "    accuracy                           0.91     18594\n",
            "   macro avg       0.90      0.88      0.89     18594\n",
            "weighted avg       0.91      0.91      0.90     18594\n",
            "\n",
            "filter_sizes = [1, 2, 3, 4, 5]\n",
            "582/582 [==============================] - 2s 3ms/step - loss: 0.3053 - categorical_accuracy: 0.9064\n",
            "Test result: [0.30534905195236206, 0.906421422958374]\n",
            "              precision    recall  f1-score   support\n",
            "\n",
            "           0       0.91      0.93      0.92      8984\n",
            "           1       0.89      0.89      0.89      2702\n",
            "           2       0.95      0.94      0.95      2191\n",
            "           3       0.91      0.89      0.90      1983\n",
            "           4       0.85      0.83      0.84      1442\n",
            "           5       0.87      0.81      0.84      1292\n",
            "\n",
            "    accuracy                           0.91     18594\n",
            "   macro avg       0.90      0.88      0.89     18594\n",
            "weighted avg       0.91      0.91      0.91     18594\n",
            "\n"
          ],
          "name": "stdout"
        }
      ]
    },
    {
      "cell_type": "code",
      "metadata": {
        "colab": {
          "base_uri": "https://localhost:8080/"
        },
        "id": "R120kP1UifBn",
        "outputId": "46134adc-e67e-4c0d-ee8f-50bba4dd50db"
      },
      "source": [
        "cnn_model = text_cnn(MAX_SEQUENCE_LENGTH, weights, embedding_dim, learning_rate=0.003, filter_sizes=[3, 5, 7])\n",
        "cnn_model.fit(X_train, y_train, validation_split=0, batch_size=64, epochs=5, verbose=0)\n",
        "cnn_testing(X_test, y_test)"
      ],
      "execution_count": null,
      "outputs": [
        {
          "output_type": "stream",
          "text": [
            "582/582 [==============================] - 3s 5ms/step - loss: 0.3052 - categorical_accuracy: 0.9051\n",
            "Test result: [0.3052125573158264, 0.9050769209861755]\n"
          ],
          "name": "stdout"
        }
      ]
    },
    {
      "cell_type": "code",
      "metadata": {
        "colab": {
          "base_uri": "https://localhost:8080/",
          "height": 867
        },
        "id": "Si7N5nRSkz_W",
        "outputId": "3c52c1fc-1aca-424a-8177-2a7887beaa4a"
      },
      "source": [
        "cnn_testing(X_test, y_test)"
      ],
      "execution_count": null,
      "outputs": [
        {
          "output_type": "stream",
          "text": [
            "582/582 [==============================] - 3s 5ms/step - loss: 0.3052 - categorical_accuracy: 0.9051\n",
            "Test result: [0.3052125573158264, 0.9050769209861755]\n",
            "              precision    recall  f1-score   support\n",
            "\n",
            "           0       0.91      0.94      0.92      8984\n",
            "           1       0.90      0.89      0.89      2702\n",
            "           2       0.96      0.94      0.95      2191\n",
            "           3       0.91      0.88      0.89      1983\n",
            "           4       0.85      0.81      0.83      1442\n",
            "           5       0.87      0.81      0.84      1292\n",
            "\n",
            "    accuracy                           0.91     18594\n",
            "   macro avg       0.90      0.88      0.89     18594\n",
            "weighted avg       0.90      0.91      0.90     18594\n",
            "\n"
          ],
          "name": "stdout"
        },
        {
          "output_type": "error",
          "ename": "IndexError",
          "evalue": "ignored",
          "traceback": [
            "\u001b[0;31m---------------------------------------------------------------------------\u001b[0m",
            "\u001b[0;31mIndexError\u001b[0m                                Traceback (most recent call last)",
            "\u001b[0;32m<ipython-input-44-c6bf6a2ac08f>\u001b[0m in \u001b[0;36m<module>\u001b[0;34m()\u001b[0m\n\u001b[0;32m----> 1\u001b[0;31m \u001b[0mcnn_testing\u001b[0m\u001b[0;34m(\u001b[0m\u001b[0mX_test\u001b[0m\u001b[0;34m,\u001b[0m \u001b[0my_test\u001b[0m\u001b[0;34m)\u001b[0m\u001b[0;34m\u001b[0m\u001b[0;34m\u001b[0m\u001b[0m\n\u001b[0m",
            "\u001b[0;32m<ipython-input-43-10ec346e769b>\u001b[0m in \u001b[0;36mcnn_testing\u001b[0;34m(X_test, y_test)\u001b[0m\n\u001b[1;32m      6\u001b[0m   \u001b[0my_pred\u001b[0m \u001b[0;34m=\u001b[0m \u001b[0mnp\u001b[0m\u001b[0;34m.\u001b[0m\u001b[0margmax\u001b[0m\u001b[0;34m(\u001b[0m\u001b[0my_pred\u001b[0m\u001b[0;34m,\u001b[0m\u001b[0maxis\u001b[0m\u001b[0;34m=\u001b[0m\u001b[0;36m1\u001b[0m\u001b[0;34m)\u001b[0m\u001b[0;34m\u001b[0m\u001b[0;34m\u001b[0m\u001b[0m\n\u001b[1;32m      7\u001b[0m   \u001b[0mprint\u001b[0m\u001b[0;34m(\u001b[0m\u001b[0mclassification_report\u001b[0m\u001b[0;34m(\u001b[0m\u001b[0my_test_oneHot\u001b[0m\u001b[0;34m,\u001b[0m \u001b[0my_pred\u001b[0m\u001b[0;34m)\u001b[0m\u001b[0;34m)\u001b[0m\u001b[0;34m\u001b[0m\u001b[0;34m\u001b[0m\u001b[0m\n\u001b[0;32m----> 8\u001b[0;31m   \u001b[0mplot_confusionHeatmap\u001b[0m\u001b[0;34m(\u001b[0m\u001b[0my_pred\u001b[0m\u001b[0;34m,\u001b[0m \u001b[0my_test_oneHot\u001b[0m\u001b[0;34m)\u001b[0m\u001b[0;34m\u001b[0m\u001b[0;34m\u001b[0m\u001b[0m\n\u001b[0m",
            "\u001b[0;32m<ipython-input-34-942097d2e003>\u001b[0m in \u001b[0;36mplot_confusionHeatmap\u001b[0;34m(pred, y_real)\u001b[0m\n\u001b[1;32m     29\u001b[0m   \u001b[0;32mfor\u001b[0m \u001b[0mi\u001b[0m \u001b[0;32min\u001b[0m \u001b[0mrange\u001b[0m\u001b[0;34m(\u001b[0m\u001b[0mlen\u001b[0m\u001b[0;34m(\u001b[0m\u001b[0mlabels\u001b[0m\u001b[0;34m)\u001b[0m\u001b[0;34m)\u001b[0m\u001b[0;34m:\u001b[0m\u001b[0;34m\u001b[0m\u001b[0;34m\u001b[0m\u001b[0m\n\u001b[1;32m     30\u001b[0m       \u001b[0;32mfor\u001b[0m \u001b[0mj\u001b[0m \u001b[0;32min\u001b[0m \u001b[0mrange\u001b[0m\u001b[0;34m(\u001b[0m\u001b[0mlen\u001b[0m\u001b[0;34m(\u001b[0m\u001b[0mlabels\u001b[0m\u001b[0;34m)\u001b[0m\u001b[0;34m)\u001b[0m\u001b[0;34m:\u001b[0m\u001b[0;34m\u001b[0m\u001b[0;34m\u001b[0m\u001b[0m\n\u001b[0;32m---> 31\u001b[0;31m           text = ax.text(j, i, confusion_mat[i, j],\n\u001b[0m\u001b[1;32m     32\u001b[0m                         ha=\"center\", va=\"center\", color=\"w\")\n\u001b[1;32m     33\u001b[0m \u001b[0;34m\u001b[0m\u001b[0m\n",
            "\u001b[0;31mIndexError\u001b[0m: index 1 is out of bounds for axis 1 with size 1"
          ]
        },
        {
          "output_type": "display_data",
          "data": {
            "image/png": "[encoded data removed]",
            "text/plain": [
              "<Figure size 432x288 with 1 Axes>"
            ]
          },
          "metadata": {
            "tags": [],
            "needs_background": "light"
          }
        }
      ]
    },
    {
      "cell_type": "markdown",
      "metadata": {
        "id": "yr71_FsXb4xb"
      },
      "source": [
        "### **with class weight**"
      ]
    },
    {
      "cell_type": "code",
      "metadata": {
        "id": "gbIyRMv4K7iR",
        "colab": {
          "base_uri": "https://localhost:8080/",
          "height": 185
        },
        "outputId": "6b8b046f-c247-475d-e364-3b3c82c0e189"
      },
      "source": [
        "cnn_model.fit(X_train, y_train, validation_split=0.2, batch_size=64, epochs=5, class_weight=generate_class_weights(y_train))"
      ],
      "execution_count": null,
      "outputs": [
        {
          "output_type": "error",
          "ename": "NameError",
          "evalue": "ignored",
          "traceback": [
            "\u001b[0;31m---------------------------------------------------------------------------\u001b[0m",
            "\u001b[0;31mNameError\u001b[0m                                 Traceback (most recent call last)",
            "\u001b[0;32m<ipython-input-1-276c3f203ec1>\u001b[0m in \u001b[0;36m<module>\u001b[0;34m()\u001b[0m\n\u001b[0;32m----> 1\u001b[0;31m \u001b[0mcnn_model\u001b[0m\u001b[0;34m.\u001b[0m\u001b[0mfit\u001b[0m\u001b[0;34m(\u001b[0m\u001b[0mX_train\u001b[0m\u001b[0;34m,\u001b[0m \u001b[0my_train\u001b[0m\u001b[0;34m,\u001b[0m \u001b[0mvalidation_split\u001b[0m\u001b[0;34m=\u001b[0m\u001b[0;36m0.2\u001b[0m\u001b[0;34m,\u001b[0m \u001b[0mbatch_size\u001b[0m\u001b[0;34m=\u001b[0m\u001b[0;36m64\u001b[0m\u001b[0;34m,\u001b[0m \u001b[0mepochs\u001b[0m\u001b[0;34m=\u001b[0m\u001b[0;36m5\u001b[0m\u001b[0;34m,\u001b[0m \u001b[0mclass_weight\u001b[0m\u001b[0;34m=\u001b[0m\u001b[0mgenerate_class_weights\u001b[0m\u001b[0;34m(\u001b[0m\u001b[0my_train\u001b[0m\u001b[0;34m)\u001b[0m\u001b[0;34m)\u001b[0m\u001b[0;34m\u001b[0m\u001b[0;34m\u001b[0m\u001b[0m\n\u001b[0m",
            "\u001b[0;31mNameError\u001b[0m: name 'cnn_model' is not defined"
          ]
        }
      ]
    },
    {
      "cell_type": "code",
      "metadata": {
        "colab": {
          "base_uri": "https://localhost:8080/"
        },
        "id": "EQcR5GWgaPWf",
        "outputId": "0740a172-bb09-4767-81c7-b9884a49e275"
      },
      "source": [
        "cnn_testing(X_test, y_test)"
      ],
      "execution_count": null,
      "outputs": [
        {
          "output_type": "stream",
          "text": [
            "582/582 [==============================] - 2s 3ms/step - loss: 0.4481 - categorical_accuracy: 0.8453\n",
            "Test result: [0.44814133644104004, 0.8452726602554321]\n",
            "              precision    recall  f1-score   support\n",
            "\n",
            "           0       0.94      0.77      0.85      8984\n",
            "           1       0.84      0.90      0.87      2702\n",
            "           2       0.95      0.93      0.94      2191\n",
            "           3       0.83      0.90      0.86      1983\n",
            "           4       0.71      0.90      0.79      1442\n",
            "           5       0.55      0.93      0.69      1292\n",
            "\n",
            "    accuracy                           0.85     18594\n",
            "   macro avg       0.80      0.89      0.83     18594\n",
            "weighted avg       0.87      0.85      0.85     18594\n",
            "\n"
          ],
          "name": "stdout"
        }
      ]
    },
    {
      "cell_type": "code",
      "metadata": {
        "id": "Ha315pnIbGgt"
      },
      "source": [
        ""
      ],
      "execution_count": null,
      "outputs": []
    }
  ]
}