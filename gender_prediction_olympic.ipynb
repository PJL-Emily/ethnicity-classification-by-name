{
  "nbformat": 4,
  "nbformat_minor": 0,
  "metadata": {
    "colab": {
      "name": "gender-prediction-olympic.ipynb",
      "provenance": [],
      "collapsed_sections": [],
      "include_colab_link": true
    },
    "kernelspec": {
      "name": "python3",
      "display_name": "Python 3"
    },
    "language_info": {
      "name": "python"
    }
  },
  "cells": [
    {
      "cell_type": "markdown",
      "metadata": {
        "id": "view-in-github",
        "colab_type": "text"
      },
      "source": [
        "<a href=\"https://colab.research.google.com/github/PJL-Emily/ethnicity-classification-by-name/blob/main/gender_prediction_olympic.ipynb\" target=\"_parent\"><img src=\"https://colab.research.google.com/assets/colab-badge.svg\" alt=\"Open In Colab\"/></a>"
      ]
    },
    {
      "cell_type": "code",
      "metadata": {
        "colab": {
          "base_uri": "https://localhost:8080/"
        },
        "id": "Try3GcGX79f_",
        "outputId": "9eb7c8a9-7b93-4d69-e42e-4f61d1568033"
      },
      "source": [
        "from google.colab import drive\n",
        "drive.mount(\"/content/drive\", force_remount=True)"
      ],
      "execution_count": null,
      "outputs": [
        {
          "output_type": "stream",
          "text": [
            "Mounted at /content/drive\n"
          ],
          "name": "stdout"
        }
      ]
    },
    {
      "cell_type": "code",
      "metadata": {
        "id": "zsiSLTtd8Zs6",
        "colab": {
          "base_uri": "https://localhost:8080/"
        },
        "outputId": "e7e4954b-f705-4e60-98a6-fe565add1416"
      },
      "source": [
        "import io\n",
        "import os\n",
        "import pandas as pd\n",
        "import numpy as np\n",
        "import tensorflow as tf\n",
        "import unicodedata as ud\n",
        "import copy\n",
        "import random\n",
        "import matplotlib.pyplot as plt\n",
        "import tqdm\n",
        "import torch\n",
        "\n",
        "\n",
        "from tensorflow.keras import Model, Sequential\n",
        "from tensorflow.keras.layers import Activation, Dense, Dot, Embedding, Flatten, GlobalAveragePooling1D, Reshape, Input, Conv1D, MaxPooling1D, concatenate, Dropout\n",
        "from tensorflow.keras.layers.experimental.preprocessing import TextVectorization\n",
        "from keras.optimizers import Adam\n",
        "from sklearn.utils import class_weight\n",
        "from sklearn.metrics import classification_report\n",
        "from imblearn.over_sampling import RandomOverSampler\n",
        "from imblearn.over_sampling import SMOTE, ADASYN"
      ],
      "execution_count": null,
      "outputs": [
        {
          "output_type": "stream",
          "text": [
            "/usr/local/lib/python3.7/dist-packages/sklearn/externals/six.py:31: FutureWarning: The module is deprecated in version 0.21 and will be removed in version 0.23 since we've dropped support for Python 2.7. Please rely on the official version of six (https://pypi.org/project/six/).\n",
            "  \"(https://pypi.org/project/six/).\", FutureWarning)\n",
            "/usr/local/lib/python3.7/dist-packages/sklearn/utils/deprecation.py:144: FutureWarning: The sklearn.neighbors.base module is  deprecated in version 0.22 and will be removed in version 0.24. The corresponding classes / functions should instead be imported from sklearn.neighbors. Anything that cannot be imported from sklearn.neighbors is now part of the private API.\n",
            "  warnings.warn(message, FutureWarning)\n"
          ],
          "name": "stderr"
        }
      ]
    },
    {
      "cell_type": "code",
      "metadata": {
        "colab": {
          "base_uri": "https://localhost:8080/"
        },
        "id": "CUVVUIcjq4M0",
        "outputId": "9b7ac91c-2053-4611-d32a-fa7437e9f3db"
      },
      "source": [
        "%cd /content/drive/Shareddrives/weilao_research/olympic"
      ],
      "execution_count": null,
      "outputs": [
        {
          "output_type": "stream",
          "text": [
            "/content/drive/Shareddrives/weilao_research/olympic\n"
          ],
          "name": "stdout"
        }
      ]
    },
    {
      "cell_type": "code",
      "metadata": {
        "id": "4Fza7RCYrQz8",
        "colab": {
          "base_uri": "https://localhost:8080/",
          "height": 623
        },
        "outputId": "a7693935-a943-4659-c261-202ec6064c48"
      },
      "source": [
        "athlete = pd.read_csv('./data/athlete_events.csv')\n",
        "display(athlete)"
      ],
      "execution_count": null,
      "outputs": [
        {
          "output_type": "display_data",
          "data": {
            "text/html": [
              "<div>\n",
              "<style scoped>\n",
              "    .dataframe tbody tr th:only-of-type {\n",
              "        vertical-align: middle;\n",
              "    }\n",
              "\n",
              "    .dataframe tbody tr th {\n",
              "        vertical-align: top;\n",
              "    }\n",
              "\n",
              "    .dataframe thead th {\n",
              "        text-align: right;\n",
              "    }\n",
              "</style>\n",
              "<table border=\"1\" class=\"dataframe\">\n",
              "  <thead>\n",
              "    <tr style=\"text-align: right;\">\n",
              "      <th></th>\n",
              "      <th>ID</th>\n",
              "      <th>Name</th>\n",
              "      <th>Sex</th>\n",
              "      <th>Age</th>\n",
              "      <th>Height</th>\n",
              "      <th>Weight</th>\n",
              "      <th>Team</th>\n",
              "      <th>NOC</th>\n",
              "      <th>Games</th>\n",
              "      <th>Year</th>\n",
              "      <th>Season</th>\n",
              "      <th>City</th>\n",
              "      <th>Sport</th>\n",
              "      <th>Event</th>\n",
              "      <th>Medal</th>\n",
              "    </tr>\n",
              "  </thead>\n",
              "  <tbody>\n",
              "    <tr>\n",
              "      <th>0</th>\n",
              "      <td>1</td>\n",
              "      <td>A Dijiang</td>\n",
              "      <td>M</td>\n",
              "      <td>24.0</td>\n",
              "      <td>180.0</td>\n",
              "      <td>80.0</td>\n",
              "      <td>China</td>\n",
              "      <td>CHN</td>\n",
              "      <td>1992 Summer</td>\n",
              "      <td>1992</td>\n",
              "      <td>Summer</td>\n",
              "      <td>Barcelona</td>\n",
              "      <td>Basketball</td>\n",
              "      <td>Basketball Men's Basketball</td>\n",
              "      <td>NaN</td>\n",
              "    </tr>\n",
              "    <tr>\n",
              "      <th>1</th>\n",
              "      <td>2</td>\n",
              "      <td>A Lamusi</td>\n",
              "      <td>M</td>\n",
              "      <td>23.0</td>\n",
              "      <td>170.0</td>\n",
              "      <td>60.0</td>\n",
              "      <td>China</td>\n",
              "      <td>CHN</td>\n",
              "      <td>2012 Summer</td>\n",
              "      <td>2012</td>\n",
              "      <td>Summer</td>\n",
              "      <td>London</td>\n",
              "      <td>Judo</td>\n",
              "      <td>Judo Men's Extra-Lightweight</td>\n",
              "      <td>NaN</td>\n",
              "    </tr>\n",
              "    <tr>\n",
              "      <th>2</th>\n",
              "      <td>3</td>\n",
              "      <td>Gunnar Nielsen Aaby</td>\n",
              "      <td>M</td>\n",
              "      <td>24.0</td>\n",
              "      <td>NaN</td>\n",
              "      <td>NaN</td>\n",
              "      <td>Denmark</td>\n",
              "      <td>DEN</td>\n",
              "      <td>1920 Summer</td>\n",
              "      <td>1920</td>\n",
              "      <td>Summer</td>\n",
              "      <td>Antwerpen</td>\n",
              "      <td>Football</td>\n",
              "      <td>Football Men's Football</td>\n",
              "      <td>NaN</td>\n",
              "    </tr>\n",
              "    <tr>\n",
              "      <th>3</th>\n",
              "      <td>4</td>\n",
              "      <td>Edgar Lindenau Aabye</td>\n",
              "      <td>M</td>\n",
              "      <td>34.0</td>\n",
              "      <td>NaN</td>\n",
              "      <td>NaN</td>\n",
              "      <td>Denmark/Sweden</td>\n",
              "      <td>DEN</td>\n",
              "      <td>1900 Summer</td>\n",
              "      <td>1900</td>\n",
              "      <td>Summer</td>\n",
              "      <td>Paris</td>\n",
              "      <td>Tug-Of-War</td>\n",
              "      <td>Tug-Of-War Men's Tug-Of-War</td>\n",
              "      <td>Gold</td>\n",
              "    </tr>\n",
              "    <tr>\n",
              "      <th>4</th>\n",
              "      <td>5</td>\n",
              "      <td>Christine Jacoba Aaftink</td>\n",
              "      <td>F</td>\n",
              "      <td>21.0</td>\n",
              "      <td>185.0</td>\n",
              "      <td>82.0</td>\n",
              "      <td>Netherlands</td>\n",
              "      <td>NED</td>\n",
              "      <td>1988 Winter</td>\n",
              "      <td>1988</td>\n",
              "      <td>Winter</td>\n",
              "      <td>Calgary</td>\n",
              "      <td>Speed Skating</td>\n",
              "      <td>Speed Skating Women's 500 metres</td>\n",
              "      <td>NaN</td>\n",
              "    </tr>\n",
              "    <tr>\n",
              "      <th>...</th>\n",
              "      <td>...</td>\n",
              "      <td>...</td>\n",
              "      <td>...</td>\n",
              "      <td>...</td>\n",
              "      <td>...</td>\n",
              "      <td>...</td>\n",
              "      <td>...</td>\n",
              "      <td>...</td>\n",
              "      <td>...</td>\n",
              "      <td>...</td>\n",
              "      <td>...</td>\n",
              "      <td>...</td>\n",
              "      <td>...</td>\n",
              "      <td>...</td>\n",
              "      <td>...</td>\n",
              "    </tr>\n",
              "    <tr>\n",
              "      <th>271111</th>\n",
              "      <td>135569</td>\n",
              "      <td>Andrzej ya</td>\n",
              "      <td>M</td>\n",
              "      <td>29.0</td>\n",
              "      <td>179.0</td>\n",
              "      <td>89.0</td>\n",
              "      <td>Poland-1</td>\n",
              "      <td>POL</td>\n",
              "      <td>1976 Winter</td>\n",
              "      <td>1976</td>\n",
              "      <td>Winter</td>\n",
              "      <td>Innsbruck</td>\n",
              "      <td>Luge</td>\n",
              "      <td>Luge Mixed (Men)'s Doubles</td>\n",
              "      <td>NaN</td>\n",
              "    </tr>\n",
              "    <tr>\n",
              "      <th>271112</th>\n",
              "      <td>135570</td>\n",
              "      <td>Piotr ya</td>\n",
              "      <td>M</td>\n",
              "      <td>27.0</td>\n",
              "      <td>176.0</td>\n",
              "      <td>59.0</td>\n",
              "      <td>Poland</td>\n",
              "      <td>POL</td>\n",
              "      <td>2014 Winter</td>\n",
              "      <td>2014</td>\n",
              "      <td>Winter</td>\n",
              "      <td>Sochi</td>\n",
              "      <td>Ski Jumping</td>\n",
              "      <td>Ski Jumping Men's Large Hill, Individual</td>\n",
              "      <td>NaN</td>\n",
              "    </tr>\n",
              "    <tr>\n",
              "      <th>271113</th>\n",
              "      <td>135570</td>\n",
              "      <td>Piotr ya</td>\n",
              "      <td>M</td>\n",
              "      <td>27.0</td>\n",
              "      <td>176.0</td>\n",
              "      <td>59.0</td>\n",
              "      <td>Poland</td>\n",
              "      <td>POL</td>\n",
              "      <td>2014 Winter</td>\n",
              "      <td>2014</td>\n",
              "      <td>Winter</td>\n",
              "      <td>Sochi</td>\n",
              "      <td>Ski Jumping</td>\n",
              "      <td>Ski Jumping Men's Large Hill, Team</td>\n",
              "      <td>NaN</td>\n",
              "    </tr>\n",
              "    <tr>\n",
              "      <th>271114</th>\n",
              "      <td>135571</td>\n",
              "      <td>Tomasz Ireneusz ya</td>\n",
              "      <td>M</td>\n",
              "      <td>30.0</td>\n",
              "      <td>185.0</td>\n",
              "      <td>96.0</td>\n",
              "      <td>Poland</td>\n",
              "      <td>POL</td>\n",
              "      <td>1998 Winter</td>\n",
              "      <td>1998</td>\n",
              "      <td>Winter</td>\n",
              "      <td>Nagano</td>\n",
              "      <td>Bobsleigh</td>\n",
              "      <td>Bobsleigh Men's Four</td>\n",
              "      <td>NaN</td>\n",
              "    </tr>\n",
              "    <tr>\n",
              "      <th>271115</th>\n",
              "      <td>135571</td>\n",
              "      <td>Tomasz Ireneusz ya</td>\n",
              "      <td>M</td>\n",
              "      <td>34.0</td>\n",
              "      <td>185.0</td>\n",
              "      <td>96.0</td>\n",
              "      <td>Poland</td>\n",
              "      <td>POL</td>\n",
              "      <td>2002 Winter</td>\n",
              "      <td>2002</td>\n",
              "      <td>Winter</td>\n",
              "      <td>Salt Lake City</td>\n",
              "      <td>Bobsleigh</td>\n",
              "      <td>Bobsleigh Men's Four</td>\n",
              "      <td>NaN</td>\n",
              "    </tr>\n",
              "  </tbody>\n",
              "</table>\n",
              "<p>271116 rows × 15 columns</p>\n",
              "</div>"
            ],
            "text/plain": [
              "            ID  ... Medal\n",
              "0            1  ...   NaN\n",
              "1            2  ...   NaN\n",
              "2            3  ...   NaN\n",
              "3            4  ...  Gold\n",
              "4            5  ...   NaN\n",
              "...        ...  ...   ...\n",
              "271111  135569  ...   NaN\n",
              "271112  135570  ...   NaN\n",
              "271113  135570  ...   NaN\n",
              "271114  135571  ...   NaN\n",
              "271115  135571  ...   NaN\n",
              "\n",
              "[271116 rows x 15 columns]"
            ]
          },
          "metadata": {
            "tags": []
          }
        }
      ]
    },
    {
      "cell_type": "markdown",
      "metadata": {
        "id": "-xI0He-arfiC"
      },
      "source": [
        "# Getting Unique Values"
      ]
    },
    {
      "cell_type": "code",
      "metadata": {
        "id": "48SdrrnarSSR"
      },
      "source": [
        "def uniqueIndices(df):\n",
        "    seen = set()\n",
        "    res = []\n",
        "    for i, n in enumerate(df['Name']):\n",
        "        if n not in seen:\n",
        "            res.append(i)\n",
        "            seen.add(n)\n",
        "    return res"
      ],
      "execution_count": null,
      "outputs": []
    },
    {
      "cell_type": "code",
      "metadata": {
        "id": "CHsYzqfxrmUk"
      },
      "source": [
        "indices = uniqueIndices(athlete)\n",
        "athlete = athlete.iloc[indices, :].reset_index(drop = True)"
      ],
      "execution_count": null,
      "outputs": []
    },
    {
      "cell_type": "code",
      "metadata": {
        "colab": {
          "base_uri": "https://localhost:8080/",
          "height": 674
        },
        "id": "iHvyOZF7rnzH",
        "outputId": "a9cdf910-e1f1-4275-bb12-21521289a19f"
      },
      "source": [
        "display(athlete)"
      ],
      "execution_count": null,
      "outputs": [
        {
          "output_type": "display_data",
          "data": {
            "text/html": [
              "<div>\n",
              "<style scoped>\n",
              "    .dataframe tbody tr th:only-of-type {\n",
              "        vertical-align: middle;\n",
              "    }\n",
              "\n",
              "    .dataframe tbody tr th {\n",
              "        vertical-align: top;\n",
              "    }\n",
              "\n",
              "    .dataframe thead th {\n",
              "        text-align: right;\n",
              "    }\n",
              "</style>\n",
              "<table border=\"1\" class=\"dataframe\">\n",
              "  <thead>\n",
              "    <tr style=\"text-align: right;\">\n",
              "      <th></th>\n",
              "      <th>ID</th>\n",
              "      <th>Name</th>\n",
              "      <th>Sex</th>\n",
              "      <th>Age</th>\n",
              "      <th>Height</th>\n",
              "      <th>Weight</th>\n",
              "      <th>Team</th>\n",
              "      <th>NOC</th>\n",
              "      <th>Games</th>\n",
              "      <th>Year</th>\n",
              "      <th>Season</th>\n",
              "      <th>City</th>\n",
              "      <th>Sport</th>\n",
              "      <th>Event</th>\n",
              "      <th>Medal</th>\n",
              "    </tr>\n",
              "  </thead>\n",
              "  <tbody>\n",
              "    <tr>\n",
              "      <th>0</th>\n",
              "      <td>1</td>\n",
              "      <td>A Dijiang</td>\n",
              "      <td>M</td>\n",
              "      <td>24.0</td>\n",
              "      <td>180.0</td>\n",
              "      <td>80.0</td>\n",
              "      <td>China</td>\n",
              "      <td>CHN</td>\n",
              "      <td>1992 Summer</td>\n",
              "      <td>1992</td>\n",
              "      <td>Summer</td>\n",
              "      <td>Barcelona</td>\n",
              "      <td>Basketball</td>\n",
              "      <td>Basketball Men's Basketball</td>\n",
              "      <td>NaN</td>\n",
              "    </tr>\n",
              "    <tr>\n",
              "      <th>1</th>\n",
              "      <td>2</td>\n",
              "      <td>A Lamusi</td>\n",
              "      <td>M</td>\n",
              "      <td>23.0</td>\n",
              "      <td>170.0</td>\n",
              "      <td>60.0</td>\n",
              "      <td>China</td>\n",
              "      <td>CHN</td>\n",
              "      <td>2012 Summer</td>\n",
              "      <td>2012</td>\n",
              "      <td>Summer</td>\n",
              "      <td>London</td>\n",
              "      <td>Judo</td>\n",
              "      <td>Judo Men's Extra-Lightweight</td>\n",
              "      <td>NaN</td>\n",
              "    </tr>\n",
              "    <tr>\n",
              "      <th>2</th>\n",
              "      <td>3</td>\n",
              "      <td>Gunnar Nielsen Aaby</td>\n",
              "      <td>M</td>\n",
              "      <td>24.0</td>\n",
              "      <td>NaN</td>\n",
              "      <td>NaN</td>\n",
              "      <td>Denmark</td>\n",
              "      <td>DEN</td>\n",
              "      <td>1920 Summer</td>\n",
              "      <td>1920</td>\n",
              "      <td>Summer</td>\n",
              "      <td>Antwerpen</td>\n",
              "      <td>Football</td>\n",
              "      <td>Football Men's Football</td>\n",
              "      <td>NaN</td>\n",
              "    </tr>\n",
              "    <tr>\n",
              "      <th>3</th>\n",
              "      <td>4</td>\n",
              "      <td>Edgar Lindenau Aabye</td>\n",
              "      <td>M</td>\n",
              "      <td>34.0</td>\n",
              "      <td>NaN</td>\n",
              "      <td>NaN</td>\n",
              "      <td>Denmark/Sweden</td>\n",
              "      <td>DEN</td>\n",
              "      <td>1900 Summer</td>\n",
              "      <td>1900</td>\n",
              "      <td>Summer</td>\n",
              "      <td>Paris</td>\n",
              "      <td>Tug-Of-War</td>\n",
              "      <td>Tug-Of-War Men's Tug-Of-War</td>\n",
              "      <td>Gold</td>\n",
              "    </tr>\n",
              "    <tr>\n",
              "      <th>4</th>\n",
              "      <td>5</td>\n",
              "      <td>Christine Jacoba Aaftink</td>\n",
              "      <td>F</td>\n",
              "      <td>21.0</td>\n",
              "      <td>185.0</td>\n",
              "      <td>82.0</td>\n",
              "      <td>Netherlands</td>\n",
              "      <td>NED</td>\n",
              "      <td>1988 Winter</td>\n",
              "      <td>1988</td>\n",
              "      <td>Winter</td>\n",
              "      <td>Calgary</td>\n",
              "      <td>Speed Skating</td>\n",
              "      <td>Speed Skating Women's 500 metres</td>\n",
              "      <td>NaN</td>\n",
              "    </tr>\n",
              "    <tr>\n",
              "      <th>...</th>\n",
              "      <td>...</td>\n",
              "      <td>...</td>\n",
              "      <td>...</td>\n",
              "      <td>...</td>\n",
              "      <td>...</td>\n",
              "      <td>...</td>\n",
              "      <td>...</td>\n",
              "      <td>...</td>\n",
              "      <td>...</td>\n",
              "      <td>...</td>\n",
              "      <td>...</td>\n",
              "      <td>...</td>\n",
              "      <td>...</td>\n",
              "      <td>...</td>\n",
              "      <td>...</td>\n",
              "    </tr>\n",
              "    <tr>\n",
              "      <th>134727</th>\n",
              "      <td>135567</td>\n",
              "      <td>Aleksandr Viktorovich Zyuzin</td>\n",
              "      <td>M</td>\n",
              "      <td>24.0</td>\n",
              "      <td>183.0</td>\n",
              "      <td>72.0</td>\n",
              "      <td>Russia</td>\n",
              "      <td>RUS</td>\n",
              "      <td>2000 Summer</td>\n",
              "      <td>2000</td>\n",
              "      <td>Summer</td>\n",
              "      <td>Sydney</td>\n",
              "      <td>Rowing</td>\n",
              "      <td>Rowing Men's Lightweight Coxless Fours</td>\n",
              "      <td>NaN</td>\n",
              "    </tr>\n",
              "    <tr>\n",
              "      <th>134728</th>\n",
              "      <td>135568</td>\n",
              "      <td>Olga Igorevna Zyuzkova</td>\n",
              "      <td>F</td>\n",
              "      <td>33.0</td>\n",
              "      <td>171.0</td>\n",
              "      <td>69.0</td>\n",
              "      <td>Belarus</td>\n",
              "      <td>BLR</td>\n",
              "      <td>2016 Summer</td>\n",
              "      <td>2016</td>\n",
              "      <td>Summer</td>\n",
              "      <td>Rio de Janeiro</td>\n",
              "      <td>Basketball</td>\n",
              "      <td>Basketball Women's Basketball</td>\n",
              "      <td>NaN</td>\n",
              "    </tr>\n",
              "    <tr>\n",
              "      <th>134729</th>\n",
              "      <td>135569</td>\n",
              "      <td>Andrzej ya</td>\n",
              "      <td>M</td>\n",
              "      <td>29.0</td>\n",
              "      <td>179.0</td>\n",
              "      <td>89.0</td>\n",
              "      <td>Poland-1</td>\n",
              "      <td>POL</td>\n",
              "      <td>1976 Winter</td>\n",
              "      <td>1976</td>\n",
              "      <td>Winter</td>\n",
              "      <td>Innsbruck</td>\n",
              "      <td>Luge</td>\n",
              "      <td>Luge Mixed (Men)'s Doubles</td>\n",
              "      <td>NaN</td>\n",
              "    </tr>\n",
              "    <tr>\n",
              "      <th>134730</th>\n",
              "      <td>135570</td>\n",
              "      <td>Piotr ya</td>\n",
              "      <td>M</td>\n",
              "      <td>27.0</td>\n",
              "      <td>176.0</td>\n",
              "      <td>59.0</td>\n",
              "      <td>Poland</td>\n",
              "      <td>POL</td>\n",
              "      <td>2014 Winter</td>\n",
              "      <td>2014</td>\n",
              "      <td>Winter</td>\n",
              "      <td>Sochi</td>\n",
              "      <td>Ski Jumping</td>\n",
              "      <td>Ski Jumping Men's Large Hill, Individual</td>\n",
              "      <td>NaN</td>\n",
              "    </tr>\n",
              "    <tr>\n",
              "      <th>134731</th>\n",
              "      <td>135571</td>\n",
              "      <td>Tomasz Ireneusz ya</td>\n",
              "      <td>M</td>\n",
              "      <td>30.0</td>\n",
              "      <td>185.0</td>\n",
              "      <td>96.0</td>\n",
              "      <td>Poland</td>\n",
              "      <td>POL</td>\n",
              "      <td>1998 Winter</td>\n",
              "      <td>1998</td>\n",
              "      <td>Winter</td>\n",
              "      <td>Nagano</td>\n",
              "      <td>Bobsleigh</td>\n",
              "      <td>Bobsleigh Men's Four</td>\n",
              "      <td>NaN</td>\n",
              "    </tr>\n",
              "  </tbody>\n",
              "</table>\n",
              "<p>134732 rows × 15 columns</p>\n",
              "</div>"
            ],
            "text/plain": [
              "            ID  ... Medal\n",
              "0            1  ...   NaN\n",
              "1            2  ...   NaN\n",
              "2            3  ...   NaN\n",
              "3            4  ...  Gold\n",
              "4            5  ...   NaN\n",
              "...        ...  ...   ...\n",
              "134727  135567  ...   NaN\n",
              "134728  135568  ...   NaN\n",
              "134729  135569  ...   NaN\n",
              "134730  135570  ...   NaN\n",
              "134731  135571  ...   NaN\n",
              "\n",
              "[134732 rows x 15 columns]"
            ]
          },
          "metadata": {
            "tags": []
          }
        }
      ]
    },
    {
      "cell_type": "code",
      "metadata": {
        "colab": {
          "base_uri": "https://localhost:8080/",
          "height": 311
        },
        "id": "qGfp0QYurp-Q",
        "outputId": "d806d1bf-151e-46a2-8c46-3242349a2483"
      },
      "source": [
        "X = [0,1,2,3,4,5,6,7,8,9,10]\n",
        "gender_counts = athlete['Sex'].value_counts()\n",
        "mapping_bar_chart = gender_counts.plot.bar()\n",
        "\n",
        "#使用text顯示數值  \n",
        "for a,b in zip(X,gender_counts):  \n",
        "  plt.text(a, b+0.05, '%.0f' % b, ha='center', va= 'bottom',fontsize=11) \n",
        "\n",
        "plt.xlabel('Gender')\n",
        "plt.ylabel('Counts')\n",
        "plt.title('Bar chart')"
      ],
      "execution_count": null,
      "outputs": [
        {
          "output_type": "execute_result",
          "data": {
            "text/plain": [
              "Text(0.5, 1.0, 'Bar chart')"
            ]
          },
          "metadata": {
            "tags": []
          },
          "execution_count": 8
        },
        {
          "output_type": "display_data",
          "data": {
            "image/png": "[encoded data removed]",
            "text/plain": [
              "<Figure size 432x288 with 1 Axes>"
            ]
          },
          "metadata": {
            "tags": [],
            "needs_background": "light"
          }
        }
      ]
    },
    {
      "cell_type": "markdown",
      "metadata": {
        "id": "8QKQ8KwftGgw"
      },
      "source": [
        "# Map Ethnicity"
      ]
    },
    {
      "cell_type": "code",
      "metadata": {
        "id": "zjdtilzOtLR0"
      },
      "source": [
        "muslim_countries = ['KAZ', 'AZE', 'UZB', 'TUR', 'TUN', 'MAR', 'ALG', 'LBA', 'EGY', 'SOM', 'SUD', 'SSD', \\\n",
        "            'UAE', 'IRQ', 'YEM', 'BRN', 'SYR', 'JOR', 'OMA', 'LBN', 'QAT', 'KUW', 'KSA', \\\n",
        "            'BAN', 'PAK', 'IRI', 'AFG']\n",
        "european_countries = ['CZE', 'SVK', 'HUN', 'POL', 'BIH', 'SRB', 'SLO', 'MNE', 'BUL', 'CRO', 'MKD', \\\n",
        "            'GER', 'AUT', 'NED', 'SUI', 'BEL', 'FRA', \\\n",
        "            'LAT', 'EST', 'LTU', 'RUS', 'BLR', 'UKR', 'ROU', 'ITA', 'URS']\n",
        "african_countries = ['CGO', 'COD', 'LBR', 'SEN', 'SLE', 'GBS', 'GEQ', 'GUI', 'PNG', \\\n",
        "            'ZAM', 'RWA', 'TAN', 'KEN', 'SSD', 'ETH', 'UGA', \\\n",
        "            'BOT', 'NAM', 'ZIM', 'RSA']\n",
        "eastasian_countries = ['CAM', 'THA', 'MYA', 'VIE', 'INA', 'MAS', \\\n",
        "             'SGP', 'HKG', 'CHN', 'TPE', 'KOR', 'JPN']\n",
        "southasian_countries = ['NEP', 'IND', 'SRI']\n",
        "hispanic_countries = ['DOM', 'DMA', 'URU', 'GUA', 'COL', 'VEN', 'CHI', 'PAN', \\\n",
        "            'BOL', 'ESA', 'ECU', 'ARG', 'HON', 'HBR', 'BIZ', 'PER', 'CRC', \\\n",
        "            'PAR', 'MEX', 'ESP', 'NCA', 'POR', 'BRA', 'ANG', 'MOZ', 'PHI']\n",
        "nordic_countries = ['DEN', 'SWE', 'NOR', 'FIN']"
      ],
      "execution_count": null,
      "outputs": []
    },
    {
      "cell_type": "code",
      "metadata": {
        "id": "B1pNZICbtLPF"
      },
      "source": [
        "def NOC_to_ethnicity(noc):\n",
        "  if (noc in muslim_countries):\n",
        "    return 'muslim'\n",
        "  if (noc in european_countries):\n",
        "    return 'european'\n",
        "  if (noc in african_countries):\n",
        "    return 'african'\n",
        "  if (noc in eastasian_countries):\n",
        "    return 'eastasian'\n",
        "  if (noc in southasian_countries):\n",
        "    return 'southasian'\n",
        "  if (noc in hispanic_countries):\n",
        "    return 'hispanic'\n",
        "  if (noc in nordic_countries):\n",
        "    return 'nordic'\n",
        "  if (noc == 'GBR' or noc == 'IRL'):\n",
        "    return 'celticenglish'\n",
        "  if (noc == 'ISR'):\n",
        "    return 'jewish'\n",
        "  if (noc == 'GRE'):\n",
        "    return 'greece'\n",
        "  return 'other'"
      ],
      "execution_count": null,
      "outputs": []
    },
    {
      "cell_type": "code",
      "metadata": {
        "colab": {
          "base_uri": "https://localhost:8080/",
          "height": 323
        },
        "id": "ZPlO8TzctLMC",
        "outputId": "60051b86-d750-499a-8516-490f52af8921"
      },
      "source": [
        "athlete['ethnicity'] = athlete['NOC'].apply(lambda m: NOC_to_ethnicity(m))\n",
        "display(athlete.head())"
      ],
      "execution_count": null,
      "outputs": [
        {
          "output_type": "display_data",
          "data": {
            "text/html": [
              "<div>\n",
              "<style scoped>\n",
              "    .dataframe tbody tr th:only-of-type {\n",
              "        vertical-align: middle;\n",
              "    }\n",
              "\n",
              "    .dataframe tbody tr th {\n",
              "        vertical-align: top;\n",
              "    }\n",
              "\n",
              "    .dataframe thead th {\n",
              "        text-align: right;\n",
              "    }\n",
              "</style>\n",
              "<table border=\"1\" class=\"dataframe\">\n",
              "  <thead>\n",
              "    <tr style=\"text-align: right;\">\n",
              "      <th></th>\n",
              "      <th>ID</th>\n",
              "      <th>Name</th>\n",
              "      <th>Sex</th>\n",
              "      <th>Age</th>\n",
              "      <th>Height</th>\n",
              "      <th>Weight</th>\n",
              "      <th>Team</th>\n",
              "      <th>NOC</th>\n",
              "      <th>Games</th>\n",
              "      <th>Year</th>\n",
              "      <th>Season</th>\n",
              "      <th>City</th>\n",
              "      <th>Sport</th>\n",
              "      <th>Event</th>\n",
              "      <th>Medal</th>\n",
              "      <th>ethnicity</th>\n",
              "    </tr>\n",
              "  </thead>\n",
              "  <tbody>\n",
              "    <tr>\n",
              "      <th>0</th>\n",
              "      <td>1</td>\n",
              "      <td>A Dijiang</td>\n",
              "      <td>M</td>\n",
              "      <td>24.0</td>\n",
              "      <td>180.0</td>\n",
              "      <td>80.0</td>\n",
              "      <td>China</td>\n",
              "      <td>CHN</td>\n",
              "      <td>1992 Summer</td>\n",
              "      <td>1992</td>\n",
              "      <td>Summer</td>\n",
              "      <td>Barcelona</td>\n",
              "      <td>Basketball</td>\n",
              "      <td>Basketball Men's Basketball</td>\n",
              "      <td>NaN</td>\n",
              "      <td>eastasian</td>\n",
              "    </tr>\n",
              "    <tr>\n",
              "      <th>1</th>\n",
              "      <td>2</td>\n",
              "      <td>A Lamusi</td>\n",
              "      <td>M</td>\n",
              "      <td>23.0</td>\n",
              "      <td>170.0</td>\n",
              "      <td>60.0</td>\n",
              "      <td>China</td>\n",
              "      <td>CHN</td>\n",
              "      <td>2012 Summer</td>\n",
              "      <td>2012</td>\n",
              "      <td>Summer</td>\n",
              "      <td>London</td>\n",
              "      <td>Judo</td>\n",
              "      <td>Judo Men's Extra-Lightweight</td>\n",
              "      <td>NaN</td>\n",
              "      <td>eastasian</td>\n",
              "    </tr>\n",
              "    <tr>\n",
              "      <th>2</th>\n",
              "      <td>3</td>\n",
              "      <td>Gunnar Nielsen Aaby</td>\n",
              "      <td>M</td>\n",
              "      <td>24.0</td>\n",
              "      <td>NaN</td>\n",
              "      <td>NaN</td>\n",
              "      <td>Denmark</td>\n",
              "      <td>DEN</td>\n",
              "      <td>1920 Summer</td>\n",
              "      <td>1920</td>\n",
              "      <td>Summer</td>\n",
              "      <td>Antwerpen</td>\n",
              "      <td>Football</td>\n",
              "      <td>Football Men's Football</td>\n",
              "      <td>NaN</td>\n",
              "      <td>nordic</td>\n",
              "    </tr>\n",
              "    <tr>\n",
              "      <th>3</th>\n",
              "      <td>4</td>\n",
              "      <td>Edgar Lindenau Aabye</td>\n",
              "      <td>M</td>\n",
              "      <td>34.0</td>\n",
              "      <td>NaN</td>\n",
              "      <td>NaN</td>\n",
              "      <td>Denmark/Sweden</td>\n",
              "      <td>DEN</td>\n",
              "      <td>1900 Summer</td>\n",
              "      <td>1900</td>\n",
              "      <td>Summer</td>\n",
              "      <td>Paris</td>\n",
              "      <td>Tug-Of-War</td>\n",
              "      <td>Tug-Of-War Men's Tug-Of-War</td>\n",
              "      <td>Gold</td>\n",
              "      <td>nordic</td>\n",
              "    </tr>\n",
              "    <tr>\n",
              "      <th>4</th>\n",
              "      <td>5</td>\n",
              "      <td>Christine Jacoba Aaftink</td>\n",
              "      <td>F</td>\n",
              "      <td>21.0</td>\n",
              "      <td>185.0</td>\n",
              "      <td>82.0</td>\n",
              "      <td>Netherlands</td>\n",
              "      <td>NED</td>\n",
              "      <td>1988 Winter</td>\n",
              "      <td>1988</td>\n",
              "      <td>Winter</td>\n",
              "      <td>Calgary</td>\n",
              "      <td>Speed Skating</td>\n",
              "      <td>Speed Skating Women's 500 metres</td>\n",
              "      <td>NaN</td>\n",
              "      <td>european</td>\n",
              "    </tr>\n",
              "  </tbody>\n",
              "</table>\n",
              "</div>"
            ],
            "text/plain": [
              "   ID                      Name  ... Medal  ethnicity\n",
              "0   1                 A Dijiang  ...   NaN  eastasian\n",
              "1   2                  A Lamusi  ...   NaN  eastasian\n",
              "2   3       Gunnar Nielsen Aaby  ...   NaN     nordic\n",
              "3   4      Edgar Lindenau Aabye  ...  Gold     nordic\n",
              "4   5  Christine Jacoba Aaftink  ...   NaN   european\n",
              "\n",
              "[5 rows x 16 columns]"
            ]
          },
          "metadata": {
            "tags": []
          }
        }
      ]
    },
    {
      "cell_type": "markdown",
      "metadata": {
        "id": "tokymmkEsz6v"
      },
      "source": [
        "# Drop Low Frequency Ethnicities"
      ]
    },
    {
      "cell_type": "code",
      "metadata": {
        "colab": {
          "base_uri": "https://localhost:8080/",
          "height": 827
        },
        "id": "ga7yU008sy1i",
        "outputId": "249cdadd-cdde-4b5f-c867-afd8eb307248"
      },
      "source": [
        "for ethnicity in ['other', 'african', 'greece', 'southasian', 'jewish']:\n",
        "  indices = athlete[(athlete['ethnicity'] == ethnicity)].index\n",
        "  athlete.drop(indices, inplace=True)\n",
        "athlete = athlete.reset_index(drop=True)\n",
        "display(athlete)"
      ],
      "execution_count": null,
      "outputs": [
        {
          "output_type": "display_data",
          "data": {
            "text/html": [
              "<div>\n",
              "<style scoped>\n",
              "    .dataframe tbody tr th:only-of-type {\n",
              "        vertical-align: middle;\n",
              "    }\n",
              "\n",
              "    .dataframe tbody tr th {\n",
              "        vertical-align: top;\n",
              "    }\n",
              "\n",
              "    .dataframe thead th {\n",
              "        text-align: right;\n",
              "    }\n",
              "</style>\n",
              "<table border=\"1\" class=\"dataframe\">\n",
              "  <thead>\n",
              "    <tr style=\"text-align: right;\">\n",
              "      <th></th>\n",
              "      <th>ID</th>\n",
              "      <th>Name</th>\n",
              "      <th>Sex</th>\n",
              "      <th>Age</th>\n",
              "      <th>Height</th>\n",
              "      <th>Weight</th>\n",
              "      <th>Team</th>\n",
              "      <th>NOC</th>\n",
              "      <th>Games</th>\n",
              "      <th>Year</th>\n",
              "      <th>Season</th>\n",
              "      <th>City</th>\n",
              "      <th>Sport</th>\n",
              "      <th>Event</th>\n",
              "      <th>Medal</th>\n",
              "      <th>ethnicity</th>\n",
              "    </tr>\n",
              "  </thead>\n",
              "  <tbody>\n",
              "    <tr>\n",
              "      <th>0</th>\n",
              "      <td>1</td>\n",
              "      <td>A Dijiang</td>\n",
              "      <td>M</td>\n",
              "      <td>24.0</td>\n",
              "      <td>180.0</td>\n",
              "      <td>80.0</td>\n",
              "      <td>China</td>\n",
              "      <td>CHN</td>\n",
              "      <td>1992 Summer</td>\n",
              "      <td>1992</td>\n",
              "      <td>Summer</td>\n",
              "      <td>Barcelona</td>\n",
              "      <td>Basketball</td>\n",
              "      <td>Basketball Men's Basketball</td>\n",
              "      <td>NaN</td>\n",
              "      <td>eastasian</td>\n",
              "    </tr>\n",
              "    <tr>\n",
              "      <th>1</th>\n",
              "      <td>2</td>\n",
              "      <td>A Lamusi</td>\n",
              "      <td>M</td>\n",
              "      <td>23.0</td>\n",
              "      <td>170.0</td>\n",
              "      <td>60.0</td>\n",
              "      <td>China</td>\n",
              "      <td>CHN</td>\n",
              "      <td>2012 Summer</td>\n",
              "      <td>2012</td>\n",
              "      <td>Summer</td>\n",
              "      <td>London</td>\n",
              "      <td>Judo</td>\n",
              "      <td>Judo Men's Extra-Lightweight</td>\n",
              "      <td>NaN</td>\n",
              "      <td>eastasian</td>\n",
              "    </tr>\n",
              "    <tr>\n",
              "      <th>2</th>\n",
              "      <td>3</td>\n",
              "      <td>Gunnar Nielsen Aaby</td>\n",
              "      <td>M</td>\n",
              "      <td>24.0</td>\n",
              "      <td>NaN</td>\n",
              "      <td>NaN</td>\n",
              "      <td>Denmark</td>\n",
              "      <td>DEN</td>\n",
              "      <td>1920 Summer</td>\n",
              "      <td>1920</td>\n",
              "      <td>Summer</td>\n",
              "      <td>Antwerpen</td>\n",
              "      <td>Football</td>\n",
              "      <td>Football Men's Football</td>\n",
              "      <td>NaN</td>\n",
              "      <td>nordic</td>\n",
              "    </tr>\n",
              "    <tr>\n",
              "      <th>3</th>\n",
              "      <td>4</td>\n",
              "      <td>Edgar Lindenau Aabye</td>\n",
              "      <td>M</td>\n",
              "      <td>34.0</td>\n",
              "      <td>NaN</td>\n",
              "      <td>NaN</td>\n",
              "      <td>Denmark/Sweden</td>\n",
              "      <td>DEN</td>\n",
              "      <td>1900 Summer</td>\n",
              "      <td>1900</td>\n",
              "      <td>Summer</td>\n",
              "      <td>Paris</td>\n",
              "      <td>Tug-Of-War</td>\n",
              "      <td>Tug-Of-War Men's Tug-Of-War</td>\n",
              "      <td>Gold</td>\n",
              "      <td>nordic</td>\n",
              "    </tr>\n",
              "    <tr>\n",
              "      <th>4</th>\n",
              "      <td>5</td>\n",
              "      <td>Christine Jacoba Aaftink</td>\n",
              "      <td>F</td>\n",
              "      <td>21.0</td>\n",
              "      <td>185.0</td>\n",
              "      <td>82.0</td>\n",
              "      <td>Netherlands</td>\n",
              "      <td>NED</td>\n",
              "      <td>1988 Winter</td>\n",
              "      <td>1988</td>\n",
              "      <td>Winter</td>\n",
              "      <td>Calgary</td>\n",
              "      <td>Speed Skating</td>\n",
              "      <td>Speed Skating Women's 500 metres</td>\n",
              "      <td>NaN</td>\n",
              "      <td>european</td>\n",
              "    </tr>\n",
              "    <tr>\n",
              "      <th>...</th>\n",
              "      <td>...</td>\n",
              "      <td>...</td>\n",
              "      <td>...</td>\n",
              "      <td>...</td>\n",
              "      <td>...</td>\n",
              "      <td>...</td>\n",
              "      <td>...</td>\n",
              "      <td>...</td>\n",
              "      <td>...</td>\n",
              "      <td>...</td>\n",
              "      <td>...</td>\n",
              "      <td>...</td>\n",
              "      <td>...</td>\n",
              "      <td>...</td>\n",
              "      <td>...</td>\n",
              "      <td>...</td>\n",
              "    </tr>\n",
              "    <tr>\n",
              "      <th>92964</th>\n",
              "      <td>135567</td>\n",
              "      <td>Aleksandr Viktorovich Zyuzin</td>\n",
              "      <td>M</td>\n",
              "      <td>24.0</td>\n",
              "      <td>183.0</td>\n",
              "      <td>72.0</td>\n",
              "      <td>Russia</td>\n",
              "      <td>RUS</td>\n",
              "      <td>2000 Summer</td>\n",
              "      <td>2000</td>\n",
              "      <td>Summer</td>\n",
              "      <td>Sydney</td>\n",
              "      <td>Rowing</td>\n",
              "      <td>Rowing Men's Lightweight Coxless Fours</td>\n",
              "      <td>NaN</td>\n",
              "      <td>european</td>\n",
              "    </tr>\n",
              "    <tr>\n",
              "      <th>92965</th>\n",
              "      <td>135568</td>\n",
              "      <td>Olga Igorevna Zyuzkova</td>\n",
              "      <td>F</td>\n",
              "      <td>33.0</td>\n",
              "      <td>171.0</td>\n",
              "      <td>69.0</td>\n",
              "      <td>Belarus</td>\n",
              "      <td>BLR</td>\n",
              "      <td>2016 Summer</td>\n",
              "      <td>2016</td>\n",
              "      <td>Summer</td>\n",
              "      <td>Rio de Janeiro</td>\n",
              "      <td>Basketball</td>\n",
              "      <td>Basketball Women's Basketball</td>\n",
              "      <td>NaN</td>\n",
              "      <td>european</td>\n",
              "    </tr>\n",
              "    <tr>\n",
              "      <th>92966</th>\n",
              "      <td>135569</td>\n",
              "      <td>Andrzej ya</td>\n",
              "      <td>M</td>\n",
              "      <td>29.0</td>\n",
              "      <td>179.0</td>\n",
              "      <td>89.0</td>\n",
              "      <td>Poland-1</td>\n",
              "      <td>POL</td>\n",
              "      <td>1976 Winter</td>\n",
              "      <td>1976</td>\n",
              "      <td>Winter</td>\n",
              "      <td>Innsbruck</td>\n",
              "      <td>Luge</td>\n",
              "      <td>Luge Mixed (Men)'s Doubles</td>\n",
              "      <td>NaN</td>\n",
              "      <td>european</td>\n",
              "    </tr>\n",
              "    <tr>\n",
              "      <th>92967</th>\n",
              "      <td>135570</td>\n",
              "      <td>Piotr ya</td>\n",
              "      <td>M</td>\n",
              "      <td>27.0</td>\n",
              "      <td>176.0</td>\n",
              "      <td>59.0</td>\n",
              "      <td>Poland</td>\n",
              "      <td>POL</td>\n",
              "      <td>2014 Winter</td>\n",
              "      <td>2014</td>\n",
              "      <td>Winter</td>\n",
              "      <td>Sochi</td>\n",
              "      <td>Ski Jumping</td>\n",
              "      <td>Ski Jumping Men's Large Hill, Individual</td>\n",
              "      <td>NaN</td>\n",
              "      <td>european</td>\n",
              "    </tr>\n",
              "    <tr>\n",
              "      <th>92968</th>\n",
              "      <td>135571</td>\n",
              "      <td>Tomasz Ireneusz ya</td>\n",
              "      <td>M</td>\n",
              "      <td>30.0</td>\n",
              "      <td>185.0</td>\n",
              "      <td>96.0</td>\n",
              "      <td>Poland</td>\n",
              "      <td>POL</td>\n",
              "      <td>1998 Winter</td>\n",
              "      <td>1998</td>\n",
              "      <td>Winter</td>\n",
              "      <td>Nagano</td>\n",
              "      <td>Bobsleigh</td>\n",
              "      <td>Bobsleigh Men's Four</td>\n",
              "      <td>NaN</td>\n",
              "      <td>european</td>\n",
              "    </tr>\n",
              "  </tbody>\n",
              "</table>\n",
              "<p>92969 rows × 16 columns</p>\n",
              "</div>"
            ],
            "text/plain": [
              "           ID                          Name  ... Medal  ethnicity\n",
              "0           1                     A Dijiang  ...   NaN  eastasian\n",
              "1           2                      A Lamusi  ...   NaN  eastasian\n",
              "2           3           Gunnar Nielsen Aaby  ...   NaN     nordic\n",
              "3           4          Edgar Lindenau Aabye  ...  Gold     nordic\n",
              "4           5      Christine Jacoba Aaftink  ...   NaN   european\n",
              "...       ...                           ...  ...   ...        ...\n",
              "92964  135567  Aleksandr Viktorovich Zyuzin  ...   NaN   european\n",
              "92965  135568        Olga Igorevna Zyuzkova  ...   NaN   european\n",
              "92966  135569                    Andrzej ya  ...   NaN   european\n",
              "92967  135570                      Piotr ya  ...   NaN   european\n",
              "92968  135571            Tomasz Ireneusz ya  ...   NaN   european\n",
              "\n",
              "[92969 rows x 16 columns]"
            ]
          },
          "metadata": {
            "tags": []
          }
        }
      ]
    },
    {
      "cell_type": "code",
      "metadata": {
        "colab": {
          "base_uri": "https://localhost:8080/",
          "height": 136
        },
        "id": "hebrAekp7L3K",
        "outputId": "2161935a-c4c7-4810-82df-97e8da7c5377"
      },
      "source": [
        "ethnicity_percent = athlete['ethnicity'].value_counts(normalize=True)*100\n",
        "display(ethnicity_percent)"
      ],
      "execution_count": null,
      "outputs": [
        {
          "output_type": "display_data",
          "data": {
            "text/plain": [
              "european         48.306425\n",
              "hispanic         14.239155\n",
              "eastasian        11.972808\n",
              "nordic           11.027332\n",
              "celticenglish     7.572417\n",
              "muslim            6.881864\n",
              "Name: ethnicity, dtype: float64"
            ]
          },
          "metadata": {
            "tags": []
          }
        }
      ]
    },
    {
      "cell_type": "markdown",
      "metadata": {
        "id": "C4wwcLuo7R56"
      },
      "source": [
        "## Distribution Bar Chart"
      ]
    },
    {
      "cell_type": "code",
      "metadata": {
        "colab": {
          "base_uri": "https://localhost:8080/",
          "height": 365
        },
        "id": "mq1Cno9y7RUj",
        "outputId": "fb17acde-099e-4aeb-cff1-215d1740c7a0"
      },
      "source": [
        "# mapping_bar_chart = ethnicity_percent.plot.bar()\n",
        "\n",
        "X = [0,1,2,3,4,5,6,7,8,9]\n",
        "mapping_bar_chart = ethnicity_percent.plot.bar()\n",
        "\n",
        "#使用text顯示數值  \n",
        "for a,b in zip(X,ethnicity_percent):  \n",
        "  plt.text(a, b+0.05, '%.0f' % b, ha='center', va= 'bottom',fontsize=11) \n",
        "\n",
        "plt.xlabel('Ethnicity')\n",
        "plt.ylabel('Percentage')\n",
        "plt.title('Bar chart')"
      ],
      "execution_count": null,
      "outputs": [
        {
          "output_type": "execute_result",
          "data": {
            "text/plain": [
              "Text(0.5, 1.0, 'Bar chart')"
            ]
          },
          "metadata": {
            "tags": []
          },
          "execution_count": 14
        },
        {
          "output_type": "display_data",
          "data": {
            "image/png": "[encoded data removed]",
            "text/plain": [
              "<Figure size 432x288 with 1 Axes>"
            ]
          },
          "metadata": {
            "tags": [],
            "needs_background": "light"
          }
        }
      ]
    },
    {
      "cell_type": "code",
      "metadata": {
        "colab": {
          "base_uri": "https://localhost:8080/",
          "height": 452
        },
        "id": "oHggVhcwQB3J",
        "outputId": "78c63a35-cb0a-4e21-fa13-35700cab4899"
      },
      "source": [
        "athlete_s = athlete.groupby(['ethnicity', 'Sex']).count()\n",
        "athlete_s"
      ],
      "execution_count": null,
      "outputs": [
        {
          "output_type": "execute_result",
          "data": {
            "text/html": [
              "<div>\n",
              "<style scoped>\n",
              "    .dataframe tbody tr th:only-of-type {\n",
              "        vertical-align: middle;\n",
              "    }\n",
              "\n",
              "    .dataframe tbody tr th {\n",
              "        vertical-align: top;\n",
              "    }\n",
              "\n",
              "    .dataframe thead th {\n",
              "        text-align: right;\n",
              "    }\n",
              "</style>\n",
              "<table border=\"1\" class=\"dataframe\">\n",
              "  <thead>\n",
              "    <tr style=\"text-align: right;\">\n",
              "      <th></th>\n",
              "      <th></th>\n",
              "      <th>ID</th>\n",
              "      <th>Name</th>\n",
              "      <th>Age</th>\n",
              "      <th>Height</th>\n",
              "      <th>Weight</th>\n",
              "      <th>Team</th>\n",
              "      <th>NOC</th>\n",
              "      <th>Games</th>\n",
              "      <th>Year</th>\n",
              "      <th>Season</th>\n",
              "      <th>City</th>\n",
              "      <th>Sport</th>\n",
              "      <th>Event</th>\n",
              "      <th>Medal</th>\n",
              "    </tr>\n",
              "    <tr>\n",
              "      <th>ethnicity</th>\n",
              "      <th>Sex</th>\n",
              "      <th></th>\n",
              "      <th></th>\n",
              "      <th></th>\n",
              "      <th></th>\n",
              "      <th></th>\n",
              "      <th></th>\n",
              "      <th></th>\n",
              "      <th></th>\n",
              "      <th></th>\n",
              "      <th></th>\n",
              "      <th></th>\n",
              "      <th></th>\n",
              "      <th></th>\n",
              "      <th></th>\n",
              "    </tr>\n",
              "  </thead>\n",
              "  <tbody>\n",
              "    <tr>\n",
              "      <th rowspan=\"2\" valign=\"top\">celticenglish</th>\n",
              "      <th>F</th>\n",
              "      <td>1713</td>\n",
              "      <td>1713</td>\n",
              "      <td>1677</td>\n",
              "      <td>1406</td>\n",
              "      <td>1384</td>\n",
              "      <td>1713</td>\n",
              "      <td>1713</td>\n",
              "      <td>1713</td>\n",
              "      <td>1713</td>\n",
              "      <td>1713</td>\n",
              "      <td>1713</td>\n",
              "      <td>1713</td>\n",
              "      <td>1713</td>\n",
              "      <td>159</td>\n",
              "    </tr>\n",
              "    <tr>\n",
              "      <th>M</th>\n",
              "      <td>5327</td>\n",
              "      <td>5327</td>\n",
              "      <td>4782</td>\n",
              "      <td>2838</td>\n",
              "      <td>2863</td>\n",
              "      <td>5327</td>\n",
              "      <td>5327</td>\n",
              "      <td>5327</td>\n",
              "      <td>5327</td>\n",
              "      <td>5327</td>\n",
              "      <td>5327</td>\n",
              "      <td>5327</td>\n",
              "      <td>5327</td>\n",
              "      <td>934</td>\n",
              "    </tr>\n",
              "    <tr>\n",
              "      <th rowspan=\"2\" valign=\"top\">eastasian</th>\n",
              "      <th>F</th>\n",
              "      <td>4033</td>\n",
              "      <td>4033</td>\n",
              "      <td>4025</td>\n",
              "      <td>3792</td>\n",
              "      <td>3760</td>\n",
              "      <td>4033</td>\n",
              "      <td>4033</td>\n",
              "      <td>4033</td>\n",
              "      <td>4033</td>\n",
              "      <td>4033</td>\n",
              "      <td>4033</td>\n",
              "      <td>4033</td>\n",
              "      <td>4033</td>\n",
              "      <td>646</td>\n",
              "    </tr>\n",
              "    <tr>\n",
              "      <th>M</th>\n",
              "      <td>7098</td>\n",
              "      <td>7098</td>\n",
              "      <td>6853</td>\n",
              "      <td>6017</td>\n",
              "      <td>6019</td>\n",
              "      <td>7098</td>\n",
              "      <td>7098</td>\n",
              "      <td>7098</td>\n",
              "      <td>7098</td>\n",
              "      <td>7098</td>\n",
              "      <td>7098</td>\n",
              "      <td>7098</td>\n",
              "      <td>7098</td>\n",
              "      <td>619</td>\n",
              "    </tr>\n",
              "    <tr>\n",
              "      <th rowspan=\"2\" valign=\"top\">european</th>\n",
              "      <th>F</th>\n",
              "      <td>11315</td>\n",
              "      <td>11315</td>\n",
              "      <td>11189</td>\n",
              "      <td>10084</td>\n",
              "      <td>9993</td>\n",
              "      <td>11315</td>\n",
              "      <td>11315</td>\n",
              "      <td>11315</td>\n",
              "      <td>11315</td>\n",
              "      <td>11315</td>\n",
              "      <td>11315</td>\n",
              "      <td>11315</td>\n",
              "      <td>11315</td>\n",
              "      <td>1583</td>\n",
              "    </tr>\n",
              "    <tr>\n",
              "      <th>M</th>\n",
              "      <td>33595</td>\n",
              "      <td>33595</td>\n",
              "      <td>31267</td>\n",
              "      <td>22408</td>\n",
              "      <td>22202</td>\n",
              "      <td>33595</td>\n",
              "      <td>33595</td>\n",
              "      <td>33595</td>\n",
              "      <td>33595</td>\n",
              "      <td>33595</td>\n",
              "      <td>33595</td>\n",
              "      <td>33595</td>\n",
              "      <td>33595</td>\n",
              "      <td>5278</td>\n",
              "    </tr>\n",
              "    <tr>\n",
              "      <th rowspan=\"2\" valign=\"top\">hispanic</th>\n",
              "      <th>F</th>\n",
              "      <td>2816</td>\n",
              "      <td>2816</td>\n",
              "      <td>2796</td>\n",
              "      <td>2499</td>\n",
              "      <td>2474</td>\n",
              "      <td>2816</td>\n",
              "      <td>2816</td>\n",
              "      <td>2816</td>\n",
              "      <td>2816</td>\n",
              "      <td>2816</td>\n",
              "      <td>2816</td>\n",
              "      <td>2816</td>\n",
              "      <td>2816</td>\n",
              "      <td>186</td>\n",
              "    </tr>\n",
              "    <tr>\n",
              "      <th>M</th>\n",
              "      <td>10422</td>\n",
              "      <td>10422</td>\n",
              "      <td>9816</td>\n",
              "      <td>7739</td>\n",
              "      <td>7523</td>\n",
              "      <td>10422</td>\n",
              "      <td>10422</td>\n",
              "      <td>10422</td>\n",
              "      <td>10422</td>\n",
              "      <td>10422</td>\n",
              "      <td>10422</td>\n",
              "      <td>10422</td>\n",
              "      <td>10422</td>\n",
              "      <td>688</td>\n",
              "    </tr>\n",
              "    <tr>\n",
              "      <th rowspan=\"2\" valign=\"top\">muslim</th>\n",
              "      <th>F</th>\n",
              "      <td>971</td>\n",
              "      <td>971</td>\n",
              "      <td>966</td>\n",
              "      <td>888</td>\n",
              "      <td>881</td>\n",
              "      <td>971</td>\n",
              "      <td>971</td>\n",
              "      <td>971</td>\n",
              "      <td>971</td>\n",
              "      <td>971</td>\n",
              "      <td>971</td>\n",
              "      <td>971</td>\n",
              "      <td>971</td>\n",
              "      <td>32</td>\n",
              "    </tr>\n",
              "    <tr>\n",
              "      <th>M</th>\n",
              "      <td>5427</td>\n",
              "      <td>5427</td>\n",
              "      <td>4767</td>\n",
              "      <td>4058</td>\n",
              "      <td>4146</td>\n",
              "      <td>5427</td>\n",
              "      <td>5427</td>\n",
              "      <td>5427</td>\n",
              "      <td>5427</td>\n",
              "      <td>5427</td>\n",
              "      <td>5427</td>\n",
              "      <td>5427</td>\n",
              "      <td>5427</td>\n",
              "      <td>271</td>\n",
              "    </tr>\n",
              "    <tr>\n",
              "      <th rowspan=\"2\" valign=\"top\">nordic</th>\n",
              "      <th>F</th>\n",
              "      <td>1895</td>\n",
              "      <td>1895</td>\n",
              "      <td>1895</td>\n",
              "      <td>1560</td>\n",
              "      <td>1499</td>\n",
              "      <td>1895</td>\n",
              "      <td>1895</td>\n",
              "      <td>1895</td>\n",
              "      <td>1895</td>\n",
              "      <td>1895</td>\n",
              "      <td>1895</td>\n",
              "      <td>1895</td>\n",
              "      <td>1895</td>\n",
              "      <td>273</td>\n",
              "    </tr>\n",
              "    <tr>\n",
              "      <th>M</th>\n",
              "      <td>8357</td>\n",
              "      <td>8357</td>\n",
              "      <td>8347</td>\n",
              "      <td>4811</td>\n",
              "      <td>4696</td>\n",
              "      <td>8357</td>\n",
              "      <td>8357</td>\n",
              "      <td>8357</td>\n",
              "      <td>8357</td>\n",
              "      <td>8357</td>\n",
              "      <td>8357</td>\n",
              "      <td>8357</td>\n",
              "      <td>8357</td>\n",
              "      <td>1594</td>\n",
              "    </tr>\n",
              "  </tbody>\n",
              "</table>\n",
              "</div>"
            ],
            "text/plain": [
              "                      ID   Name    Age  Height  ...   City  Sport  Event  Medal\n",
              "ethnicity     Sex                               ...                            \n",
              "celticenglish F     1713   1713   1677    1406  ...   1713   1713   1713    159\n",
              "              M     5327   5327   4782    2838  ...   5327   5327   5327    934\n",
              "eastasian     F     4033   4033   4025    3792  ...   4033   4033   4033    646\n",
              "              M     7098   7098   6853    6017  ...   7098   7098   7098    619\n",
              "european      F    11315  11315  11189   10084  ...  11315  11315  11315   1583\n",
              "              M    33595  33595  31267   22408  ...  33595  33595  33595   5278\n",
              "hispanic      F     2816   2816   2796    2499  ...   2816   2816   2816    186\n",
              "              M    10422  10422   9816    7739  ...  10422  10422  10422    688\n",
              "muslim        F      971    971    966     888  ...    971    971    971     32\n",
              "              M     5427   5427   4767    4058  ...   5427   5427   5427    271\n",
              "nordic        F     1895   1895   1895    1560  ...   1895   1895   1895    273\n",
              "              M     8357   8357   8347    4811  ...   8357   8357   8357   1594\n",
              "\n",
              "[12 rows x 14 columns]"
            ]
          },
          "metadata": {
            "tags": []
          },
          "execution_count": 15
        }
      ]
    },
    {
      "cell_type": "code",
      "metadata": {
        "colab": {
          "base_uri": "https://localhost:8080/",
          "height": 294
        },
        "id": "QlQYxZqb7RQ2",
        "outputId": "0aab790b-4008-4530-9cb0-278f492ac237"
      },
      "source": [
        "bar_width = 0.3\n",
        "\n",
        "countries = ['european', 'hispanic', 'eastasian', 'nordic', 'celticenglish', 'muslim']\n",
        "males = [33595, 10422, 7098, 8357, 5327, 5427]\n",
        "females = [11315, 2816, 4033, 1895, 1713, 971]\n",
        "\n",
        "# [0, 1, 2, 3, 4, 5, 6]\n",
        "m_xpos = [i for i, _ in enumerate(countries)]\n",
        "# [0.4, 1.4, 2.4, 3.4, 4.4, 5.4, 6.4]\n",
        "f_xpos = [val + bar_width for val in m_xpos]\n",
        "\n",
        "plt.xlabel('Countries')\n",
        "plt.ylabel('Athletes')\n",
        "plt.title('Gender')\n",
        "\n",
        "plt.bar(m_xpos, males, label='male', width=bar_width, color='grey')\n",
        "plt.bar(f_xpos, females, label='female', width=bar_width, color='yellow')\n",
        "plt.xticks(range(len(countries)), countries, size='small')\n",
        "\n",
        "plt.legend()\n",
        "plt.show()"
      ],
      "execution_count": null,
      "outputs": [
        {
          "output_type": "display_data",
          "data": {
            "image/png": "[encoded data removed]",
            "text/plain": [
              "<Figure size 432x288 with 1 Axes>"
            ]
          },
          "metadata": {
            "tags": [],
            "needs_background": "light"
          }
        }
      ]
    },
    {
      "cell_type": "markdown",
      "metadata": {
        "id": "fkJucRwhsg9f"
      },
      "source": [
        "# Map EASCII to ASCII"
      ]
    },
    {
      "cell_type": "code",
      "metadata": {
        "id": "oWIBdtCksKMV"
      },
      "source": [
        "def replace_symbols(value):\n",
        "    # 處理()內綽號的刪除\n",
        "    # print(value)\n",
        "    new_name = value\n",
        "    while new_name.find('(') != -1: # 可能有複數個()組合\n",
        "        first = new_name.find('(')\n",
        "        front = new_name[:new_name.find('(')]\n",
        "        back = new_name[new_name.find(')') + 1:]\n",
        "        new_name = front + back\n",
        "    # print(new_name)\n",
        "\n",
        "    # 處理\"\"內綽號的刪除\n",
        "    new_name2 = new_name\n",
        "    while new_name2.find('\"') != -1: # 可能有複數個\"\"組合\n",
        "        first = new_name2.find('\"')\n",
        "        if new_name2.find('\"', first + 1) != -1:\n",
        "            front = new_name2[:first - 1]\n",
        "            back = new_name2[new_name2.find('\"', first + 1) + 1:]\n",
        "            new_name2 = front + back\n",
        "        else: # 有些名字會單獨存在\" e.g. Lala \"nana\n",
        "            new_name2 = new_name2.replace('\"', '')\n",
        "    # print(new_name2)\n",
        "\n",
        "    # 將- /換成space，`&,刪掉\n",
        "    name_s = new_name2.replace(\"-\", \" \")\n",
        "    name_s = name_s.replace(\"`\", \"\")\n",
        "    name_s = name_s.replace(\"/\", \" \")\n",
        "    name_s = name_s.replace(\"&\", \"\")\n",
        "    name_s = name_s.replace(\",\", \"\")\n",
        "    name_s = name_s.replace(\")\", \"\")\n",
        "\n",
        "    name_list = name_s.split(\" \")\n",
        "    if \"\" in name_list:\n",
        "        name_list.remove(\"\")\n",
        "    # print(name_list)\n",
        "\n",
        "    # 目前先選擇最後一個詞用+包\n",
        "    n = len(name_list)\n",
        "    temp = [\"\" for i in range(n)]\n",
        "    result = \"\"\n",
        "    for i in range(n):\n",
        "        temp[i] = \"$\" + name_list[i] + \"$\"\n",
        "        result = result + temp[i]\n",
        "\n",
        "    return result\n",
        "\n",
        "def get_ascii_char(c):\n",
        "    s = ud.decomposition(c)\n",
        "    if s == '': # for an indecomposable character, it returns ''\n",
        "        return c\n",
        "    code = int('0x' + s.split()[0], 0)\n",
        "    return chr(code)\n",
        "\n",
        "def translater(name):\n",
        "    name_clean = replace_symbols(name)\n",
        "    name_EG = \"\"\n",
        "    for letter in name_clean:\n",
        "        name_EG += get_ascii_char(letter).lower()\n",
        "    return name_EG\n"
      ],
      "execution_count": null,
      "outputs": []
    },
    {
      "cell_type": "code",
      "metadata": {
        "colab": {
          "base_uri": "https://localhost:8080/"
        },
        "id": "vz4NNrIksqln",
        "outputId": "a1e20356-56ea-4148-cdaf-3010fd6ad788"
      },
      "source": [
        "athlete_name = list(copy.deepcopy(athlete['Name']))\n",
        "print(\"Number of names: \", len(athlete_name))"
      ],
      "execution_count": null,
      "outputs": [
        {
          "output_type": "stream",
          "text": [
            "Number of names:  92969\n"
          ],
          "name": "stdout"
        }
      ]
    },
    {
      "cell_type": "code",
      "metadata": {
        "colab": {
          "base_uri": "https://localhost:8080/"
        },
        "id": "eXMi1YVsstZn",
        "outputId": "0b3451e7-8bf7-4ecc-fbeb-614abc7902fa"
      },
      "source": [
        "n = len(athlete_name)\n",
        "english_name = [\"\" for i in range(n)]\n",
        "for i in range(len(athlete_name)): # len(athlete_name)\n",
        "    english_name[i] = translater(athlete_name[i])\n",
        "print(len(english_name))\n",
        "print(english_name[0:5])"
      ],
      "execution_count": null,
      "outputs": [
        {
          "output_type": "stream",
          "text": [
            "92969\n",
            "['$a$$dijiang$', '$a$$lamusi$', '$gunnar$$nielsen$$aaby$', '$edgar$$lindenau$$aabye$', '$christine$$jacoba$$aaftink$']\n"
          ],
          "name": "stdout"
        }
      ]
    },
    {
      "cell_type": "markdown",
      "metadata": {
        "id": "y5DaN4pD7iQg"
      },
      "source": [
        "## Bi-gram precessing"
      ]
    },
    {
      "cell_type": "code",
      "metadata": {
        "id": "bAUqK9PW7fjS"
      },
      "source": [
        "def bigram(aName):\n",
        "  n = len(aName)\n",
        "  grams = ['' for i in range(n-1)]\n",
        "  for i in range(n-1):\n",
        "    grams[i] = aName[i:(i+2)]\n",
        "  # print(grams)\n",
        "  return grams\n",
        "\n",
        "def bigramProcessor(names):\n",
        "  n = len(names)\n",
        "  data = [[] for i in range(n)]\n",
        "  for i in range(n):\n",
        "    data[i] = bigram(names[i])\n",
        "  return data"
      ],
      "execution_count": null,
      "outputs": []
    },
    {
      "cell_type": "code",
      "metadata": {
        "id": "Ktw1h3fN7dFk"
      },
      "source": [
        "bi_name = bigramProcessor(english_name)"
      ],
      "execution_count": null,
      "outputs": []
    },
    {
      "cell_type": "code",
      "metadata": {
        "colab": {
          "base_uri": "https://localhost:8080/"
        },
        "id": "mVsQU1XK7pTf",
        "outputId": "f8f20a63-0b5a-4267-98b8-75c936c42b0d"
      },
      "source": [
        "print(bi_name[0])"
      ],
      "execution_count": null,
      "outputs": [
        {
          "output_type": "stream",
          "text": [
            "['$a', 'a$', '$$', '$d', 'di', 'ij', 'ji', 'ia', 'an', 'ng', 'g$']\n"
          ],
          "name": "stdout"
        }
      ]
    },
    {
      "cell_type": "markdown",
      "metadata": {
        "id": "ynV7oMbd7roy"
      },
      "source": [
        "## Bi-gram Length Histogram"
      ]
    },
    {
      "cell_type": "code",
      "metadata": {
        "id": "eqn7KOoQ7qyU"
      },
      "source": [
        "total = len(bi_name)\n",
        "l = [len(bi_name[i]) for i in range(len(bi_name))]\n",
        "l.sort()\n",
        "MAX_SEQUENCE_LENGTH = 30"
      ],
      "execution_count": null,
      "outputs": []
    },
    {
      "cell_type": "code",
      "metadata": {
        "colab": {
          "base_uri": "https://localhost:8080/",
          "height": 350
        },
        "id": "npoiDd567ynr",
        "outputId": "7fac018b-dd23-41e3-edb9-9cb2f62ef22a"
      },
      "source": [
        "plt.hist(l)"
      ],
      "execution_count": null,
      "outputs": [
        {
          "output_type": "execute_result",
          "data": {
            "text/plain": [
              "(array([1.1872e+04, 5.6349e+04, 2.1004e+04, 3.3460e+03, 3.0700e+02,\n",
              "        5.9000e+01, 2.2000e+01, 5.0000e+00, 3.0000e+00, 2.0000e+00]),\n",
              " array([  3. ,  13.6,  24.2,  34.8,  45.4,  56. ,  66.6,  77.2,  87.8,\n",
              "         98.4, 109. ]),\n",
              " <a list of 10 Patch objects>)"
            ]
          },
          "metadata": {
            "tags": []
          },
          "execution_count": 24
        },
        {
          "output_type": "display_data",
          "data": {
            "image/png": "[encoded data removed]",
            "text/plain": [
              "<Figure size 432x288 with 1 Axes>"
            ]
          },
          "metadata": {
            "tags": [],
            "needs_background": "light"
          }
        }
      ]
    },
    {
      "cell_type": "markdown",
      "metadata": {
        "id": "6xf4PtWt72DT"
      },
      "source": [
        "## Character Representation (Skip Gram)"
      ]
    },
    {
      "cell_type": "code",
      "metadata": {
        "id": "pDt3DyNy70oR"
      },
      "source": [
        "def Biname2sequence(bi_name):\n",
        "  vocab, index = {}, 1 # start indexing from 1\n",
        "  vocab['<pad>'] = 0 # add a padding token \n",
        "  for name in bi_name:\n",
        "    for bigram in name:\n",
        "      if bigram not in vocab: \n",
        "        vocab[bigram] = index # word to id\n",
        "        index += 1\n",
        "  vocabulary = list(vocab.keys())\n",
        "  inverse_vocab = {index: token for token, index in vocab.items()} # id to word\n",
        "  print(\"vocabulary size =\",len(vocabulary))\n",
        "  sequence = [] # bi-gram name list to id list\n",
        "  for name in bi_name:\n",
        "    temp = []\n",
        "    for bigram in name:\n",
        "      temp.append(vocab[bigram])\n",
        "    if len(temp) < MAX_SEQUENCE_LENGTH:\n",
        "      while len(temp) < MAX_SEQUENCE_LENGTH:\n",
        "        temp.append(0)\n",
        "    elif len(temp) > MAX_SEQUENCE_LENGTH:\n",
        "        temp = temp[:30]\n",
        "    sequence.append(temp)\n",
        "  for i in range(1):\n",
        "    print(''.join('{} len = {}'.format(sequence[i], len(sequence[i]))))\n",
        "  return vocab, vocabulary, inverse_vocab, sequence\n",
        "\n",
        "# construct skip-gram embedding model\n",
        "class Word2Vec(Model):\n",
        "  def __init__(self, vocab_size, embedding_dim, num_ns):\n",
        "    super(Word2Vec, self).__init__()\n",
        "    self.target_embedding = Embedding(vocab_size, \n",
        "                      embedding_dim,\n",
        "                      input_length=1,\n",
        "                      name=\"w2v_embedding\", )\n",
        "    self.context_embedding = Embedding(vocab_size, \n",
        "                      embedding_dim, \n",
        "                      input_length=num_ns+1)\n",
        "    self.dots = Dot(axes=(3,2))\n",
        "    self.flatten = Flatten()\n",
        "\n",
        "  def call(self, pair):\n",
        "    target, context = pair\n",
        "    we = self.target_embedding(target)\n",
        "    ce = self.context_embedding(context)\n",
        "    dots = self.dots([ce, we])\n",
        "    return self.flatten(dots)\n",
        "\n",
        "# Generates skip-gram pairs with negative sampling for a list of sequences\n",
        "# (int-encoded sentences) based on window size, number of negative samples\n",
        "# and vocabulary size.\n",
        "def generate_training_data(sequences, window_size, num_ns, vocab_size, seed):\n",
        "  tf.random.set_seed(seed)\n",
        "  # Elements of each training example are appended to these lists.\n",
        "  targets, contexts, labels = [], [], []\n",
        "\n",
        "  # Build the sampling table for vocab_size tokens.\n",
        "  sampling_table = tf.keras.preprocessing.sequence.make_sampling_table(vocab_size)\n",
        "\n",
        "  # Iterate over all sequences (sentences) in dataset.\n",
        "  for sequence in tqdm.tqdm(sequences):\n",
        "\n",
        "    # Generate positive skip-gram pairs for a sequence (sentence).\n",
        "    positive_skip_grams, _ = tf.keras.preprocessing.sequence.skipgrams(\n",
        "          sequence, \n",
        "          vocabulary_size=vocab_size,\n",
        "          sampling_table=sampling_table,\n",
        "          window_size=window_size,\n",
        "          negative_samples=0,\n",
        "          seed=seed)\n",
        "    \n",
        "    # Iterate over each positive skip-gram pair to produce training examples \n",
        "    # with positive context word and negative samples.\n",
        "    for target_word, context_word in positive_skip_grams:\n",
        "      context_class = tf.expand_dims(\n",
        "          tf.constant([context_word], dtype=\"int64\"), 1)\n",
        "      negative_sampling_candidates, _, _ = tf.random.log_uniform_candidate_sampler(\n",
        "          true_classes=context_class,\n",
        "          num_true=1, \n",
        "          num_sampled=num_ns, \n",
        "          unique=True, \n",
        "          range_max=vocab_size, \n",
        "          seed=seed, \n",
        "          name=\"negative_sampling\")\n",
        "      # Build context and label vectors (for one target word)\n",
        "      negative_sampling_candidates = tf.expand_dims(\n",
        "          negative_sampling_candidates, 1)\n",
        "\n",
        "      context = tf.concat([context_class, negative_sampling_candidates], 0)\n",
        "      label = tf.constant([1] + [0]*num_ns, dtype=\"int64\")\n",
        "\n",
        "      # Append each element from the training example to global lists.\n",
        "      targets.append(target_word)\n",
        "      contexts.append(context)\n",
        "      labels.append(label)\n",
        "\n",
        "  return targets, contexts, labels\n",
        "\n",
        "def SkipGram(targets, contexts, labels, vocab_size, num_ns, embedding_dim, seed):  \n",
        "  # construct dataset of bi-gram\n",
        "  dataset = tf.data.Dataset.from_tensor_slices(((targets, contexts), labels))\n",
        "  dataset = dataset.shuffle(BUFFER_SIZE).batch(BATCH_SIZE, drop_remainder=False)\n",
        "  dataset = dataset.cache().prefetch(buffer_size=AUTOTUNE)\n",
        "\n",
        "  word2vec = Word2Vec(vocab_size=vocab_size, embedding_dim=embedding_dim, num_ns=num_ns)\n",
        "  word2vec.compile(optimizer='adam',\n",
        "                loss=tf.keras.losses.CategoricalCrossentropy(from_logits=True),\n",
        "                metrics=['accuracy'])\n",
        "  tensorboard_callback = tf.keras.callbacks.TensorBoard(log_dir=\"logs\")\n",
        "  word2vec.fit(dataset, epochs=10, callbacks=[tensorboard_callback])\n",
        "\n",
        "  weights = word2vec.get_layer('w2v_embedding').get_weights()[0]\n",
        "\n",
        "  out_v = io.open('vectors.tsv', 'w', encoding='utf-8')\n",
        "  for index, word in enumerate(vocabulary):\n",
        "    vec = weights[index] \n",
        "    out_v.write('\\t'.join([str(x) for x in vec]) + \"\\n\")\n",
        "  out_v.close()\n",
        "  return weights"
      ],
      "execution_count": null,
      "outputs": []
    },
    {
      "cell_type": "code",
      "metadata": {
        "colab": {
          "base_uri": "https://localhost:8080/"
        },
        "id": "bxlREVeP782y",
        "outputId": "9d726047-f4bb-4167-f8d1-c11e7958af6a"
      },
      "source": [
        "vocab, vocabulary, inverse_vocab, sequence = Biname2sequence(bi_name)"
      ],
      "execution_count": null,
      "outputs": [
        {
          "output_type": "stream",
          "text": [
            "vocabulary size = 767\n",
            "[1, 2, 3, 4, 5, 6, 7, 8, 9, 10, 11, 0, 0, 0, 0, 0, 0, 0, 0, 0, 0, 0, 0, 0, 0, 0, 0, 0, 0, 0] len = 30\n"
          ],
          "name": "stdout"
        }
      ]
    },
    {
      "cell_type": "code",
      "metadata": {
        "id": "VWAOuj5B7_uC",
        "colab": {
          "base_uri": "https://localhost:8080/"
        },
        "outputId": "5776f797-3a0f-463c-9bbd-63b90e8e0e15"
      },
      "source": [
        "isSave = False\n",
        "MYSEED = 1126\n",
        "embedding_dim = 256\n",
        "BATCH_SIZE = 64\n",
        "\n",
        "if not isSave:\n",
        "  window_size = 5\n",
        "  num_ns = 5\n",
        "  targets, contexts, labels = generate_training_data(\n",
        "                        sequences=sequence,\n",
        "                        window_size=window_size,\n",
        "                        num_ns=num_ns,\n",
        "                        vocab_size=len(vocab),\n",
        "                        seed=MYSEED)\n",
        "  \n",
        "  tf.random.set_seed(MYSEED)\n",
        "  AUTOTUNE = tf.data.AUTOTUNE\n",
        "  BUFFER_SIZE = 10000\n",
        "\n",
        "  weights = SkipGram(targets, contexts, labels, len(vocab), num_ns, embedding_dim, MYSEED)\n",
        "else:\n",
        "  weights = []\n",
        "  file = open('vectors.tsv', 'r', encoding='utf-8')\n",
        "  for line in file:\n",
        "    temp_values = line.split()\n",
        "    values = [float(temp_values[i]) for i in range(len(temp_values))]\n",
        "    coefs = np.asarray(values, dtype='float32')\n",
        "    weights.append(coefs)\n",
        "  file.close()\n",
        "  "
      ],
      "execution_count": null,
      "outputs": [
        {
          "output_type": "stream",
          "text": [
            "100%|██████████| 92969/92969 [01:51<00:00, 834.54it/s]\n"
          ],
          "name": "stderr"
        },
        {
          "output_type": "stream",
          "text": [
            "Epoch 1/10\n",
            "19521/19521 [==============================] - 122s 6ms/step - loss: 1.0851 - accuracy: 0.5870\n",
            "Epoch 2/10\n",
            "19521/19521 [==============================] - 137s 7ms/step - loss: 0.9625 - accuracy: 0.6351\n",
            "Epoch 3/10\n",
            "19521/19521 [==============================] - 141s 7ms/step - loss: 0.9501 - accuracy: 0.6390\n",
            "Epoch 4/10\n",
            "19521/19521 [==============================] - 140s 7ms/step - loss: 0.9434 - accuracy: 0.6409\n",
            "Epoch 5/10\n",
            "19521/19521 [==============================] - 142s 7ms/step - loss: 0.9391 - accuracy: 0.6420\n",
            "Epoch 6/10\n",
            "19521/19521 [==============================] - 140s 7ms/step - loss: 0.9361 - accuracy: 0.6425\n",
            "Epoch 7/10\n",
            "19521/19521 [==============================] - 141s 7ms/step - loss: 0.9342 - accuracy: 0.6428\n",
            "Epoch 8/10\n",
            "19521/19521 [==============================] - 141s 7ms/step - loss: 0.9332 - accuracy: 0.6429\n",
            "Epoch 9/10\n",
            "19521/19521 [==============================] - 144s 7ms/step - loss: 0.9326 - accuracy: 0.6430\n",
            "Epoch 10/10\n",
            "19521/19521 [==============================] - 143s 7ms/step - loss: 0.9323 - accuracy: 0.6431\n"
          ],
          "name": "stdout"
        }
      ]
    },
    {
      "cell_type": "code",
      "metadata": {
        "colab": {
          "base_uri": "https://localhost:8080/"
        },
        "id": "2_a3lP0M8C7D",
        "outputId": "c55b4a3e-c31a-42fc-9e5e-6666462d88f1"
      },
      "source": [
        "from sklearn.metrics.pairwise import euclidean_distances\n",
        "from sklearn.manifold import TSNE\n",
        "\n",
        "distance_matrix = euclidean_distances(weights)\n",
        "similar_words = {search_term: [inverse_vocab[idx] for idx in distance_matrix[vocab[search_term]].argsort()[1:6]] \n",
        "                   for search_term in vocabulary[0:5]}\n",
        "similar_words"
      ],
      "execution_count": null,
      "outputs": [
        {
          "output_type": "execute_result",
          "data": {
            "text/plain": [
              "{'$$': [\"'z\", 'wv', 'qs', \"h'\", 'cf'],\n",
              " '$a': ['xc', 'vj', \"q'\", \"'p\", 'yx'],\n",
              " '$d': ['.f', 'vv', 'x.', 'xk', \"'l\"],\n",
              " '<pad>': ['yj', \"h'\", 'jp', 'vv', 'fw'],\n",
              " 'a$': ['vv', \"'z\", '.f', 'wv', 'xm']}"
            ]
          },
          "metadata": {
            "tags": []
          },
          "execution_count": 28
        }
      ]
    },
    {
      "cell_type": "markdown",
      "metadata": {
        "id": "yuj2zPVe8ISV"
      },
      "source": [
        "## Plot Embedded Bi-grams"
      ]
    },
    {
      "cell_type": "code",
      "metadata": {
        "colab": {
          "base_uri": "https://localhost:8080/",
          "height": 537
        },
        "id": "bA9wZW6k8GoX",
        "outputId": "578435f8-ceca-4dd3-eed0-b81d1064fe1b"
      },
      "source": [
        "words = sum([[k] + v for k, v in similar_words.items()], [])\n",
        "words_ids = [vocab[w] for w in words]\n",
        "word_vectors = np.array([weights[idx] for idx in words_ids])\n",
        "print('Total words:', len(words), '\\tWord Embedding shapes:', word_vectors.shape)\n",
        "\n",
        "tsne = TSNE(n_components=2, random_state=0, n_iter=10000, perplexity=0)\n",
        "np.set_printoptions(suppress=True)\n",
        "T = tsne.fit_transform(word_vectors)\n",
        "print(words)\n",
        "plt.figure(figsize=(14, 8))\n",
        "plt.scatter(T[:, 0], T[:, 1], c='steelblue', edgecolors='k')\n",
        "for label, x, y in zip(words, T[:, 0], T[:, 1]):\n",
        "    if label == \"$$\":\n",
        "        label = \"$.$\"\n",
        "    plt.annotate(label, xy=(x+1, y+1), xytext=(0, 0), textcoords='offset points')"
      ],
      "execution_count": null,
      "outputs": [
        {
          "output_type": "stream",
          "text": [
            "Total words: 30 \tWord Embedding shapes: (30, 256)\n",
            "['<pad>', 'yj', \"h'\", 'jp', 'vv', 'fw', '$a', 'xc', 'vj', \"q'\", \"'p\", 'yx', 'a$', 'vv', \"'z\", '.f', 'wv', 'xm', '$$', \"'z\", 'wv', 'qs', \"h'\", 'cf', '$d', '.f', 'vv', 'x.', 'xk', \"'l\"]\n"
          ],
          "name": "stdout"
        },
        {
          "output_type": "display_data",
          "data": {
            "image/png": "[encoded data removed]",
            "text/plain": [
              "<Figure size 1008x576 with 1 Axes>"
            ]
          },
          "metadata": {
            "tags": [],
            "needs_background": "light"
          }
        }
      ]
    },
    {
      "cell_type": "code",
      "metadata": {
        "colab": {
          "base_uri": "https://localhost:8080/"
        },
        "id": "97ZDseQu8MQD",
        "outputId": "b8674947-1fec-4b9f-b836-ed80bdf63568"
      },
      "source": [
        "for i in range(5):\n",
        "  print(inverse_vocab[i], \":\", weights[i][0:5], \"...len =\", len(weights[i]))"
      ],
      "execution_count": null,
      "outputs": [
        {
          "output_type": "stream",
          "text": [
            "<pad> : [ 0.02777114 -0.00449574 -0.00299283  0.03505361  0.04536534] ...len = 256\n",
            "$a : [-0.10540069 -0.52596956 -0.20181979  1.0633808   0.0380748 ] ...len = 256\n",
            "a$ : [ 0.1619413   0.01532525  0.01756983 -0.53152573 -0.4017242 ] ...len = 256\n",
            "$$ : [-0.05850507 -0.08836088 -0.12491047 -0.18418656 -0.0527864 ] ...len = 256\n",
            "$d : [ 0.04981504  0.64851135  0.03737702 -0.09430211  0.39533377] ...len = 256\n"
          ],
          "name": "stdout"
        }
      ]
    },
    {
      "cell_type": "markdown",
      "metadata": {
        "id": "4ZX_nUP58QPa"
      },
      "source": [
        "## Construct Training Dataset"
      ]
    },
    {
      "cell_type": "code",
      "metadata": {
        "colab": {
          "base_uri": "https://localhost:8080/",
          "height": 181
        },
        "id": "IxXio9NxpC2l",
        "outputId": "2b6044fc-a81d-4a02-f8d7-a23315aa4c52"
      },
      "source": [
        "index_test = list(set(range(len(bi_name)))- set(index_train))\n",
        "print(len(index_test))"
      ],
      "execution_count": null,
      "outputs": [
        {
          "output_type": "error",
          "ename": "NameError",
          "evalue": "ignored",
          "traceback": [
            "\u001b[0;31m---------------------------------------------------------------------------\u001b[0m",
            "\u001b[0;31mNameError\u001b[0m                                 Traceback (most recent call last)",
            "\u001b[0;32m<ipython-input-31-50db45a3310e>\u001b[0m in \u001b[0;36m<module>\u001b[0;34m()\u001b[0m\n\u001b[0;32m----> 1\u001b[0;31m \u001b[0mindex_test\u001b[0m \u001b[0;34m=\u001b[0m \u001b[0mlist\u001b[0m\u001b[0;34m(\u001b[0m\u001b[0mset\u001b[0m\u001b[0;34m(\u001b[0m\u001b[0mrange\u001b[0m\u001b[0;34m(\u001b[0m\u001b[0mlen\u001b[0m\u001b[0;34m(\u001b[0m\u001b[0mbi_name\u001b[0m\u001b[0;34m)\u001b[0m\u001b[0;34m)\u001b[0m\u001b[0;34m)\u001b[0m\u001b[0;34m-\u001b[0m \u001b[0mset\u001b[0m\u001b[0;34m(\u001b[0m\u001b[0mindex_train\u001b[0m\u001b[0;34m)\u001b[0m\u001b[0;34m)\u001b[0m\u001b[0;34m\u001b[0m\u001b[0;34m\u001b[0m\u001b[0m\n\u001b[0m\u001b[1;32m      2\u001b[0m \u001b[0mprint\u001b[0m\u001b[0;34m(\u001b[0m\u001b[0mlen\u001b[0m\u001b[0;34m(\u001b[0m\u001b[0mindex_test\u001b[0m\u001b[0;34m)\u001b[0m\u001b[0;34m)\u001b[0m\u001b[0;34m\u001b[0m\u001b[0;34m\u001b[0m\u001b[0m\n",
            "\u001b[0;31mNameError\u001b[0m: name 'index_train' is not defined"
          ]
        }
      ]
    },
    {
      "cell_type": "code",
      "metadata": {
        "id": "e6CmNfxm8Op5"
      },
      "source": [
        "random.seed(MYSEED)\n",
        "tf.random.set_seed(MYSEED)\n",
        "tf.compat.v1.set_random_seed(MYSEED)\n",
        "np.random.seed(MYSEED)\n",
        "AUTOTUNE=tf.data.AUTOTUNE\n",
        "\n",
        "train_num = int(len(bi_name)*0.8)\n",
        "index_train = []\n",
        "while len(index_train) != train_num:\n",
        "  id = random.randint(1, len(bi_name))\n",
        "  if id not in index_train:\n",
        "    index_train.append(id)\n",
        "\n",
        "bi_name_train = []\n",
        "bi_name_test = []\n",
        "gender_train = []\n",
        "gender_test = []\n",
        "gender = athlete['Sex'].tolist()\n",
        "print(gender)\n",
        "\n",
        "for i in range(len(gender)):\n",
        "  if i in index_train:\n",
        "    bi_name_train.append(bi_name[i])\n",
        "    gender_train.append(gender[i])\n",
        "  else:\n",
        "    bi_name_test.append(bi_name[i])\n",
        "    gender_test.append(gender[i])"
      ],
      "execution_count": null,
      "outputs": []
    },
    {
      "cell_type": "code",
      "metadata": {
        "id": "zPmXZSZe8Tkj"
      },
      "source": [
        "print(len(bi_name_train))\n",
        "print(len(gender_train))"
      ],
      "execution_count": null,
      "outputs": []
    },
    {
      "cell_type": "code",
      "metadata": {
        "id": "5A3Viest8iC1"
      },
      "source": [
        "ETH_DIM = 2\n",
        "def constructDataset(raw_biGrams, raw_ethnicity): # input: 2 lists\n",
        "  # X\n",
        "  print(\"bigram num: \", len(raw_biGrams))\n",
        "  print(\"max sequence length: \", MAX_SEQUENCE_LENGTH)\n",
        "  X = np.zeros((len(raw_biGrams), MAX_SEQUENCE_LENGTH))\n",
        "  for i in range(len(raw_biGrams)):\n",
        "    pad = False\n",
        "    for j in range(MAX_SEQUENCE_LENGTH):\n",
        "      X[i][j] = vocab[raw_biGrams[i][j]]\n",
        "      if j == len(raw_biGrams[i]) - 1 and j < MAX_SEQUENCE_LENGTH:\n",
        "        pad = True\n",
        "        break\n",
        "    if pad == True:\n",
        "      j = len(raw_biGrams[i])\n",
        "      while j < MAX_SEQUENCE_LENGTH:\n",
        "          X[i][j] = vocab['<pad>']\n",
        "          j += 1\n",
        "    \n",
        "  # y\n",
        "  y = np.zeros((len(raw_biGrams), ETH_DIM))\n",
        "  for i in range(len(raw_ethnicity)):\n",
        "    if raw_ethnicity[i] == 'M':\n",
        "      y[i][0] = 1\n",
        "    elif raw_ethnicity[i] == 'F':\n",
        "      y[i][1] = 1\n",
        "  \n",
        "  # convert to tensor\n",
        "  X_tensor = tf.convert_to_tensor(X, dtype=tf.int64)\n",
        "  y_tensor = tf.convert_to_tensor(y, dtype=tf.int64)\n",
        "  return X_tensor, y_tensor"
      ],
      "execution_count": null,
      "outputs": []
    },
    {
      "cell_type": "code",
      "metadata": {
        "id": "toeLmzRB-p3s"
      },
      "source": [
        "X_train, y_train = constructDataset(bi_name_train, gender_train)\n",
        "X_test, y_test = constructDataset(bi_name_test, gender_test)"
      ],
      "execution_count": null,
      "outputs": []
    },
    {
      "cell_type": "markdown",
      "metadata": {
        "id": "6-YQshDC-3X9"
      },
      "source": [
        "# Building Model"
      ]
    },
    {
      "cell_type": "markdown",
      "metadata": {
        "id": "L3ZBI8NU_EK9"
      },
      "source": [
        "## Embedding"
      ]
    },
    {
      "cell_type": "code",
      "metadata": {
        "id": "v27Ydk4m-pw1"
      },
      "source": [
        "def embedding_layer(weights, embedding_dim):\n",
        "  embedding_index = weights\n",
        "  embedding_matrix = np.zeros((len(embedding_index)+1, embedding_dim))\n",
        "  for i in range(len(embedding_index)):\n",
        "      embedding_matrix[i] = embedding_index[i]\n",
        "  embeddingLayer = Embedding(len(embedding_index)+1,\n",
        "                            embedding_dim,\n",
        "                            weights=[embedding_matrix],\n",
        "                            input_length=MAX_SEQUENCE_LENGTH,\n",
        "                            trainable=False)\n",
        "  return embeddingLayer"
      ],
      "execution_count": null,
      "outputs": []
    },
    {
      "cell_type": "markdown",
      "metadata": {
        "id": "52HWwUtNAKGS"
      },
      "source": [
        "## LSTM Model"
      ]
    },
    {
      "cell_type": "code",
      "metadata": {
        "id": "JU-nZ0s6AH5i"
      },
      "source": [
        "def LSTM_model(weights, embedding_dim, activate_lstm, activate_out, dropout, ETH_DIM, learning_rate):\n",
        "  model = tf.keras.Sequential()\n",
        "  model.add(embedding_layer(weights, embedding_dim))\n",
        "  model.add(tf.keras.layers.LSTM(activation=activate_lstm, units=embedding_dim, dropout=dropout))\n",
        "  model.add(Dense(units=ETH_DIM, activation=activate_out))\n",
        "  model.compile(optimizer=Adam(lr=learning_rate), loss=\"categorical_crossentropy\", metrics=[\"categorical_accuracy\"])\n",
        "  return(model)\n",
        "  "
      ],
      "execution_count": null,
      "outputs": []
    },
    {
      "cell_type": "markdown",
      "metadata": {
        "id": "vAPIKKyYAykC"
      },
      "source": [
        "# Training"
      ]
    },
    {
      "cell_type": "markdown",
      "metadata": {
        "id": "MxwPDzWfA11N"
      },
      "source": [
        "## Parameter Notes"
      ]
    },
    {
      "cell_type": "code",
      "metadata": {
        "id": "f8kwF-ZhAN9O"
      },
      "source": [
        "EPOCH_NUM = 4\n",
        "# BATCH_SIZE = 1024 use skip-gram parameter\n",
        "activate_lstm = 'relu'\n",
        "activate_out = 'softmax'\n",
        "dropout = 0.5\n",
        "learning_rate = 0.0035\n",
        "lstm_model = LSTM_model(weights, embedding_dim, activate_lstm, activate_out, dropout, ETH_DIM, learning_rate)\n",
        "lstm_model.fit(X_train, y_train, batch_size=BATCH_SIZE, epochs=EPOCH_NUM, validation_split=0.2)"
      ],
      "execution_count": null,
      "outputs": []
    },
    {
      "cell_type": "markdown",
      "metadata": {
        "id": "qrAruCzcFK33"
      },
      "source": [
        "# Testing"
      ]
    },
    {
      "cell_type": "code",
      "metadata": {
        "id": "i3qJC1xQBlz5"
      },
      "source": [
        "def lstm_testing(X_test, y_test):\n",
        "  score = lstm_model.evaluate(X_test, y_test)\n",
        "  print(\"Test result:\", score)\n",
        "\n",
        "  y_test_oneHot = np.argmax(y_test, axis=1) # Convert one-hot to index\n",
        "  y_pred = lstm_model.predict_classes(X_test)\n",
        "  print(classification_report(y_test_oneHot, y_pred))\n",
        "  return y_pred"
      ],
      "execution_count": null,
      "outputs": []
    },
    {
      "cell_type": "code",
      "metadata": {
        "id": "ATQXZZUkFNs-"
      },
      "source": [
        "test_pre = lstm_testing(X_test, y_test)"
      ],
      "execution_count": null,
      "outputs": []
    },
    {
      "cell_type": "markdown",
      "metadata": {
        "id": "Psfwhi3UGQmr"
      },
      "source": [
        "## Plot Prediction"
      ]
    },
    {
      "cell_type": "code",
      "metadata": {
        "id": "HZoUQj6iF1tb"
      },
      "source": [
        "pred = lstm_model.predict(X_test)"
      ],
      "execution_count": null,
      "outputs": []
    },
    {
      "cell_type": "code",
      "metadata": {
        "id": "tUFBlLysHbDZ"
      },
      "source": [
        "def plot_confusionHeatmap(pred, y_real): # one-hot encoded\n",
        "  pred_arr = [0 for i in range(len(pred))]\n",
        "  y_real_arr = [0 for i in range(len(y_real))]\n",
        "  print(\"pred len: \", len(pred))\n",
        "  print(\"y_real len: \", len(y_real))\n",
        "  for i in range(len(pred)): # to numPy\n",
        "    pred_arr[i] = np.argmax(pred[i])\n",
        "    y_real_np = y_real.numpy()\n",
        "    # y_real_np = y_real\n",
        "    y_real_arr[i] = np.argmax(y_real_np[i])\n",
        "  \n",
        "  confusion_mat = tf.math.confusion_matrix(pred_arr, y_real_arr) # row: real, col: pred\n",
        "  confusion_mat = confusion_mat.numpy()\n",
        "  labels = [\"Male\", \"Female\"]\n",
        "\n",
        "  fig, ax = plt.subplots()\n",
        "  im = ax.imshow(confusion_mat)\n",
        "\n",
        "  # show all ticks\n",
        "  ax.set_xticks(np.arange(len(labels)))\n",
        "  ax.set_yticks(np.arange(len(labels)))\n",
        "  # ... and label them with the respective list entries\n",
        "  ax.set_xticklabels(labels)\n",
        "  ax.set_yticklabels(labels)\n",
        "\n",
        "  # Rotate the tick labels and set their alignment.\n",
        "  plt.setp(ax.get_xticklabels(), rotation=45, ha=\"right\",\n",
        "          rotation_mode=\"anchor\")\n",
        "\n",
        "  # Loop over data dimensions and create text annotations.\n",
        "  for i in range(len(labels)):\n",
        "      for j in range(len(labels)):\n",
        "          text = ax.text(j, i, confusion_mat[i, j],\n",
        "                        ha=\"center\", va=\"center\", color=\"w\")\n",
        "\n",
        "  ax.set_title(\"Confusion Matrix For Model\")\n",
        "  ax.set_xlabel('Predicted Label')\n",
        "  ax.set_ylabel('Real Label')\n",
        "  fig.tight_layout()\n",
        "  plt.show()"
      ],
      "execution_count": null,
      "outputs": []
    },
    {
      "cell_type": "code",
      "metadata": {
        "id": "0GB2t4ugHbeS"
      },
      "source": [
        "labels = 'M','F'\n",
        "sizes = pred[5678]\n",
        "print(sizes)\n",
        "plt.pie(sizes, labels=labels, autopct='%1.1f%%')\n",
        "plt.axis('equal')\n",
        "plt.show()"
      ],
      "execution_count": null,
      "outputs": []
    },
    {
      "cell_type": "code",
      "metadata": {
        "id": "4z85YLJQozLF"
      },
      "source": [
        "index_test.sort()\n",
        "id = index_test[5678]\n",
        "print(athlete.loc[id-1])"
      ],
      "execution_count": null,
      "outputs": []
    },
    {
      "cell_type": "code",
      "metadata": {
        "id": "91BCklwBByhj"
      },
      "source": [
        "plot_confusionHeatmap(pred, y_train) # 怎麼用ㄚ"
      ],
      "execution_count": null,
      "outputs": []
    },
    {
      "cell_type": "code",
      "metadata": {
        "id": "cqQpolToCan9"
      },
      "source": [
        ""
      ],
      "execution_count": null,
      "outputs": []
    }
  ]
}